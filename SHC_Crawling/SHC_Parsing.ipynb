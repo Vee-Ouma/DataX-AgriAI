{
 "cells": [
  {
   "cell_type": "code",
   "execution_count": 1,
   "metadata": {},
   "outputs": [],
   "source": [
    "import os\n",
    "import re \n",
    "from glob import iglob\n",
    "import pandas as pd\n",
    "import xml.etree.ElementTree as ET\n",
    "import numpy as np\n",
    "import matplotlib.pyplot as plt\n",
    "import matplotlib.cm as cm\n",
    "import seaborn as sb\n",
    "from sklearn import linear_model\n",
    "from urllib.request import urlopen\n",
    "from bs4 import BeautifulSoup"
   ]
  },
  {
   "cell_type": "markdown",
   "metadata": {},
   "source": [
    "#### Setting up the Base path and making a dummy dataframe"
   ]
  },
  {
   "cell_type": "code",
   "execution_count": 2,
   "metadata": {},
   "outputs": [],
   "source": [
    "base_path = r'C:/Users/Manan Arora/Desktop/Plaksha TLF/DataX Project/Agriculture/Datatsets/SHC_StateWise/Punjab/**/*.xml'\n",
    "global_soil_database_df = pd.DataFrame()\n",
    "soil_data_labels = ['SampleNo', 'SampleCollectionDate', 'LandArea', 'Irrigation', 'Longitude',\n",
    "                    'Latitude', 'pH', 'EC', 'Organic Carbon (OC)', 'Available Nitrogen (N)', \n",
    "                    'Available Phosphorus (P)', 'Available Potassium (K)', 'Available Sulphur (S)',\n",
    "                    'Available Zinc (Zn)', 'Available Boron (B)', 'Available Iron (Fe)', \n",
    "                    'Available Manganese (Mn)', 'Available Copper (Cu)']\n",
    "soil_database_df = pd.DataFrame(columns=soil_data_labels)"
   ]
  },
  {
   "cell_type": "markdown",
   "metadata": {},
   "source": [
    "#### Get basic Soil Health Card Infromation from each sample "
   ]
  },
  {
   "cell_type": "code",
   "execution_count": 3,
   "metadata": {},
   "outputs": [],
   "source": [
    "for file_path in iglob(base_path, recursive=True):\n",
    "    #print(file_path)\n",
    "    tree = ET.parse(file_path)    \n",
    "    root = tree.getroot()\n",
    "    display_iter = root.iter('{SoilHealthCard}Details1')\n",
    "    shc_info = next(display_iter)\n",
    "    GeoPosition = shc_info.get('Textbox6')\n",
    "    pattern = '\\d+\\.\\d+'\n",
    "    location = re.findall(pattern, GeoPosition)\n",
    "    sample_data = [shc_info.get('Sample_No'), shc_info.get('Sample_Collection_Date'),shc_info.get('Land_Area'),shc_info.get('Irrigation_Rainfed1'),location[0], location[1]]\n",
    "    display_iter = display_iter.__iter__()\n",
    "    for temp_test_data in display_iter:\n",
    "        sample_data.append(temp_test_data.get(\"TestValue1\") + \" \" + temp_test_data.get('Unit') + \": \" +  temp_test_data.get(\"Rating\"))\n",
    "    soil_database_df = soil_database_df.append(pd.DataFrame([sample_data], columns=soil_data_labels),ignore_index=True)"
   ]
  },
  {
   "cell_type": "code",
   "execution_count": 4,
   "metadata": {},
   "outputs": [],
   "source": [
    "#Saving it to a CSV\n",
    "soil_database_df.to_csv(r\"C:\\Users\\Manan Arora\\Desktop\\Plaksha TLF\\DataX Project\\Agriculture\\Datatsets\\SHC_Punjab_Amritsar_Ajnala_Basic.csv\",index = False)"
   ]
  },
  {
   "cell_type": "markdown",
   "metadata": {},
   "source": [
    "#### Getting General Soil Fertliser Recomendations per Sample"
   ]
  },
  {
   "cell_type": "code",
   "execution_count": 5,
   "metadata": {},
   "outputs": [],
   "source": [
    "sample_nos = []\n",
    "parameters = []\n",
    "soils = []\n",
    "sprays = []\n",
    "\n",
    "for file_path in iglob(base_path, recursive=True):\n",
    "    tree = ET.parse(file_path)\n",
    "    root = tree.getroot()    \n",
    "    display_iter1 = root.iter('{SoilHealthCard}Details1')\n",
    "    shc_info = next(display_iter1)\n",
    "    sample_no = shc_info.get('Sample_No')\n",
    "    display_iter2 = root.iter('{SoilHealthCard}Details')\n",
    "    display_iter2 = display_iter2.__iter__()\n",
    "    #next(display_iter2)\n",
    "    for temp_test_data in display_iter2:\n",
    "        sample_nos +=[sample_no]\n",
    "        parameters += [temp_test_data.get('TestName')]\n",
    "        soils += [temp_test_data.get('Textbox12')]\n",
    "        sprays += [temp_test_data.get('Textbox13')]\n",
    "general_reco = pd.DataFrame(data = {'SampleNo':sample_nos, 'Parameters':parameters,'Fertilizer_Recommendations_ThroughSoil':soils,'Fertilizer_Recommendations_ThroughSpray':sprays})"
   ]
  },
  {
   "cell_type": "code",
   "execution_count": 6,
   "metadata": {},
   "outputs": [],
   "source": [
    "#Saving it to a CSV\n",
    "general_reco.to_csv(r\"C:\\Users\\Manan Arora\\Desktop\\Plaksha TLF\\DataX Project\\Agriculture\\Datatsets\\SHC_Punjab_Amritsar_Ajnala_Recomendations.csv\",index = False)"
   ]
  },
  {
   "cell_type": "markdown",
   "metadata": {},
   "source": [
    "#### Getting Crop Specific Fertiliser Recommendations per Sample"
   ]
  },
  {
   "cell_type": "code",
   "execution_count": 7,
   "metadata": {},
   "outputs": [],
   "source": [
    "sample_nos = []\n",
    "crop_names = []\n",
    "fert_comb1 = []\n",
    "fert_comb2 = []\n",
    "for file_path in iglob(base_path, recursive=True):\n",
    "    tree = ET.parse(file_path)\n",
    "    root = tree.getroot()    \n",
    "    display_iter1 = root.iter('{SoilHealthCard}Details1')\n",
    "    shc_info = next(display_iter1)\n",
    "    sample_no = shc_info.get('Sample_No')\n",
    "    display_iter2 = root.iter('{SoilHealthCard}Details4')\n",
    "    display_iter2 = display_iter2.__iter__()\n",
    "    next(display_iter2)\n",
    "    for temp_test_data in display_iter2:\n",
    "        sample_nos +=[sample_no]\n",
    "        try:\n",
    "            crop_names += [temp_test_data.get(\"Crop_Name1\")]\n",
    "            try:\n",
    "                fert_comb1+= [temp_test_data.get(\"Comb1_Fert1_name\") +  \": \" + temp_test_data.get(\"Comb1_Fert1_Mod_dose\") + \" | \" + temp_test_data.get(\"Comb1_Fert2_name\") + \": \" +  temp_test_data.get(\"Comb1_Fert2_Mod_dose\") + \" | \" + temp_test_data.get(\"Comb1_Fert3_name\") + \": \" +  temp_test_data.get(\"Comb1_Fert3_Mod_dose\")]\n",
    "            except:\n",
    "                fert_comb1+=[\"None\"]\n",
    "            try: \n",
    "                fert_comb2+= [temp_test_data.get(\"Comb2_Fert1_name\") +  \": \" + temp_test_data.get(\"Comb2_Fert1_Mod_dose\") + \" | \" + temp_test_data.get(\"Comb2_Fert2_name\") + \": \" +  temp_test_data.get(\"Comb2_Fert2_Mod_dose\") + \" | \" + temp_test_data.get(\"Comb2_Fert3_name\") + \": \" +  temp_test_data.get(\"Comb2_Fert3_Mod_dose\")]\n",
    "            except:\n",
    "                fert_comb2+=[\"None\"]\n",
    "        except:\n",
    "            crop_names += [\"\"] \n",
    "fert_reco = pd.DataFrame(data = {'SampleNo': sample_nos, 'Crop_Name':crop_names,'Fertiliser_Combination_1': fert_comb1 , 'Fertiliser_Combination_2': fert_comb2})            "
   ]
  },
  {
   "cell_type": "code",
   "execution_count": 8,
   "metadata": {},
   "outputs": [],
   "source": [
    "#Saving it to a CSV\n",
    "fert_reco.to_csv(r\"C:\\Users\\Manan Arora\\Desktop\\Plaksha TLF\\DataX Project\\Agriculture\\Datatsets\\SHC_Punjab_Amritsar_Ajnala_Fertilizers.csv\",index = False)"
   ]
  }
 ],
 "metadata": {
  "kernelspec": {
   "display_name": "Python 3",
   "language": "python",
   "name": "python3"
  },
  "language_info": {
   "codemirror_mode": {
    "name": "ipython",
    "version": 3
   },
   "file_extension": ".py",
   "mimetype": "text/x-python",
   "name": "python",
   "nbconvert_exporter": "python",
   "pygments_lexer": "ipython3",
   "version": "3.7.3"
  }
 },
 "nbformat": 4,
 "nbformat_minor": 4
}
