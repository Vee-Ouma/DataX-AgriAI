{
 "cells": [
  {
   "cell_type": "code",
   "execution_count": 165,
   "metadata": {},
   "outputs": [],
   "source": [
    "from __future__ import print_function, division, absolute_import \n",
    "\n",
    "# Remove warnings\n",
    "import warnings\n",
    "warnings.filterwarnings('ignore')\n",
    "\n",
    "import matplotlib.pyplot as plt\n",
    "%matplotlib inline\n",
    "\n",
    "import pandas as pd\n",
    "import numpy as np"
   ]
  },
  {
   "cell_type": "markdown",
   "metadata": {},
   "source": [
    "### Importing the Plantix Data"
   ]
  },
  {
   "cell_type": "code",
   "execution_count": 166,
   "metadata": {},
   "outputs": [],
   "source": [
    "raw_data = pd.read_excel(r\"C:\\Users\\Manan Arora\\Desktop\\Plaksha TLF\\Term 2\\DataX Project\\Agriculture\\Datatsets\\Plantix_Scrapped_data.xlsx\")"
   ]
  },
  {
   "cell_type": "code",
   "execution_count": 167,
   "metadata": {},
   "outputs": [
    {
     "data": {
      "text/html": [
       "<div>\n",
       "<style scoped>\n",
       "    .dataframe tbody tr th:only-of-type {\n",
       "        vertical-align: middle;\n",
       "    }\n",
       "\n",
       "    .dataframe tbody tr th {\n",
       "        vertical-align: top;\n",
       "    }\n",
       "\n",
       "    .dataframe thead th {\n",
       "        text-align: right;\n",
       "    }\n",
       "</style>\n",
       "<table border=\"1\" class=\"dataframe\">\n",
       "  <thead>\n",
       "    <tr style=\"text-align: right;\">\n",
       "      <th></th>\n",
       "      <th>Name</th>\n",
       "      <th>Link</th>\n",
       "      <th>Symptoms</th>\n",
       "      <th>Trigger</th>\n",
       "      <th>Biological_Control</th>\n",
       "      <th>Chemical_Control</th>\n",
       "      <th>Preventive_Measure</th>\n",
       "    </tr>\n",
       "  </thead>\n",
       "  <tbody>\n",
       "    <tr>\n",
       "      <th>0</th>\n",
       "      <td>Tomato Yellow Leaf Curl Virus</td>\n",
       "      <td>https://plantix.net/plant-disease/en/200036/to...</td>\n",
       "      <td>When it infects plants at the seedling stage,...</td>\n",
       "      <td>Tomato Yellow Leaf Curl Virus is not seed-born...</td>\n",
       "      <td>Sorry, we don't know any alternative treatmen...</td>\n",
       "      <td>Always consider an integrated approach with p...</td>\n",
       "      <td>Use resistant or tolerant varieties.  Plant e...</td>\n",
       "    </tr>\n",
       "    <tr>\n",
       "      <th>1</th>\n",
       "      <td>Bean Fly</td>\n",
       "      <td>https://plantix.net/plant-disease/en/600264/be...</td>\n",
       "      <td>The young leaves show a large number of punct...</td>\n",
       "      <td>Symptoms are caused by the larvae and adults ...</td>\n",
       "      <td>There are several natural enemies of the bean...</td>\n",
       "      <td>Always consider an integrated approach with p...</td>\n",
       "      <td>If available, plant resistant varieties.  Pla...</td>\n",
       "    </tr>\n",
       "    <tr>\n",
       "      <th>2</th>\n",
       "      <td>Potato Scab</td>\n",
       "      <td>https://plantix.net/plant-disease/en/300009/po...</td>\n",
       "      <td>No symptoms are visible on the aerial parts o...</td>\n",
       "      <td>Symptoms are caused by the bacterium Streptom...</td>\n",
       "      <td>Treatment of potato plants with compost, comp...</td>\n",
       "      <td>Always consider an integrated approach with p...</td>\n",
       "      <td>Plant tolerant varieties.  Ensure well-coordi...</td>\n",
       "    </tr>\n",
       "    <tr>\n",
       "      <th>3</th>\n",
       "      <td>Helicoverpa Caterpillar</td>\n",
       "      <td>https://plantix.net/plant-disease/en/600289/he...</td>\n",
       "      <td>Whitish to brown eggs can be found in cluster...</td>\n",
       "      <td>The damage is caused by the caterpillar of He...</td>\n",
       "      <td>Trichogramma wasps (T. chilonis or T. brasili...</td>\n",
       "      <td>Always consider an integrated approach with p...</td>\n",
       "      <td>Use resistant or tolerant varieties if availa...</td>\n",
       "    </tr>\n",
       "    <tr>\n",
       "      <th>4</th>\n",
       "      <td>Early Blight</td>\n",
       "      <td>https://plantix.net/plant-disease/en/100321/ea...</td>\n",
       "      <td>Symptoms of early blight occur on older folia...</td>\n",
       "      <td>Symptoms are caused by Alternaria solani, a f...</td>\n",
       "      <td>Small farmers may use algal limestone, a mixt...</td>\n",
       "      <td>Always consider an integrated approach with p...</td>\n",
       "      <td>Use certified pathogen-free seeds or transpla...</td>\n",
       "    </tr>\n",
       "  </tbody>\n",
       "</table>\n",
       "</div>"
      ],
      "text/plain": [
       "                            Name  \\\n",
       "0  Tomato Yellow Leaf Curl Virus   \n",
       "1                       Bean Fly   \n",
       "2                    Potato Scab   \n",
       "3        Helicoverpa Caterpillar   \n",
       "4                   Early Blight   \n",
       "\n",
       "                                                Link  \\\n",
       "0  https://plantix.net/plant-disease/en/200036/to...   \n",
       "1  https://plantix.net/plant-disease/en/600264/be...   \n",
       "2  https://plantix.net/plant-disease/en/300009/po...   \n",
       "3  https://plantix.net/plant-disease/en/600289/he...   \n",
       "4  https://plantix.net/plant-disease/en/100321/ea...   \n",
       "\n",
       "                                            Symptoms  \\\n",
       "0   When it infects plants at the seedling stage,...   \n",
       "1   The young leaves show a large number of punct...   \n",
       "2   No symptoms are visible on the aerial parts o...   \n",
       "3   Whitish to brown eggs can be found in cluster...   \n",
       "4   Symptoms of early blight occur on older folia...   \n",
       "\n",
       "                                             Trigger  \\\n",
       "0  Tomato Yellow Leaf Curl Virus is not seed-born...   \n",
       "1   Symptoms are caused by the larvae and adults ...   \n",
       "2   Symptoms are caused by the bacterium Streptom...   \n",
       "3   The damage is caused by the caterpillar of He...   \n",
       "4   Symptoms are caused by Alternaria solani, a f...   \n",
       "\n",
       "                                  Biological_Control  \\\n",
       "0   Sorry, we don't know any alternative treatmen...   \n",
       "1   There are several natural enemies of the bean...   \n",
       "2   Treatment of potato plants with compost, comp...   \n",
       "3   Trichogramma wasps (T. chilonis or T. brasili...   \n",
       "4   Small farmers may use algal limestone, a mixt...   \n",
       "\n",
       "                                    Chemical_Control  \\\n",
       "0   Always consider an integrated approach with p...   \n",
       "1   Always consider an integrated approach with p...   \n",
       "2   Always consider an integrated approach with p...   \n",
       "3   Always consider an integrated approach with p...   \n",
       "4   Always consider an integrated approach with p...   \n",
       "\n",
       "                                  Preventive_Measure  \n",
       "0   Use resistant or tolerant varieties.  Plant e...  \n",
       "1   If available, plant resistant varieties.  Pla...  \n",
       "2   Plant tolerant varieties.  Ensure well-coordi...  \n",
       "3   Use resistant or tolerant varieties if availa...  \n",
       "4   Use certified pathogen-free seeds or transpla...  "
      ]
     },
     "execution_count": 167,
     "metadata": {},
     "output_type": "execute_result"
    }
   ],
   "source": [
    "raw_data.head()"
   ]
  },
  {
   "cell_type": "code",
   "execution_count": 168,
   "metadata": {},
   "outputs": [
    {
     "data": {
      "text/plain": [
       "555"
      ]
     },
     "execution_count": 168,
     "metadata": {},
     "output_type": "execute_result"
    }
   ],
   "source": [
    "len(raw_data)"
   ]
  },
  {
   "cell_type": "code",
   "execution_count": 169,
   "metadata": {},
   "outputs": [
    {
     "name": "stdout",
     "output_type": "stream",
     "text": [
      "Average character length of the Symptoms are:  668.845045045045\n",
      "Average character length of the Triggers are:  710.0450450450451\n"
     ]
    }
   ],
   "source": [
    "lengths1 = raw_data['Symptoms'].apply(len)\n",
    "lengths2 = raw_data['Trigger'].apply(len)\n",
    "print('Average character length of the Symptoms are: ', np.mean(lengths1))\n",
    "print('Average character length of the Triggers are: ', np.mean(lengths2))"
   ]
  },
  {
   "cell_type": "markdown",
   "metadata": {},
   "source": [
    "### NLTK Based Data Processing"
   ]
  },
  {
   "cell_type": "code",
   "execution_count": 170,
   "metadata": {},
   "outputs": [],
   "source": [
    "#nltk.download('averaged_perceptron_tagger')"
   ]
  },
  {
   "cell_type": "code",
   "execution_count": 171,
   "metadata": {},
   "outputs": [],
   "source": [
    "import bs4 as bs\n",
    "import nltk\n",
    "from nltk.tokenize import sent_tokenize # tokenizes sentences\n",
    "import re\n",
    "from nltk.stem import PorterStemmer\n",
    "from nltk.tag import pos_tag\n",
    "from nltk.corpus import stopwords\n",
    "from nltk.corpus import wordnet\n",
    "from nltk.stem import WordNetLemmatizer\n",
    "\n",
    "eng_stopwords = stopwords.words('english')"
   ]
  },
  {
   "cell_type": "markdown",
   "metadata": {},
   "source": [
    "#### Splitting Symptoms - Vertical Expansion"
   ]
  },
  {
   "cell_type": "code",
   "execution_count": 172,
   "metadata": {},
   "outputs": [],
   "source": [
    "labels=[]\n",
    "symptoms = []\n",
    "for row in raw_data.iterrows():\n",
    "    symptom_all = row[1][2].replace('.','. ')\n",
    "    for sent in sent_tokenize(symptom_all):\n",
    "        labels+= [row[1][0]]\n",
    "        symptoms+=[sent]"
   ]
  },
  {
   "cell_type": "code",
   "execution_count": 173,
   "metadata": {},
   "outputs": [],
   "source": [
    "labels_symptoms = pd.DataFrame(data={'Disease':labels,'Symptoms':symptoms})\n",
    "labels_symptoms[['Crop','Disease']] = labels_symptoms.Disease.str.split(pat=\" \",n=1,expand=True)\n",
    "labels_symptoms= labels_symptoms[['Crop','Disease','Symptoms']]"
   ]
  },
  {
   "cell_type": "code",
   "execution_count": 174,
   "metadata": {},
   "outputs": [
    {
     "data": {
      "text/html": [
       "<div>\n",
       "<style scoped>\n",
       "    .dataframe tbody tr th:only-of-type {\n",
       "        vertical-align: middle;\n",
       "    }\n",
       "\n",
       "    .dataframe tbody tr th {\n",
       "        vertical-align: top;\n",
       "    }\n",
       "\n",
       "    .dataframe thead th {\n",
       "        text-align: right;\n",
       "    }\n",
       "</style>\n",
       "<table border=\"1\" class=\"dataframe\">\n",
       "  <thead>\n",
       "    <tr style=\"text-align: right;\">\n",
       "      <th></th>\n",
       "      <th>Crop</th>\n",
       "      <th>Disease</th>\n",
       "      <th>Symptoms</th>\n",
       "    </tr>\n",
       "  </thead>\n",
       "  <tbody>\n",
       "    <tr>\n",
       "      <th>0</th>\n",
       "      <td>Tomato</td>\n",
       "      <td>Yellow Leaf Curl Virus</td>\n",
       "      <td>When it infects plants at the seedling stage,...</td>\n",
       "    </tr>\n",
       "    <tr>\n",
       "      <th>1</th>\n",
       "      <td>Tomato</td>\n",
       "      <td>Yellow Leaf Curl Virus</td>\n",
       "      <td>In older plants, the infection results in exce...</td>\n",
       "    </tr>\n",
       "    <tr>\n",
       "      <th>2</th>\n",
       "      <td>Tomato</td>\n",
       "      <td>Yellow Leaf Curl Virus</td>\n",
       "      <td>At later stages of the disease, they take a le...</td>\n",
       "    </tr>\n",
       "    <tr>\n",
       "      <th>3</th>\n",
       "      <td>Tomato</td>\n",
       "      <td>Yellow Leaf Curl Virus</td>\n",
       "      <td>If the infection takes place before the flower...</td>\n",
       "    </tr>\n",
       "    <tr>\n",
       "      <th>4</th>\n",
       "      <td>Bean</td>\n",
       "      <td>Fly</td>\n",
       "      <td>The young leaves show a large number of punct...</td>\n",
       "    </tr>\n",
       "  </tbody>\n",
       "</table>\n",
       "</div>"
      ],
      "text/plain": [
       "     Crop                 Disease  \\\n",
       "0  Tomato  Yellow Leaf Curl Virus   \n",
       "1  Tomato  Yellow Leaf Curl Virus   \n",
       "2  Tomato  Yellow Leaf Curl Virus   \n",
       "3  Tomato  Yellow Leaf Curl Virus   \n",
       "4    Bean                     Fly   \n",
       "\n",
       "                                            Symptoms  \n",
       "0   When it infects plants at the seedling stage,...  \n",
       "1  In older plants, the infection results in exce...  \n",
       "2  At later stages of the disease, they take a le...  \n",
       "3  If the infection takes place before the flower...  \n",
       "4   The young leaves show a large number of punct...  "
      ]
     },
     "execution_count": 174,
     "metadata": {},
     "output_type": "execute_result"
    }
   ],
   "source": [
    "labels_symptoms.head()"
   ]
  },
  {
   "cell_type": "markdown",
   "metadata": {},
   "source": [
    "#### Splitting Triggers - Vertical Expansion"
   ]
  },
  {
   "cell_type": "code",
   "execution_count": 175,
   "metadata": {},
   "outputs": [],
   "source": [
    "labels=[]\n",
    "triggers = []\n",
    "for row in raw_data.iterrows():\n",
    "    triggers_all = row[1][3].replace('.','. ')\n",
    "    for sent in sent_tokenize(triggers_all):\n",
    "        labels+= [row[1][0]]\n",
    "        triggers+=[sent]"
   ]
  },
  {
   "cell_type": "code",
   "execution_count": 176,
   "metadata": {},
   "outputs": [],
   "source": [
    "labels_triggers = pd.DataFrame(data={'Disease':labels,'Triggers':triggers})\n",
    "labels_triggers[['Crop','Disease']] = labels_triggers.Disease.str.split(pat=\" \",n=1,expand=True)\n",
    "labels_triggers= labels_triggers[['Crop','Disease','Triggers']]"
   ]
  },
  {
   "cell_type": "code",
   "execution_count": 177,
   "metadata": {},
   "outputs": [
    {
     "data": {
      "text/html": [
       "<div>\n",
       "<style scoped>\n",
       "    .dataframe tbody tr th:only-of-type {\n",
       "        vertical-align: middle;\n",
       "    }\n",
       "\n",
       "    .dataframe tbody tr th {\n",
       "        vertical-align: top;\n",
       "    }\n",
       "\n",
       "    .dataframe thead th {\n",
       "        text-align: right;\n",
       "    }\n",
       "</style>\n",
       "<table border=\"1\" class=\"dataframe\">\n",
       "  <thead>\n",
       "    <tr style=\"text-align: right;\">\n",
       "      <th></th>\n",
       "      <th>Crop</th>\n",
       "      <th>Disease</th>\n",
       "      <th>Triggers</th>\n",
       "    </tr>\n",
       "  </thead>\n",
       "  <tbody>\n",
       "    <tr>\n",
       "      <th>0</th>\n",
       "      <td>Tomato</td>\n",
       "      <td>Yellow Leaf Curl Virus</td>\n",
       "      <td>Tomato Yellow Leaf Curl Virus is not seed-born...</td>\n",
       "    </tr>\n",
       "    <tr>\n",
       "      <th>1</th>\n",
       "      <td>Tomato</td>\n",
       "      <td>Yellow Leaf Curl Virus</td>\n",
       "      <td>It is spread by whiteflies of the Bemisia taba...</td>\n",
       "    </tr>\n",
       "    <tr>\n",
       "      <th>2</th>\n",
       "      <td>Tomato</td>\n",
       "      <td>Yellow Leaf Curl Virus</td>\n",
       "      <td>These whiteflies feed on the lower leaf surfac...</td>\n",
       "    </tr>\n",
       "    <tr>\n",
       "      <th>3</th>\n",
       "      <td>Tomato</td>\n",
       "      <td>Yellow Leaf Curl Virus</td>\n",
       "      <td>The whole infection cycle can take place in ab...</td>\n",
       "    </tr>\n",
       "    <tr>\n",
       "      <th>4</th>\n",
       "      <td>Bean</td>\n",
       "      <td>Fly</td>\n",
       "      <td>Symptoms are caused by the larvae and adults ...</td>\n",
       "    </tr>\n",
       "  </tbody>\n",
       "</table>\n",
       "</div>"
      ],
      "text/plain": [
       "     Crop                 Disease  \\\n",
       "0  Tomato  Yellow Leaf Curl Virus   \n",
       "1  Tomato  Yellow Leaf Curl Virus   \n",
       "2  Tomato  Yellow Leaf Curl Virus   \n",
       "3  Tomato  Yellow Leaf Curl Virus   \n",
       "4    Bean                     Fly   \n",
       "\n",
       "                                            Triggers  \n",
       "0  Tomato Yellow Leaf Curl Virus is not seed-born...  \n",
       "1  It is spread by whiteflies of the Bemisia taba...  \n",
       "2  These whiteflies feed on the lower leaf surfac...  \n",
       "3  The whole infection cycle can take place in ab...  \n",
       "4   Symptoms are caused by the larvae and adults ...  "
      ]
     },
     "execution_count": 177,
     "metadata": {},
     "output_type": "execute_result"
    }
   ],
   "source": [
    "labels_triggers.head()"
   ]
  },
  {
   "cell_type": "markdown",
   "metadata": {},
   "source": [
    "### Basic Cleaning- Stopwords, Punctuations etc"
   ]
  },
  {
   "cell_type": "code",
   "execution_count": 178,
   "metadata": {},
   "outputs": [],
   "source": [
    "def cleaner(review):\n",
    "    '''\n",
    "    Clean and preprocess a sentence.\n",
    "    \n",
    "    1. Remove HTML tags\n",
    "    2. Use regex to remove all special characters (only keep letters)\n",
    "    3. Make strings to lower case and tokenize / word split reviews\n",
    "    4. Remove English stopwords\n",
    "    5. Rejoin to one string\n",
    "    '''\n",
    "    \n",
    "    #1. Remove HTML tags\n",
    "    review = bs.BeautifulSoup(review).text\n",
    "    \n",
    "    #2. Use regex to find emoticons\n",
    "    emoticons = re.findall('(?::|;|=)(?:-)?(?:\\)|\\(|D|P)', review)\n",
    "    \n",
    "    #3. Remove punctuation\n",
    "    review = re.sub(\"[^a-zA-Z]\", \" \",review)\n",
    "    \n",
    "    #4. Tokenize into words (all lower case)\n",
    "    review = review.lower().split()\n",
    "    \n",
    "    #5. Remove stopwords\n",
    "    eng_stopwords = set(stopwords.words(\"english\"))\n",
    "    review = [w for w in review if not w in eng_stopwords]\n",
    "    \n",
    "    #6. Join the review to one sentence\n",
    "    review = ' '.join(review+emoticons)\n",
    "    # add emoticons to the end\n",
    "\n",
    "    return(review)"
   ]
  },
  {
   "cell_type": "code",
   "execution_count": 179,
   "metadata": {},
   "outputs": [
    {
     "name": "stdout",
     "output_type": "stream",
     "text": [
      "Done with 500 symtoms\n",
      "Done with 1000 symtoms\n",
      "Done with 1500 symtoms\n",
      "Done with 2000 symtoms\n",
      "Done with 2500 symtoms\n",
      "Done with 3000 symtoms\n",
      "Done with 3500 symtoms\n"
     ]
    }
   ],
   "source": [
    "##Cleaning Symptoms and attaching to base dataframe\n",
    "num_symptoms = len(labels_symptoms['Symptoms'])\n",
    "\n",
    "symptoms_clean_original = []\n",
    "\n",
    "for i in range(0,num_symptoms):\n",
    "    if( (i+1)%500 == 0 ):\n",
    "        print(\"Done with %d symtoms\" %(i+1)) \n",
    "    symptoms_clean_original.append(cleaner(labels_symptoms['Symptoms'][i]))\n",
    "labels_symptoms['Cleaned_Symptom'] = symptoms_clean_original"
   ]
  },
  {
   "cell_type": "code",
   "execution_count": 180,
   "metadata": {},
   "outputs": [
    {
     "name": "stdout",
     "output_type": "stream",
     "text": [
      "Done with 500 triggers\n",
      "Done with 1000 triggers\n",
      "Done with 1500 triggers\n",
      "Done with 2000 triggers\n",
      "Done with 2500 triggers\n",
      "Done with 3000 triggers\n",
      "Done with 3500 triggers\n"
     ]
    }
   ],
   "source": [
    "##Cleaning Triggers and attaching to base dataframe\n",
    "num_triggers = len(labels_triggers['Triggers'])\n",
    "\n",
    "triggers_clean_original = []\n",
    "\n",
    "for i in range(0,num_triggers):\n",
    "    if( (i+1)%500 == 0 ):\n",
    "        print(\"Done with %d triggers\" %(i+1)) \n",
    "    triggers_clean_original.append(cleaner(labels_triggers['Triggers'][i]))\n",
    "labels_triggers['Cleaned_Trigger'] = triggers_clean_original"
   ]
  },
  {
   "cell_type": "markdown",
   "metadata": {},
   "source": [
    "#### Stemming "
   ]
  },
  {
   "cell_type": "code",
   "execution_count": 181,
   "metadata": {},
   "outputs": [
    {
     "name": "stdout",
     "output_type": "stream",
     "text": [
      "Done with 500 symptoms\n",
      "Done with 1000 symptoms\n",
      "Done with 1500 symptoms\n",
      "Done with 2000 symptoms\n",
      "Done with 2500 symptoms\n",
      "Done with 3000 symptoms\n",
      "Done with 3500 symptoms\n"
     ]
    }
   ],
   "source": [
    "ps = PorterStemmer()\n",
    "symptoms_ps = []\n",
    "\n",
    "for i in range(0,num_symptoms):\n",
    "    if( (i+1)%500 == 0 ):\n",
    "        print(\"Done with %d symptoms\" %(i+1)) \n",
    "    ps_stems = []\n",
    "    for w in labels_symptoms['Cleaned_Symptom'][i].split():\n",
    "        if w == 'oed':\n",
    "            continue\n",
    "        ps_stems.append(ps.stem(w))\n",
    "    \n",
    "    symptoms_ps.append(' '.join(ps_stems))\n",
    "labels_symptoms['Stemmed_Symptom'] = symptoms_ps"
   ]
  },
  {
   "cell_type": "code",
   "execution_count": 182,
   "metadata": {},
   "outputs": [
    {
     "name": "stdout",
     "output_type": "stream",
     "text": [
      "Done with 500 triggers\n",
      "Done with 1000 triggers\n",
      "Done with 1500 triggers\n",
      "Done with 2000 triggers\n",
      "Done with 2500 triggers\n",
      "Done with 3000 triggers\n",
      "Done with 3500 triggers\n"
     ]
    }
   ],
   "source": [
    "triggers_ps = []\n",
    "\n",
    "for i in range(0,num_triggers):\n",
    "    if( (i+1)%500 == 0 ):\n",
    "        print(\"Done with %d triggers\" %(i+1)) \n",
    "    ps_stems = []\n",
    "    for w in labels_triggers['Cleaned_Trigger'][i].split():\n",
    "        if w == 'oed':\n",
    "            continue\n",
    "        ps_stems.append(ps.stem(w))\n",
    "    \n",
    "    triggers_ps.append(' '.join(ps_stems))\n",
    "labels_triggers['Stemmed_Trigger'] = triggers_ps"
   ]
  },
  {
   "cell_type": "markdown",
   "metadata": {},
   "source": [
    "#### Lemetization"
   ]
  },
  {
   "cell_type": "code",
   "execution_count": 183,
   "metadata": {},
   "outputs": [],
   "source": [
    "def get_wordnet_pos(treebank_tag):\n",
    "\n",
    "    if treebank_tag.startswith('J'):\n",
    "        return wordnet.ADJ\n",
    "    elif treebank_tag.startswith('V'):\n",
    "        return wordnet.VERB\n",
    "    elif treebank_tag.startswith('N'):\n",
    "        return wordnet.NOUN\n",
    "    elif treebank_tag.startswith('R'):\n",
    "        return wordnet.ADV\n",
    "    else:\n",
    "        return 'n'"
   ]
  },
  {
   "cell_type": "code",
   "execution_count": 184,
   "metadata": {},
   "outputs": [
    {
     "name": "stdout",
     "output_type": "stream",
     "text": [
      "Done with 500 symptoms\n",
      "Done with 1000 symptoms\n",
      "Done with 1500 symptoms\n",
      "Done with 2000 symptoms\n",
      "Done with 2500 symptoms\n",
      "Done with 3000 symptoms\n",
      "Done with 3500 symptoms\n"
     ]
    }
   ],
   "source": [
    "symptoms_wnl = []\n",
    "wnl = WordNetLemmatizer()\n",
    "\n",
    "for i in range(0,num_symptoms):\n",
    "    if( (i+1)%500 == 0 ):\n",
    "        print(\"Done with %d symptoms\" %(i+1)) \n",
    "    wnl_stems = []\n",
    "    token_tag = pos_tag(labels_symptoms['Cleaned_Symptom'][i].split())\n",
    "    for pair in token_tag:\n",
    "        res = wnl.lemmatize(pair[0],pos=get_wordnet_pos(pair[1]))\n",
    "        wnl_stems.append(res)\n",
    "    symptoms_wnl.append(' '.join(wnl_stems))\n",
    "labels_symptoms['Lematized_Symptom'] = symptoms_wnl"
   ]
  },
  {
   "cell_type": "code",
   "execution_count": 185,
   "metadata": {},
   "outputs": [
    {
     "name": "stdout",
     "output_type": "stream",
     "text": [
      "Done with 500 triggers\n",
      "Done with 1000 triggers\n",
      "Done with 1500 triggers\n",
      "Done with 2000 triggers\n",
      "Done with 2500 triggers\n",
      "Done with 3000 triggers\n",
      "Done with 3500 triggers\n"
     ]
    }
   ],
   "source": [
    "triggers_wnl = []\n",
    "\n",
    "for i in range(0,num_triggers):\n",
    "    if( (i+1)%500 == 0 ):\n",
    "        print(\"Done with %d triggers\" %(i+1)) \n",
    "    wnl_stems = []\n",
    "    token_tag = pos_tag(labels_triggers['Cleaned_Trigger'][i].split())\n",
    "    for pair in token_tag:\n",
    "        res = wnl.lemmatize(pair[0],pos=get_wordnet_pos(pair[1]))\n",
    "        wnl_stems.append(res)\n",
    "    triggers_wnl.append(' '.join(wnl_stems))\n",
    "labels_triggers['Lematized_Trigger'] = triggers_wnl"
   ]
  },
  {
   "cell_type": "markdown",
   "metadata": {},
   "source": [
    "### Data Check"
   ]
  },
  {
   "cell_type": "code",
   "execution_count": 186,
   "metadata": {},
   "outputs": [
    {
     "data": {
      "text/html": [
       "<div>\n",
       "<style scoped>\n",
       "    .dataframe tbody tr th:only-of-type {\n",
       "        vertical-align: middle;\n",
       "    }\n",
       "\n",
       "    .dataframe tbody tr th {\n",
       "        vertical-align: top;\n",
       "    }\n",
       "\n",
       "    .dataframe thead th {\n",
       "        text-align: right;\n",
       "    }\n",
       "</style>\n",
       "<table border=\"1\" class=\"dataframe\">\n",
       "  <thead>\n",
       "    <tr style=\"text-align: right;\">\n",
       "      <th></th>\n",
       "      <th>Crop</th>\n",
       "      <th>Disease</th>\n",
       "      <th>Symptoms</th>\n",
       "      <th>Cleaned_Symptom</th>\n",
       "      <th>Stemmed_Symptom</th>\n",
       "      <th>Lematized_Symptom</th>\n",
       "    </tr>\n",
       "  </thead>\n",
       "  <tbody>\n",
       "    <tr>\n",
       "      <th>0</th>\n",
       "      <td>Tomato</td>\n",
       "      <td>Yellow Leaf Curl Virus</td>\n",
       "      <td>When it infects plants at the seedling stage,...</td>\n",
       "      <td>infects plants seedling stage tomato yellow le...</td>\n",
       "      <td>infect plant seedl stage tomato yellow leaf cu...</td>\n",
       "      <td>infects plant seedling stage tomato yellow lea...</td>\n",
       "    </tr>\n",
       "    <tr>\n",
       "      <th>1</th>\n",
       "      <td>Tomato</td>\n",
       "      <td>Yellow Leaf Curl Virus</td>\n",
       "      <td>In older plants, the infection results in exce...</td>\n",
       "      <td>older plants infection results excessive branc...</td>\n",
       "      <td>older plant infect result excess branch thicke...</td>\n",
       "      <td>old plant infection result excessive branch th...</td>\n",
       "    </tr>\n",
       "    <tr>\n",
       "      <th>2</th>\n",
       "      <td>Tomato</td>\n",
       "      <td>Yellow Leaf Curl Virus</td>\n",
       "      <td>At later stages of the disease, they take a le...</td>\n",
       "      <td>later stages disease take leathery texture chl...</td>\n",
       "      <td>later stage diseas take leatheri textur chloro...</td>\n",
       "      <td>later stag disease take leathery texture chlor...</td>\n",
       "    </tr>\n",
       "    <tr>\n",
       "      <th>3</th>\n",
       "      <td>Tomato</td>\n",
       "      <td>Yellow Leaf Curl Virus</td>\n",
       "      <td>If the infection takes place before the flower...</td>\n",
       "      <td>infection takes place flowering stage number f...</td>\n",
       "      <td>infect take place flower stage number fruit co...</td>\n",
       "      <td>infection take place flower stage number fruit...</td>\n",
       "    </tr>\n",
       "    <tr>\n",
       "      <th>4</th>\n",
       "      <td>Bean</td>\n",
       "      <td>Fly</td>\n",
       "      <td>The young leaves show a large number of punct...</td>\n",
       "      <td>young leaves show large number punctures light...</td>\n",
       "      <td>young leav show larg number punctur light yell...</td>\n",
       "      <td>young leave show large number puncture light y...</td>\n",
       "    </tr>\n",
       "  </tbody>\n",
       "</table>\n",
       "</div>"
      ],
      "text/plain": [
       "     Crop                 Disease  \\\n",
       "0  Tomato  Yellow Leaf Curl Virus   \n",
       "1  Tomato  Yellow Leaf Curl Virus   \n",
       "2  Tomato  Yellow Leaf Curl Virus   \n",
       "3  Tomato  Yellow Leaf Curl Virus   \n",
       "4    Bean                     Fly   \n",
       "\n",
       "                                            Symptoms  \\\n",
       "0   When it infects plants at the seedling stage,...   \n",
       "1  In older plants, the infection results in exce...   \n",
       "2  At later stages of the disease, they take a le...   \n",
       "3  If the infection takes place before the flower...   \n",
       "4   The young leaves show a large number of punct...   \n",
       "\n",
       "                                     Cleaned_Symptom  \\\n",
       "0  infects plants seedling stage tomato yellow le...   \n",
       "1  older plants infection results excessive branc...   \n",
       "2  later stages disease take leathery texture chl...   \n",
       "3  infection takes place flowering stage number f...   \n",
       "4  young leaves show large number punctures light...   \n",
       "\n",
       "                                     Stemmed_Symptom  \\\n",
       "0  infect plant seedl stage tomato yellow leaf cu...   \n",
       "1  older plant infect result excess branch thicke...   \n",
       "2  later stage diseas take leatheri textur chloro...   \n",
       "3  infect take place flower stage number fruit co...   \n",
       "4  young leav show larg number punctur light yell...   \n",
       "\n",
       "                                   Lematized_Symptom  \n",
       "0  infects plant seedling stage tomato yellow lea...  \n",
       "1  old plant infection result excessive branch th...  \n",
       "2  later stag disease take leathery texture chlor...  \n",
       "3  infection take place flower stage number fruit...  \n",
       "4  young leave show large number puncture light y...  "
      ]
     },
     "execution_count": 186,
     "metadata": {},
     "output_type": "execute_result"
    }
   ],
   "source": [
    "labels_symptoms.head()"
   ]
  },
  {
   "cell_type": "code",
   "execution_count": 187,
   "metadata": {},
   "outputs": [
    {
     "data": {
      "text/html": [
       "<div>\n",
       "<style scoped>\n",
       "    .dataframe tbody tr th:only-of-type {\n",
       "        vertical-align: middle;\n",
       "    }\n",
       "\n",
       "    .dataframe tbody tr th {\n",
       "        vertical-align: top;\n",
       "    }\n",
       "\n",
       "    .dataframe thead th {\n",
       "        text-align: right;\n",
       "    }\n",
       "</style>\n",
       "<table border=\"1\" class=\"dataframe\">\n",
       "  <thead>\n",
       "    <tr style=\"text-align: right;\">\n",
       "      <th></th>\n",
       "      <th>Crop</th>\n",
       "      <th>Disease</th>\n",
       "      <th>Triggers</th>\n",
       "      <th>Cleaned_Trigger</th>\n",
       "      <th>Stemmed_Trigger</th>\n",
       "      <th>Lematized_Trigger</th>\n",
       "    </tr>\n",
       "  </thead>\n",
       "  <tbody>\n",
       "    <tr>\n",
       "      <th>0</th>\n",
       "      <td>Tomato</td>\n",
       "      <td>Yellow Leaf Curl Virus</td>\n",
       "      <td>Tomato Yellow Leaf Curl Virus is not seed-born...</td>\n",
       "      <td>tomato yellow leaf curl virus seed borne trans...</td>\n",
       "      <td>tomato yellow leaf curl viru seed born transmi...</td>\n",
       "      <td>tomato yellow leaf curl virus seed borne trans...</td>\n",
       "    </tr>\n",
       "    <tr>\n",
       "      <th>1</th>\n",
       "      <td>Tomato</td>\n",
       "      <td>Yellow Leaf Curl Virus</td>\n",
       "      <td>It is spread by whiteflies of the Bemisia taba...</td>\n",
       "      <td>spread whiteflies bemisia tabaci species</td>\n",
       "      <td>spread whitefli bemisia tabaci speci</td>\n",
       "      <td>spread whitefly bemisia tabaci specie</td>\n",
       "    </tr>\n",
       "    <tr>\n",
       "      <th>2</th>\n",
       "      <td>Tomato</td>\n",
       "      <td>Yellow Leaf Curl Virus</td>\n",
       "      <td>These whiteflies feed on the lower leaf surfac...</td>\n",
       "      <td>whiteflies feed lower leaf surface number plan...</td>\n",
       "      <td>whitefli feed lower leaf surfac number plant a...</td>\n",
       "      <td>whitefly fee low leaf surface number plant att...</td>\n",
       "    </tr>\n",
       "    <tr>\n",
       "      <th>3</th>\n",
       "      <td>Tomato</td>\n",
       "      <td>Yellow Leaf Curl Virus</td>\n",
       "      <td>The whole infection cycle can take place in ab...</td>\n",
       "      <td>whole infection cycle take place hours favored...</td>\n",
       "      <td>whole infect cycl take place hour favor dri we...</td>\n",
       "      <td>whole infection cycle take place hour favor dr...</td>\n",
       "    </tr>\n",
       "    <tr>\n",
       "      <th>4</th>\n",
       "      <td>Bean</td>\n",
       "      <td>Fly</td>\n",
       "      <td>Symptoms are caused by the larvae and adults ...</td>\n",
       "      <td>symptoms caused larvae adults bean fly ophiomy...</td>\n",
       "      <td>symptom caus larva adult bean fli ophiomyia ph...</td>\n",
       "      <td>symptom cause larvae adult bean fly ophiomyia ...</td>\n",
       "    </tr>\n",
       "  </tbody>\n",
       "</table>\n",
       "</div>"
      ],
      "text/plain": [
       "     Crop                 Disease  \\\n",
       "0  Tomato  Yellow Leaf Curl Virus   \n",
       "1  Tomato  Yellow Leaf Curl Virus   \n",
       "2  Tomato  Yellow Leaf Curl Virus   \n",
       "3  Tomato  Yellow Leaf Curl Virus   \n",
       "4    Bean                     Fly   \n",
       "\n",
       "                                            Triggers  \\\n",
       "0  Tomato Yellow Leaf Curl Virus is not seed-born...   \n",
       "1  It is spread by whiteflies of the Bemisia taba...   \n",
       "2  These whiteflies feed on the lower leaf surfac...   \n",
       "3  The whole infection cycle can take place in ab...   \n",
       "4   Symptoms are caused by the larvae and adults ...   \n",
       "\n",
       "                                     Cleaned_Trigger  \\\n",
       "0  tomato yellow leaf curl virus seed borne trans...   \n",
       "1           spread whiteflies bemisia tabaci species   \n",
       "2  whiteflies feed lower leaf surface number plan...   \n",
       "3  whole infection cycle take place hours favored...   \n",
       "4  symptoms caused larvae adults bean fly ophiomy...   \n",
       "\n",
       "                                     Stemmed_Trigger  \\\n",
       "0  tomato yellow leaf curl viru seed born transmi...   \n",
       "1               spread whitefli bemisia tabaci speci   \n",
       "2  whitefli feed lower leaf surfac number plant a...   \n",
       "3  whole infect cycl take place hour favor dri we...   \n",
       "4  symptom caus larva adult bean fli ophiomyia ph...   \n",
       "\n",
       "                                   Lematized_Trigger  \n",
       "0  tomato yellow leaf curl virus seed borne trans...  \n",
       "1              spread whitefly bemisia tabaci specie  \n",
       "2  whitefly fee low leaf surface number plant att...  \n",
       "3  whole infection cycle take place hour favor dr...  \n",
       "4  symptom cause larvae adult bean fly ophiomyia ...  "
      ]
     },
     "execution_count": 187,
     "metadata": {},
     "output_type": "execute_result"
    }
   ],
   "source": [
    "labels_triggers.head()"
   ]
  },
  {
   "cell_type": "markdown",
   "metadata": {},
   "source": [
    "### Gensim"
   ]
  },
  {
   "cell_type": "code",
   "execution_count": 189,
   "metadata": {},
   "outputs": [],
   "source": [
    "import os\n",
    "import gensim\n",
    "test_data_dir = os.path.join(gensim.__path__[0], 'test', 'test_data')\n",
    "lee_train_file = os.path.join(test_data_dir, 'lee_background.cor')\n",
    "lee_test_file = os.path.join(test_data_dir, 'lee.cor')"
   ]
  },
  {
   "cell_type": "code",
   "execution_count": 190,
   "metadata": {},
   "outputs": [
    {
     "data": {
      "text/plain": [
       "'C:\\\\Users\\\\Manan Arora\\\\Anaconda3\\\\lib\\\\site-packages\\\\gensim\\\\test\\\\test_data\\\\lee_background.cor'"
      ]
     },
     "execution_count": 190,
     "metadata": {},
     "output_type": "execute_result"
    }
   ],
   "source": [
    "lee_train_file"
   ]
  },
  {
   "cell_type": "code",
   "execution_count": 193,
   "metadata": {},
   "outputs": [],
   "source": [
    "import smart_open\n",
    "\n",
    "def read_corpus(fname, tokens_only=False):\n",
    "    with smart_open.open(fname, encoding=\"iso-8859-1\") as f:\n",
    "        for i, line in enumerate(f):\n",
    "            tokens = gensim.utils.simple_preprocess(line)\n",
    "            if tokens_only:\n",
    "                yield tokens\n",
    "            else:\n",
    "                # For training data, add tags\n",
    "                yield gensim.models.doc2vec.TaggedDocument(tokens, [i])\n",
    "\n",
    "train_corpus = list(read_corpus(lee_train_file))\n",
    "test_corpus = list(read_corpus(lee_test_file, tokens_only=True))"
   ]
  },
  {
   "cell_type": "code",
   "execution_count": 221,
   "metadata": {},
   "outputs": [
    {
     "data": {
      "text/plain": [
       "'infects plants seedling stage tomato yellow leaf curl virus causes severe stunting young leaves shoots resulting somewhat bushy growth plant'"
      ]
     },
     "execution_count": 221,
     "metadata": {},
     "output_type": "execute_result"
    }
   ],
   "source": [
    "symptoms_list[0]"
   ]
  },
  {
   "cell_type": "code",
   "execution_count": 226,
   "metadata": {},
   "outputs": [],
   "source": [
    "train_list = []\n",
    "symptoms_list = labels_symptoms['Cleaned_Symptom']\n",
    "for i in range(0,len(symptoms_list)):\n",
    "    tokens = gensim.utils.simple_preprocess(symptoms_list[i])\n",
    "    train_list+= [gensim.models.doc2vec.TaggedDocument(tokens, [i])]"
   ]
  },
  {
   "cell_type": "code",
   "execution_count": 227,
   "metadata": {},
   "outputs": [
    {
     "data": {
      "text/plain": [
       "[TaggedDocument(words=['infects', 'plants', 'seedling', 'stage', 'tomato', 'yellow', 'leaf', 'curl', 'virus', 'causes', 'severe', 'stunting', 'young', 'leaves', 'shoots', 'resulting', 'somewhat', 'bushy', 'growth', 'plant'], tags=[0]),\n",
       " TaggedDocument(words=['older', 'plants', 'infection', 'results', 'excessive', 'branching', 'thicker', 'wrinkled', 'leaves', 'interveinal', 'chlorosis', 'clearly', 'visible', 'blade'], tags=[1]),\n",
       " TaggedDocument(words=['later', 'stages', 'disease', 'take', 'leathery', 'texture', 'chlorotic', 'margins', 'rolled', 'upwards', 'inwards'], tags=[2]),\n",
       " TaggedDocument(words=['infection', 'takes', 'place', 'flowering', 'stage', 'number', 'fruits', 'considerably', 'reduced', 'even', 'though', 'noticeable', 'symptoms', 'surface'], tags=[3]),\n",
       " TaggedDocument(words=['young', 'leaves', 'show', 'large', 'number', 'punctures', 'light', 'yellow', 'spots', 'upper', 'side', 'especially', 'bottom', 'leaf'], tags=[4])]"
      ]
     },
     "execution_count": 227,
     "metadata": {},
     "output_type": "execute_result"
    }
   ],
   "source": [
    "train_list[:5]"
   ]
  },
  {
   "cell_type": "code",
   "execution_count": 328,
   "metadata": {},
   "outputs": [],
   "source": [
    "model = gensim.models.doc2vec.Doc2Vec(vector_size=200, min_count=1, epochs=1000)"
   ]
  },
  {
   "cell_type": "code",
   "execution_count": 329,
   "metadata": {},
   "outputs": [],
   "source": [
    "model.build_vocab(train_list)"
   ]
  },
  {
   "cell_type": "code",
   "execution_count": 330,
   "metadata": {},
   "outputs": [],
   "source": [
    "model.train(train_list, total_examples=model.corpus_count, epochs=model.epochs)"
   ]
  },
  {
   "cell_type": "code",
   "execution_count": null,
   "metadata": {},
   "outputs": [],
   "source": []
  },
  {
   "cell_type": "code",
   "execution_count": 331,
   "metadata": {},
   "outputs": [
    {
     "data": {
      "text/plain": [
       "[(919, 0.5887357592582703),\n",
       " (1047, 0.5835825204849243),\n",
       " (2690, 0.582670271396637),\n",
       " (3713, 0.5786845684051514),\n",
       " (244, 0.5720994472503662)]"
      ]
     },
     "execution_count": 331,
     "metadata": {},
     "output_type": "execute_result"
    }
   ],
   "source": [
    "new_sentence = \"gummy substance usually exudes cankers\".split(\" \")  \n",
    "model.docvecs.most_similar(positive=[model.infer_vector(new_sentence)],topn=5)"
   ]
  },
  {
   "cell_type": "code",
   "execution_count": 325,
   "metadata": {},
   "outputs": [
    {
     "data": {
      "text/plain": [
       "'winter cankers similar usually softer moister sunken sour smell'"
      ]
     },
     "execution_count": 325,
     "metadata": {},
     "output_type": "execute_result"
    }
   ],
   "source": [
    "symptoms_list[2436]"
   ]
  },
  {
   "cell_type": "code",
   "execution_count": null,
   "metadata": {},
   "outputs": [],
   "source": [
    "np.mean((X.dot(theta) - x_prime)**2)"
   ]
  }
 ],
 "metadata": {
  "kernelspec": {
   "display_name": "Python 3",
   "language": "python",
   "name": "python3"
  },
  "language_info": {
   "codemirror_mode": {
    "name": "ipython",
    "version": 3
   },
   "file_extension": ".py",
   "mimetype": "text/x-python",
   "name": "python",
   "nbconvert_exporter": "python",
   "pygments_lexer": "ipython3",
   "version": "3.7.3"
  }
 },
 "nbformat": 4,
 "nbformat_minor": 4
}
