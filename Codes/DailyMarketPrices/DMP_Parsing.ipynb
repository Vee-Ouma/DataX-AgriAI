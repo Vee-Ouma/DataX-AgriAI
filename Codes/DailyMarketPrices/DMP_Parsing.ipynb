{
 "cells": [
  {
   "cell_type": "code",
   "execution_count": 1,
   "metadata": {},
   "outputs": [],
   "source": [
    "from bs4 import BeautifulSoup\n",
    "import pandas as pd\n",
    "from glob import iglob"
   ]
  },
  {
   "cell_type": "code",
   "execution_count": 2,
   "metadata": {},
   "outputs": [],
   "source": [
    "base_path = r'C:/Users/Manan Arora/Desktop/Plaksha TLF/DataX Project/Agriculture/Datatsets/DMP_All/*.xml'\n",
    "dmp_df = pd.DataFrame()\n",
    "dmp_labels  = ['State','District','Market','Commodity','Variety','Arrival_Date','Min_Price','Max_Price','Modal_Price']\n",
    "dmp_df = pd.DataFrame(columns=dmp_labels)"
   ]
  },
  {
   "cell_type": "code",
   "execution_count": 3,
   "metadata": {},
   "outputs": [],
   "source": [
    "files =[]\n",
    "for file_path in iglob(base_path, recursive=True):\n",
    "    files+=[file_path]"
   ]
  },
  {
   "cell_type": "code",
   "execution_count": 4,
   "metadata": {},
   "outputs": [],
   "source": [
    "state = []\n",
    "district = []\n",
    "market = []\n",
    "commodity = []\n",
    "variety = []\n",
    "date = []\n",
    "min_price = []\n",
    "max_price = []\n",
    "modal_price = []"
   ]
  },
  {
   "cell_type": "code",
   "execution_count": 5,
   "metadata": {},
   "outputs": [],
   "source": [
    "for file_path in files:\n",
    "    with open(file_path, \"r\") as f:\n",
    "        contents = f.read()\n",
    "        soup = BeautifulSoup(contents, 'xml')\n",
    "        if len(soup.find_all(\"State\"))==len(soup.find_all(\"Modal_x0020_Price\"))==len(soup.find_all(\"Max_x0020_Price\"))==len(soup.find_all(\"Min_x0020_Price\")):\n",
    "            for tag1 in soup.find_all(\"State\"):\n",
    "                state+=[tag1.text]\n",
    "            for tag2 in soup.find_all(\"District\"):\n",
    "                district+=[tag2.text]\n",
    "            for tag3 in soup.find_all(\"Market\"):\n",
    "                market+=[tag3.text]\n",
    "            for tag4 in soup.find_all(\"Commodity\"):\n",
    "                commodity+=[tag4.text]\n",
    "            for tag5 in soup.find_all(\"Variety\"):\n",
    "                variety+=[tag5.text]\n",
    "            for tag6 in soup.find_all(\"Arrival_Date\"):\n",
    "                date+=[tag6.text]\n",
    "            for tag7 in soup.find_all(\"Min_x0020_Price\"):\n",
    "                min_price+=[tag7.text]\n",
    "            for tag8 in soup.find_all(\"Max_x0020_Price\"):\n",
    "                max_price+=[tag8.text]\n",
    "            for tag9 in soup.find_all(\"Modal_x0020_Price\"):\n",
    "                modal_price+=[tag9.text]\n",
    "        else:\n",
    "            pass"
   ]
  },
  {
   "cell_type": "code",
   "execution_count": 6,
   "metadata": {},
   "outputs": [
    {
     "data": {
      "text/plain": [
       "304988"
      ]
     },
     "execution_count": 6,
     "metadata": {},
     "output_type": "execute_result"
    }
   ],
   "source": [
    "len(modal_price)"
   ]
  },
  {
   "cell_type": "code",
   "execution_count": 7,
   "metadata": {},
   "outputs": [],
   "source": [
    "dmp_df['State'] = state\n",
    "dmp_df['District'] = district\n",
    "dmp_df['Market']= market\n",
    "dmp_df['Commodity'] = commodity\n",
    "dmp_df['Variety'] = variety\n",
    "dmp_df['Arrival_Date'] = date\n",
    "dmp_df['Min_Price'] = min_price\n",
    "dmp_df['Max_Price'] = max_price\n",
    "dmp_df['Modal_Price'] = modal_price "
   ]
  },
  {
   "cell_type": "code",
   "execution_count": 8,
   "metadata": {},
   "outputs": [
    {
     "data": {
      "text/plain": [
       "181976"
      ]
     },
     "execution_count": 8,
     "metadata": {},
     "output_type": "execute_result"
    }
   ],
   "source": [
    "len(dmp_df.drop_duplicates())"
   ]
  },
  {
   "cell_type": "code",
   "execution_count": 9,
   "metadata": {},
   "outputs": [],
   "source": [
    "dmp_df = dmp_df.drop_duplicates()"
   ]
  },
  {
   "cell_type": "code",
   "execution_count": 10,
   "metadata": {},
   "outputs": [],
   "source": [
    "dmp_df.to_csv(r'C:\\Users\\Manan Arora\\Desktop\\Plaksha TLF\\DataX Project\\Agriculture\\Datatsets\\Daily_Market_Prices-Part5.csv')"
   ]
  }
 ],
 "metadata": {
  "kernelspec": {
   "display_name": "Python 3",
   "language": "python",
   "name": "python3"
  },
  "language_info": {
   "codemirror_mode": {
    "name": "ipython",
    "version": 3
   },
   "file_extension": ".py",
   "mimetype": "text/x-python",
   "name": "python",
   "nbconvert_exporter": "python",
   "pygments_lexer": "ipython3",
   "version": "3.7.3"
  }
 },
 "nbformat": 4,
 "nbformat_minor": 4
}
