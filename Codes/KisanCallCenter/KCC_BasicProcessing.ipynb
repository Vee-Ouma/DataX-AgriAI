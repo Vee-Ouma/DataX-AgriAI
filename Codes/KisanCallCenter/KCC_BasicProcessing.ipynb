{
 "cells": [
  {
   "cell_type": "code",
   "execution_count": 33,
   "metadata": {},
   "outputs": [],
   "source": [
    "import pandas as pd \n",
    "import numpy as np\n",
    "\n",
    "import matplotlib\n",
    "import matplotlib.pyplot as plt\n",
    "import seaborn as sns\n",
    "\n",
    "import bs4 as bs\n",
    "import nltk\n",
    "from nltk.tokenize import sent_tokenize # tokenizes sentences\n",
    "import re\n",
    "from nltk.stem import PorterStemmer\n",
    "from nltk.tag import pos_tag\n",
    "from nltk.corpus import stopwords\n",
    "from nltk.corpus import wordnet\n",
    "from nltk.stem import WordNetLemmatizer\n",
    "\n",
    "eng_stopwords = stopwords.words('english')\n",
    "\n",
    "%matplotlib inline"
   ]
  },
  {
   "cell_type": "markdown",
   "metadata": {},
   "source": [
    "### Combining Datasets of Different States"
   ]
  },
  {
   "cell_type": "code",
   "execution_count": 34,
   "metadata": {},
   "outputs": [],
   "source": [
    "data_maharashtra  = pd.read_csv(r\"C:\\Users\\Manan Arora\\Desktop\\Plaksha TLF\\Term 2\\DataX Project\\Agriculture\\Datatsets\\KCC-Maharashtra-2Years.csv\")\n",
    "data_andhrapradesh = pd.read_csv(r\"C:\\Users\\Manan Arora\\Desktop\\Plaksha TLF\\Term 2\\DataX Project\\Agriculture\\Datatsets\\KCC-Andhra-2Years.csv\")\n",
    "data_gujarat = pd.read_csv(r\"C:\\Users\\Manan Arora\\Desktop\\Plaksha TLF\\Term 2\\DataX Project\\Agriculture\\Datatsets\\KCC-Gujarat-2Years.csv\")\n",
    "data_haryana= pd.read_csv(r\"C:\\Users\\Manan Arora\\Desktop\\Plaksha TLF\\Term 2\\DataX Project\\Agriculture\\Datatsets\\KCC-Haryana-2Years.csv\")\n",
    "combined_data = data_maharashtra.append(data_andhrapradesh).append(data_gujarat).append(data_haryana)"
   ]
  },
  {
   "cell_type": "markdown",
   "metadata": {},
   "source": [
    "Note: This is Kisan Call Center data for the year 2015 and 2016 of 8 Leading Cottoon Producing States in India"
   ]
  },
  {
   "cell_type": "markdown",
   "metadata": {},
   "source": [
    "### Analysing the Data"
   ]
  },
  {
   "cell_type": "code",
   "execution_count": 35,
   "metadata": {},
   "outputs": [
    {
     "name": "stdout",
     "output_type": "stream",
     "text": [
      "Total Number of Queries for the 8 States in the Year 2015 and 2016:  2520667\n"
     ]
    }
   ],
   "source": [
    "print('Total Number of Queries for the 8 States in the Year 2015 and 2016: ',len(combined_data))"
   ]
  },
  {
   "cell_type": "code",
   "execution_count": 36,
   "metadata": {},
   "outputs": [
    {
     "name": "stdout",
     "output_type": "stream",
     "text": [
      "Number of Queries per State:\n",
      "MAHARASHTRA       1376489\n",
      "HARYANA            545790\n",
      "GUJARAT            331982\n",
      "ANDHRA PRADESH     266406\n",
      "Name: State, dtype: int64\n"
     ]
    }
   ],
   "source": [
    "print('Number of Queries per State:')\n",
    "print(combined_data['State'].value_counts())"
   ]
  },
  {
   "cell_type": "code",
   "execution_count": 37,
   "metadata": {},
   "outputs": [
    {
     "name": "stdout",
     "output_type": "stream",
     "text": [
      "Top 5 Crops with Most Queries in these 8 states\n"
     ]
    },
    {
     "data": {
      "text/html": [
       "<div>\n",
       "<style scoped>\n",
       "    .dataframe tbody tr th:only-of-type {\n",
       "        vertical-align: middle;\n",
       "    }\n",
       "\n",
       "    .dataframe tbody tr th {\n",
       "        vertical-align: top;\n",
       "    }\n",
       "\n",
       "    .dataframe thead th {\n",
       "        text-align: right;\n",
       "    }\n",
       "</style>\n",
       "<table border=\"1\" class=\"dataframe\">\n",
       "  <thead>\n",
       "    <tr style=\"text-align: right;\">\n",
       "      <th></th>\n",
       "      <th>index</th>\n",
       "      <th>Crop</th>\n",
       "      <th>count</th>\n",
       "    </tr>\n",
       "  </thead>\n",
       "  <tbody>\n",
       "    <tr>\n",
       "      <th>0</th>\n",
       "      <td>194</td>\n",
       "      <td>Others</td>\n",
       "      <td>1204181</td>\n",
       "    </tr>\n",
       "    <tr>\n",
       "      <th>1</th>\n",
       "      <td>79</td>\n",
       "      <td>Cotton (Kapas)</td>\n",
       "      <td>207415</td>\n",
       "    </tr>\n",
       "    <tr>\n",
       "      <th>2</th>\n",
       "      <td>284</td>\n",
       "      <td>Wheat</td>\n",
       "      <td>108504</td>\n",
       "    </tr>\n",
       "    <tr>\n",
       "      <th>3</th>\n",
       "      <td>196</td>\n",
       "      <td>Paddy (Dhan)</td>\n",
       "      <td>105908</td>\n",
       "    </tr>\n",
       "    <tr>\n",
       "      <th>4</th>\n",
       "      <td>191</td>\n",
       "      <td>Onion</td>\n",
       "      <td>78062</td>\n",
       "    </tr>\n",
       "  </tbody>\n",
       "</table>\n",
       "</div>"
      ],
      "text/plain": [
       "   index            Crop    count\n",
       "0    194          Others  1204181\n",
       "1     79  Cotton (Kapas)   207415\n",
       "2    284           Wheat   108504\n",
       "3    196    Paddy (Dhan)   105908\n",
       "4    191           Onion    78062"
      ]
     },
     "execution_count": 37,
     "metadata": {},
     "output_type": "execute_result"
    }
   ],
   "source": [
    "crop_counts = pd.DataFrame(data = combined_data.groupby(by=['State','Crop'])['Crop'].count().reset_index(name='count'))\n",
    "print('Top 5 Crops with Most Queries in these 8 states')\n",
    "crop_counts.groupby(by=['Crop']).sum().reset_index().sort_values(by='count',ascending = False)[0:5].reset_index()"
   ]
  },
  {
   "cell_type": "markdown",
   "metadata": {},
   "source": [
    "### Cotton Specific Queries"
   ]
  },
  {
   "cell_type": "code",
   "execution_count": 38,
   "metadata": {},
   "outputs": [
    {
     "name": "stdout",
     "output_type": "stream",
     "text": [
      "Number of Queries for Cotton: 207415\n",
      "Query Type break up within Cotton\n"
     ]
    },
    {
     "data": {
      "text/html": [
       "<div>\n",
       "<style scoped>\n",
       "    .dataframe tbody tr th:only-of-type {\n",
       "        vertical-align: middle;\n",
       "    }\n",
       "\n",
       "    .dataframe tbody tr th {\n",
       "        vertical-align: top;\n",
       "    }\n",
       "\n",
       "    .dataframe thead th {\n",
       "        text-align: right;\n",
       "    }\n",
       "</style>\n",
       "<table border=\"1\" class=\"dataframe\">\n",
       "  <thead>\n",
       "    <tr style=\"text-align: right;\">\n",
       "      <th></th>\n",
       "      <th>QueryType</th>\n",
       "      <th>Query Type Count</th>\n",
       "    </tr>\n",
       "  </thead>\n",
       "  <tbody>\n",
       "    <tr>\n",
       "      <th>1</th>\n",
       "      <td>\\tPlant Protection\\t</td>\n",
       "      <td>0.454630</td>\n",
       "    </tr>\n",
       "    <tr>\n",
       "      <th>8</th>\n",
       "      <td>Fertilizer Use and Availability</td>\n",
       "      <td>0.104563</td>\n",
       "    </tr>\n",
       "    <tr>\n",
       "      <th>10</th>\n",
       "      <td>Market Information</td>\n",
       "      <td>0.095514</td>\n",
       "    </tr>\n",
       "    <tr>\n",
       "      <th>21</th>\n",
       "      <td>Weather</td>\n",
       "      <td>0.075612</td>\n",
       "    </tr>\n",
       "    <tr>\n",
       "      <th>20</th>\n",
       "      <td>Varieties</td>\n",
       "      <td>0.063674</td>\n",
       "    </tr>\n",
       "  </tbody>\n",
       "</table>\n",
       "</div>"
      ],
      "text/plain": [
       "                          QueryType  Query Type Count\n",
       "1              \\tPlant Protection\\t          0.454630\n",
       "8   Fertilizer Use and Availability          0.104563\n",
       "10               Market Information          0.095514\n",
       "21                          Weather          0.075612\n",
       "20                        Varieties          0.063674"
      ]
     },
     "execution_count": 38,
     "metadata": {},
     "output_type": "execute_result"
    }
   ],
   "source": [
    "cotton_data = combined_data[combined_data['Crop'] == 'Cotton (Kapas)']\n",
    "print('Number of Queries for Cotton: {}'.format(len(cotton_data)))\n",
    "print('Query Type break up within Cotton')\n",
    "top5_querytype = cotton_data.groupby(by=['QueryType'])['Query'].count().reset_index().sort_values(by='Query',ascending = False).rename(columns={'Query':'Query Type Count'})\n",
    "top5_querytype['Query Type Count'] = top5_querytype['Query Type Count']/sum(top5_querytype['Query Type Count'])\n",
    "top5_querytype[0:5]"
   ]
  },
  {
   "cell_type": "code",
   "execution_count": 39,
   "metadata": {},
   "outputs": [
    {
     "name": "stdout",
     "output_type": "stream",
     "text": [
      "Total Number of Queries under Plant Protection Category in Cotton: 94297\n",
      "Top Repeated Queries within Plant Protection in Cotton\n"
     ]
    },
    {
     "data": {
      "text/plain": [
       "Ask about sucking pests problem in crop                             2526\n",
       "Attack of White Fly?                                                2348\n",
       "Attack of Thrips and Jassids?                                       2261\n",
       "information regardingh how to control fangle disease in cotton ?    2149\n",
       "how to control leaf carl in cotton crops?                           1995\n",
       "ATTACK OF SUCKING PEST?                                             1530\n",
       "Ask about heliothese (pink ball warm) in cotton                     1295\n",
       "Attack of Thrips?                                                   1257\n",
       "How to control white fly,trips in cotton?                           1234\n",
       "Ask about larvae control information                                1223\n",
       "Name: Query, dtype: int64"
      ]
     },
     "execution_count": 39,
     "metadata": {},
     "output_type": "execute_result"
    }
   ],
   "source": [
    "cotton_data_plant_protection = cotton_data[cotton_data['QueryType'] == '\\tPlant Protection\\t']\n",
    "print('Total Number of Queries under Plant Protection Category in Cotton: {}'.format(len(cotton_data_plant_protection)))\n",
    "print('Top Repeated Queries within Plant Protection in Cotton')\n",
    "cotton_data_plant_protection['Query'].value_counts()[0:10]"
   ]
  },
  {
   "cell_type": "markdown",
   "metadata": {},
   "source": [
    "\n",
    "Keeping only unique query-answer pair per District/State/Block"
   ]
  },
  {
   "cell_type": "code",
   "execution_count": 40,
   "metadata": {},
   "outputs": [],
   "source": [
    "cotton_data_plant_protection_dedup = cotton_data_plant_protection.drop_duplicates(subset=['Query','State','District','Block'],keep ='first')"
   ]
  },
  {
   "cell_type": "code",
   "execution_count": 41,
   "metadata": {},
   "outputs": [
    {
     "name": "stdout",
     "output_type": "stream",
     "text": [
      "Number of Unique Queries per State, District, Block : 52908\n"
     ]
    }
   ],
   "source": [
    "print('Number of Unique Queries per State, District, Block : {}'.format(len(cotton_data_plant_protection_dedup)))"
   ]
  },
  {
   "cell_type": "markdown",
   "metadata": {},
   "source": [
    "##### Removing Location Specific Querying for Now and keeping one query answer pair for the entire data of 8 states"
   ]
  },
  {
   "cell_type": "code",
   "execution_count": 42,
   "metadata": {},
   "outputs": [
    {
     "name": "stdout",
     "output_type": "stream",
     "text": [
      "Number of Unique Queries for all the cotton queries of the 8 States  : 12693\n",
      "Number of Unique Queries for all the cotton queries of the 8 States (After Removing Blank Queries) : 7099\n"
     ]
    },
    {
     "name": "stderr",
     "output_type": "stream",
     "text": [
      "C:\\Users\\Manan Arora\\Anaconda3\\lib\\site-packages\\ipykernel_launcher.py:2: SettingWithCopyWarning: \n",
      "A value is trying to be set on a copy of a slice from a DataFrame.\n",
      "Try using .loc[row_indexer,col_indexer] = value instead\n",
      "\n",
      "See the caveats in the documentation: http://pandas.pydata.org/pandas-docs/stable/indexing.html#indexing-view-versus-copy\n",
      "  \n"
     ]
    }
   ],
   "source": [
    "cotton_data_plant_protection_dedup1 = cotton_data_plant_protection.drop_duplicates(subset=['Query'],keep ='first')\n",
    "cotton_data_plant_protection_dedup1['Query'] = cotton_data_plant_protection_dedup1[\"Query\"].map(lambda x: x.lower());\n",
    "print('Number of Unique Queries for all the cotton queries of the 8 States  : {}'.format(len(cotton_data_plant_protection_dedup1)))\n",
    "cotton_data_plant_protection_dedup2 = cotton_data_plant_protection_dedup1.dropna()\n",
    "print('Number of Unique Queries for all the cotton queries of the 8 States (After Removing Blank Queries) : {}'.format(len(cotton_data_plant_protection_dedup2)))"
   ]
  },
  {
   "cell_type": "code",
   "execution_count": 102,
   "metadata": {},
   "outputs": [],
   "source": [
    "cotton_data_plant_protection_dedup2.to_csv(r'C:\\Users\\Manan Arora\\Desktop\\Plaksha TLF\\Term 2\\DataX Project\\Agriculture\\Datatsets\\KCC-Cotton-QnA-Raw_v1.csv',index = False)"
   ]
  },
  {
   "cell_type": "code",
   "execution_count": 45,
   "metadata": {},
   "outputs": [
    {
     "name": "stdout",
     "output_type": "stream",
     "text": [
      "Number of Questions that talked about Attack on Cotton Plants: 1883\n",
      "Number of Questions that asked something about the Cotton Plants: 2217\n",
      "Number of Questions that asked about controling something in the Cotton Plants: 1361\n"
     ]
    }
   ],
   "source": [
    "#Question Type 1: ATTACK\n",
    "cotton_data_plant_protection_attack = cotton_data_plant_protection_dedup2[cotton_data_plant_protection_dedup2['Query'].str.contains(\"attack\")].reset_index()\n",
    "print('Number of Questions that talked about Attack on Cotton Plants: {}'.format(len(cotton_data_plant_protection_attack)))\n",
    "# Question Type 2: ASK\n",
    "cotton_data_plant_protection_ask = cotton_data_plant_protection_dedup2[cotton_data_plant_protection_dedup2['Query'].str.contains(\"ask\")].reset_index()\n",
    "print('Number of Questions that asked something about the Cotton Plants: {}'.format(len(cotton_data_plant_protection_ask)))\n",
    "# Question Type 2: Control\n",
    "cotton_data_plant_protection_control = cotton_data_plant_protection_dedup2[cotton_data_plant_protection_dedup2['Query'].str.contains(\"control\")].reset_index()\n",
    "print('Number of Questions that asked about controling something in the Cotton Plants: {}'.format(len(cotton_data_plant_protection_control)))"
   ]
  },
  {
   "cell_type": "markdown",
   "metadata": {},
   "source": [
    "### Processing for Chatbot"
   ]
  },
  {
   "cell_type": "code",
   "execution_count": 109,
   "metadata": {},
   "outputs": [],
   "source": [
    "## Cleaner Function: Used to clean the Queries so that we can have entities to be used in Chatbot\n",
    "def cleaner(review):\n",
    "    '''\n",
    "    Clean and preprocess each query\n",
    "\n",
    "    1. Remove HTML tags\n",
    "    2. Use regex to remove all special characters (only keep letters)\n",
    "    3. Make strings to lower case and tokenize / word split reviews\n",
    "    4. Remove English stopwords\n",
    "    5. Rejoin to one string\n",
    "    '''\n",
    "\n",
    "    review = bs.BeautifulSoup(review).text\n",
    "    \n",
    "    #2. Use regex to find emoticons\n",
    "    emoticons = re.findall('(?::|;|=)(?:-)?(?:\\)|\\(|D|P)', review)\n",
    "    \n",
    "    #3. Remove punctuation\n",
    "    review = re.sub(\"[^a-zA-Z]\", \" \",review)\n",
    "    \n",
    "    review = review.lower().split()\n",
    "\n",
    "    \n",
    "    #2. Remove stopwords\n",
    "    eng_stopwords = set(stopwords.words(\"english\"))\n",
    "    review1 = [w for w in review if not w in eng_stopwords]\n",
    "    \n",
    "    other_words = set(['cotton','attack','disease','crop','plant','ask','asked','ask','about','control','coton','measure','information','regarding','weather','forecast','asking','information','informationask','farmer', 'want','know','information'])\n",
    "    review2 = [w for w in review1 if not w in other_words]\n",
    "\n",
    "    \n",
    "    #6. Join the review to one sentence\n",
    "    review = ' '.join(review2)\n",
    "    # add emoticons to the end\n",
    "\n",
    "    return(review)"
   ]
  },
  {
   "cell_type": "markdown",
   "metadata": {},
   "source": [
    "Processing Questions on Attack"
   ]
  },
  {
   "cell_type": "code",
   "execution_count": 60,
   "metadata": {},
   "outputs": [
    {
     "name": "stdout",
     "output_type": "stream",
     "text": [
      "Done with 100 queries\n",
      "Done with 200 queries\n",
      "Done with 300 queries\n",
      "Done with 400 queries\n",
      "Done with 500 queries\n",
      "Done with 600 queries\n",
      "Done with 700 queries\n",
      "Done with 800 queries\n",
      "Done with 900 queries\n",
      "Done with 1000 queries\n",
      "Done with 1100 queries\n",
      "Done with 1200 queries\n",
      "Done with 1300 queries\n",
      "Done with 1400 queries\n",
      "Done with 1500 queries\n",
      "Done with 1600 queries\n",
      "Done with 1700 queries\n",
      "Done with 1800 queries\n"
     ]
    }
   ],
   "source": [
    "query_len = len(cotton_data_plant_protection_attack['Query'])\n",
    "\n",
    "query_attack_clean = []\n",
    "\n",
    "for i in range(0,query_len):\n",
    "    if( (i+1)%100 == 0):\n",
    "        print(\"Done with %d queries\" %(i+1)) \n",
    "    query_attack_clean.append(cleaner(cotton_data_plant_protection_attack['Query'][i]))\n",
    "cotton_data_plant_protection_attack['Ouery_Cleaned'] = query_attack_clean"
   ]
  },
  {
   "cell_type": "code",
   "execution_count": 61,
   "metadata": {},
   "outputs": [
    {
     "name": "stdout",
     "output_type": "stream",
     "text": [
      "532\n"
     ]
    }
   ],
   "source": [
    "cotton_data_plant_protection_attack_dedup = cotton_data_plant_protection_attack[['Ouery_Cleaned','Answer']].drop_duplicates(subset=['Ouery_Cleaned'],keep='first')\n",
    "print(len(cotton_data_plant_protection_attack_dedup))"
   ]
  },
  {
   "cell_type": "code",
   "execution_count": 64,
   "metadata": {},
   "outputs": [],
   "source": [
    "cotton_data_plant_protection_attack_dedup.to_csv(r'C:\\Users\\Manan Arora\\Desktop\\Plaksha TLF\\Term 2\\DataX Project\\Agriculture\\Datatsets\\KCC-Cotton-Attack-QnA-Processes_v1.csv',index = False)"
   ]
  },
  {
   "cell_type": "markdown",
   "metadata": {},
   "source": [
    "Processesing Questions like Ask About"
   ]
  },
  {
   "cell_type": "code",
   "execution_count": 74,
   "metadata": {},
   "outputs": [
    {
     "name": "stdout",
     "output_type": "stream",
     "text": [
      "Done with 100 queries\n",
      "Done with 200 queries\n",
      "Done with 300 queries\n",
      "Done with 400 queries\n",
      "Done with 500 queries\n",
      "Done with 600 queries\n",
      "Done with 700 queries\n",
      "Done with 800 queries\n",
      "Done with 900 queries\n",
      "Done with 1000 queries\n",
      "Done with 1100 queries\n",
      "Done with 1200 queries\n",
      "Done with 1300 queries\n",
      "Done with 1400 queries\n",
      "Done with 1500 queries\n",
      "Done with 1600 queries\n",
      "Done with 1700 queries\n",
      "Done with 1800 queries\n",
      "Done with 1900 queries\n",
      "Done with 2000 queries\n",
      "Done with 2100 queries\n",
      "Done with 2200 queries\n",
      "962\n"
     ]
    }
   ],
   "source": [
    "query_len = len(cotton_data_plant_protection_ask['Query'])\n",
    "\n",
    "query_ask_clean = []\n",
    "\n",
    "for i in range(0,query_len):\n",
    "    if( (i+1)%100 == 0):\n",
    "        print(\"Done with %d queries\" %(i+1)) \n",
    "    query_ask_clean.append(cleaner(cotton_data_plant_protection_ask['Query'][i]))\n",
    "cotton_data_plant_protection_ask['Ouery_Cleaned'] = query_ask_clean\n",
    "cotton_data_plant_protection_ask_dedup = cotton_data_plant_protection_ask[['Ouery_Cleaned','Answer']].drop_duplicates(subset=['Ouery_Cleaned'],keep='first')\n",
    "print(len(cotton_data_plant_protection_ask_dedup))"
   ]
  },
  {
   "cell_type": "code",
   "execution_count": 76,
   "metadata": {},
   "outputs": [],
   "source": [
    "cotton_data_plant_protection_ask_dedup.to_csv(r'C:\\Users\\Manan Arora\\Desktop\\Plaksha TLF\\Term 2\\DataX Project\\Agriculture\\Datatsets\\KCC-Cotton-Ask-QnA-Processes_v1.csv',index = False)"
   ]
  },
  {
   "cell_type": "markdown",
   "metadata": {},
   "source": [
    "Processing Questions about Control"
   ]
  },
  {
   "cell_type": "code",
   "execution_count": 84,
   "metadata": {},
   "outputs": [
    {
     "name": "stdout",
     "output_type": "stream",
     "text": [
      "Done with 100 queries\n",
      "Done with 200 queries\n",
      "Done with 300 queries\n",
      "Done with 400 queries\n",
      "Done with 500 queries\n",
      "Done with 600 queries\n",
      "Done with 700 queries\n",
      "Done with 800 queries\n",
      "Done with 900 queries\n",
      "Done with 1000 queries\n",
      "Done with 1100 queries\n",
      "Done with 1200 queries\n",
      "Done with 1300 queries\n",
      "709\n"
     ]
    }
   ],
   "source": [
    "query_len = len(cotton_data_plant_protection_control['Query'])\n",
    "\n",
    "query_control_clean = []\n",
    "\n",
    "for i in range(0,query_len):\n",
    "    if( (i+1)%100 == 0):\n",
    "        print(\"Done with %d queries\" %(i+1)) \n",
    "    query_control_clean.append(cleaner(cotton_data_plant_protection_control['Query'][i]))\n",
    "cotton_data_plant_protection_control['Ouery_Cleaned'] = query_control_clean\n",
    "cotton_data_plant_protection_control_dedup = cotton_data_plant_protection_control[['Ouery_Cleaned','Answer']].drop_duplicates(subset=['Ouery_Cleaned'],keep='first')\n",
    "print(len(cotton_data_plant_protection_control_dedup))"
   ]
  },
  {
   "cell_type": "code",
   "execution_count": 86,
   "metadata": {},
   "outputs": [],
   "source": [
    "cotton_data_plant_protection_control_dedup.to_csv(r'C:\\Users\\Manan Arora\\Desktop\\Plaksha TLF\\Term 2\\DataX Project\\Agriculture\\Datatsets\\KCC-Cotton-Control-QnA-Processes_v1.csv',index = False)"
   ]
  },
  {
   "cell_type": "markdown",
   "metadata": {},
   "source": [
    "### Wheat Specific Queries"
   ]
  },
  {
   "cell_type": "code",
   "execution_count": 87,
   "metadata": {},
   "outputs": [
    {
     "name": "stdout",
     "output_type": "stream",
     "text": [
      "Number of Queries for Wheat: 108504\n",
      "Query Type break up within Wheat\n"
     ]
    },
    {
     "data": {
      "text/html": [
       "<div>\n",
       "<style scoped>\n",
       "    .dataframe tbody tr th:only-of-type {\n",
       "        vertical-align: middle;\n",
       "    }\n",
       "\n",
       "    .dataframe tbody tr th {\n",
       "        vertical-align: top;\n",
       "    }\n",
       "\n",
       "    .dataframe thead th {\n",
       "        text-align: right;\n",
       "    }\n",
       "</style>\n",
       "<table border=\"1\" class=\"dataframe\">\n",
       "  <thead>\n",
       "    <tr style=\"text-align: right;\">\n",
       "      <th></th>\n",
       "      <th>QueryType</th>\n",
       "      <th>Query Type Count</th>\n",
       "    </tr>\n",
       "  </thead>\n",
       "  <tbody>\n",
       "    <tr>\n",
       "      <th>21</th>\n",
       "      <td>Weather</td>\n",
       "      <td>0.248839</td>\n",
       "    </tr>\n",
       "    <tr>\n",
       "      <th>1</th>\n",
       "      <td>\\tPlant Protection\\t</td>\n",
       "      <td>0.248645</td>\n",
       "    </tr>\n",
       "    <tr>\n",
       "      <th>20</th>\n",
       "      <td>Varieties</td>\n",
       "      <td>0.102300</td>\n",
       "    </tr>\n",
       "    <tr>\n",
       "      <th>4</th>\n",
       "      <td>Bio-Pesticides and Bio-Fertilizers</td>\n",
       "      <td>0.090034</td>\n",
       "    </tr>\n",
       "    <tr>\n",
       "      <th>8</th>\n",
       "      <td>Fertilizer Use and Availability</td>\n",
       "      <td>0.054671</td>\n",
       "    </tr>\n",
       "  </tbody>\n",
       "</table>\n",
       "</div>"
      ],
      "text/plain": [
       "                             QueryType  Query Type Count\n",
       "21                             Weather          0.248839\n",
       "1                 \\tPlant Protection\\t          0.248645\n",
       "20                           Varieties          0.102300\n",
       "4   Bio-Pesticides and Bio-Fertilizers          0.090034\n",
       "8      Fertilizer Use and Availability          0.054671"
      ]
     },
     "execution_count": 87,
     "metadata": {},
     "output_type": "execute_result"
    }
   ],
   "source": [
    "wheat_data = combined_data[combined_data['Crop'] == 'Wheat']\n",
    "print('Number of Queries for Wheat: {}'.format(len(wheat_data)))\n",
    "print('Query Type break up within Wheat')\n",
    "top5_querytype = wheat_data.groupby(by=['QueryType'])['Query'].count().reset_index().sort_values(by='Query',ascending = False).rename(columns={'Query':'Query Type Count'})\n",
    "top5_querytype['Query Type Count'] = top5_querytype['Query Type Count']/sum(top5_querytype['Query Type Count'])\n",
    "top5_querytype[0:5]"
   ]
  },
  {
   "cell_type": "code",
   "execution_count": 88,
   "metadata": {},
   "outputs": [
    {
     "name": "stdout",
     "output_type": "stream",
     "text": [
      "Total Number of Queries under Plant Protection Category in wheat: 26979\n",
      "Top Repeated Queries within Plant Protection in Wheat\n"
     ]
    },
    {
     "data": {
      "text/plain": [
       "Information regarding control of zinc deficiency in wheat ?         1986\n",
       "Information regarding how to control aphids/sundi in wheat crop?    1288\n",
       "Information regarding how to control mixed weeds in wheat crop ?    1172\n",
       "How to control yellow rust in wheat crop?                           1109\n",
       "information regarding how to control yellow rust in wheat crop?      929\n",
       "information regarding control of affids and thrips in wheat?         542\n",
       "How to control fungal desease in wheat crop ?                        533\n",
       "information regarding how to control of termite in wheat?            496\n",
       "how to control aphids in wheat crop?                                 366\n",
       "Information regarding how to control yellow rust in wheat crop?      324\n",
       "Name: Query, dtype: int64"
      ]
     },
     "execution_count": 88,
     "metadata": {},
     "output_type": "execute_result"
    }
   ],
   "source": [
    "wheat_data_plant_protection = wheat_data[wheat_data['QueryType'] == '\\tPlant Protection\\t']\n",
    "print('Total Number of Queries under Plant Protection Category in wheat: {}'.format(len(wheat_data_plant_protection)))\n",
    "print('Top Repeated Queries within Plant Protection in Wheat')\n",
    "wheat_data_plant_protection['Query'].value_counts()[0:10]"
   ]
  },
  {
   "cell_type": "markdown",
   "metadata": {},
   "source": [
    "\n",
    "Keeping only unique query-answer pair per District/State/Block"
   ]
  },
  {
   "cell_type": "code",
   "execution_count": 91,
   "metadata": {},
   "outputs": [],
   "source": [
    "wheat_data_plant_protection_dedup = wheat_data_plant_protection.drop_duplicates(subset=['Query','State','District','Block'],keep ='first')"
   ]
  },
  {
   "cell_type": "code",
   "execution_count": 92,
   "metadata": {},
   "outputs": [
    {
     "name": "stdout",
     "output_type": "stream",
     "text": [
      "Number of Unique Queries per State, District, Block : 15082\n"
     ]
    }
   ],
   "source": [
    "print('Number of Unique Queries per State, District, Block : {}'.format(len(wheat_data_plant_protection_dedup)))"
   ]
  },
  {
   "cell_type": "markdown",
   "metadata": {},
   "source": [
    "##### Removing Location Specific Querying for Now and keeping one query answer pair for the entire data of 8 states"
   ]
  },
  {
   "cell_type": "code",
   "execution_count": 93,
   "metadata": {},
   "outputs": [
    {
     "name": "stdout",
     "output_type": "stream",
     "text": [
      "Number of Unique Queries for all the wheat queries of the 8 States  : 3910\n",
      "Number of Unique Queries for all the wheat queries of the 8 States (After Removing Blank Queries) : 3091\n"
     ]
    },
    {
     "name": "stderr",
     "output_type": "stream",
     "text": [
      "C:\\Users\\Manan Arora\\Anaconda3\\lib\\site-packages\\ipykernel_launcher.py:2: SettingWithCopyWarning: \n",
      "A value is trying to be set on a copy of a slice from a DataFrame.\n",
      "Try using .loc[row_indexer,col_indexer] = value instead\n",
      "\n",
      "See the caveats in the documentation: http://pandas.pydata.org/pandas-docs/stable/indexing.html#indexing-view-versus-copy\n",
      "  \n"
     ]
    }
   ],
   "source": [
    "wheat_data_plant_protection_dedup1 = wheat_data_plant_protection.drop_duplicates(subset=['Query'],keep ='first')\n",
    "wheat_data_plant_protection_dedup1['Query'] = wheat_data_plant_protection_dedup1[\"Query\"].map(lambda x: x.lower());\n",
    "print('Number of Unique Queries for all the wheat queries of the 8 States  : {}'.format(len(wheat_data_plant_protection_dedup1)))\n",
    "wheat_data_plant_protection_dedup2 = wheat_data_plant_protection_dedup1.dropna()\n",
    "print('Number of Unique Queries for all the wheat queries of the 8 States (After Removing Blank Queries) : {}'.format(len(wheat_data_plant_protection_dedup2)))"
   ]
  },
  {
   "cell_type": "code",
   "execution_count": 103,
   "metadata": {},
   "outputs": [],
   "source": [
    "wheat_data_plant_protection_dedup2.to_csv(r'C:\\Users\\Manan Arora\\Desktop\\Plaksha TLF\\Term 2\\DataX Project\\Agriculture\\Datatsets\\KCC-Wheat-QnA-Raw_v1.csv',index = False)"
   ]
  },
  {
   "cell_type": "code",
   "execution_count": 106,
   "metadata": {},
   "outputs": [
    {
     "name": "stdout",
     "output_type": "stream",
     "text": [
      "Number of Questions that talked about providing information on Cotton Plants: 1235\n",
      "Number of Questions that asked something about the Cotton Plants: 348\n",
      "Number of Questions that asked about controling something in the Cotton Plants: 1222\n"
     ]
    }
   ],
   "source": [
    "#Question Type 1: ATTACK\n",
    "wheat_data_plant_protection_information = wheat_data_plant_protection_dedup2[wheat_data_plant_protection_dedup2['Query'].str.contains(\"information\")].reset_index()\n",
    "print('Number of Questions that talked about providing information on Cotton Plants: {}'.format(len(wheat_data_plant_protection_attack)))\n",
    "# Question Type 2: ASK\n",
    "wheat_data_plant_protection_ask = wheat_data_plant_protection_dedup2[wheat_data_plant_protection_dedup2['Query'].str.contains(\"ask\")].reset_index()\n",
    "print('Number of Questions that asked something about the Cotton Plants: {}'.format(len(wheat_data_plant_protection_ask)))\n",
    "# Question Type 2: Control\n",
    "wheat_data_plant_protection_control = wheat_data_plant_protection_dedup2[wheat_data_plant_protection_dedup2['Query'].str.contains(\"control\")].reset_index()\n",
    "print('Number of Questions that asked about controling something in the Cotton Plants: {}'.format(len(wheat_data_plant_protection_control)))"
   ]
  },
  {
   "cell_type": "code",
   "execution_count": 110,
   "metadata": {},
   "outputs": [
    {
     "name": "stdout",
     "output_type": "stream",
     "text": [
      "Done with 100 queries\n",
      "Done with 200 queries\n",
      "Done with 300 queries\n",
      "Done with 400 queries\n",
      "Done with 500 queries\n",
      "Done with 600 queries\n",
      "Done with 700 queries\n",
      "Done with 800 queries\n",
      "Done with 900 queries\n",
      "Done with 1000 queries\n",
      "Done with 1100 queries\n",
      "Done with 1200 queries\n"
     ]
    }
   ],
   "source": [
    "query_len = len(wheat_data_plant_protection_information['Query'])\n",
    "\n",
    "query_info_clean = []\n",
    "\n",
    "for i in range(0,query_len):\n",
    "    if( (i+1)%100 == 0):\n",
    "        print(\"Done with %d queries\" %(i+1)) \n",
    "    query_info_clean.append(cleaner(wheat_data_plant_protection_information['Query'][i]))\n",
    "wheat_data_plant_protection_information['Ouery_Cleaned'] = query_info_clean"
   ]
  },
  {
   "cell_type": "code",
   "execution_count": 116,
   "metadata": {},
   "outputs": [
    {
     "name": "stdout",
     "output_type": "stream",
     "text": [
      "614\n"
     ]
    }
   ],
   "source": [
    "wheat_data_plant_protection_information_dedup = wheat_data_plant_protection_information[['Ouery_Cleaned','Answer']].drop_duplicates(subset=['Ouery_Cleaned'],keep='first')\n",
    "print(len(wheat_data_plant_protection_information_dedup))\n",
    "wheat_data_plant_protection_information.to_csv(r'C:\\Users\\Manan Arora\\Desktop\\Plaksha TLF\\Term 2\\DataX Project\\Agriculture\\Datatsets\\KCC-Wheat-Information-QnA-Processes_v1.csv',index = False)"
   ]
  },
  {
   "cell_type": "code",
   "execution_count": 118,
   "metadata": {},
   "outputs": [
    {
     "name": "stdout",
     "output_type": "stream",
     "text": [
      "Done with 100 queries\n",
      "Done with 200 queries\n",
      "Done with 300 queries\n"
     ]
    }
   ],
   "source": [
    "query_len = len(wheat_data_plant_protection_ask['Query'])\n",
    "\n",
    "query_ask_clean = []\n",
    "\n",
    "for i in range(0,query_len):\n",
    "    if( (i+1)%100 == 0):\n",
    "        print(\"Done with %d queries\" %(i+1)) \n",
    "    query_ask_clean.append(cleaner(wheat_data_plant_protection_ask['Query'][i]))\n",
    "wheat_data_plant_protection_ask['Ouery_Cleaned'] = query_ask_clean"
   ]
  },
  {
   "cell_type": "code",
   "execution_count": 120,
   "metadata": {},
   "outputs": [
    {
     "name": "stdout",
     "output_type": "stream",
     "text": [
      "236\n"
     ]
    }
   ],
   "source": [
    "wheat_data_plant_protection_ask = wheat_data_plant_protection_ask[['Ouery_Cleaned','Answer']].drop_duplicates(subset=['Ouery_Cleaned'],keep='first')\n",
    "print(len(wheat_data_plant_protection_ask))\n",
    "wheat_data_plant_protection_ask.to_csv(r'C:\\Users\\Manan Arora\\Desktop\\Plaksha TLF\\Term 2\\DataX Project\\Agriculture\\Datatsets\\KCC-Wheat-Ask-QnA-Processes_v1.csv',index = False)"
   ]
  },
  {
   "cell_type": "code",
   "execution_count": 121,
   "metadata": {},
   "outputs": [
    {
     "name": "stdout",
     "output_type": "stream",
     "text": [
      "Done with 100 queries\n",
      "Done with 200 queries\n",
      "Done with 300 queries\n",
      "Done with 400 queries\n",
      "Done with 500 queries\n",
      "Done with 600 queries\n",
      "Done with 700 queries\n",
      "Done with 800 queries\n",
      "Done with 900 queries\n",
      "Done with 1000 queries\n",
      "Done with 1100 queries\n",
      "Done with 1200 queries\n"
     ]
    }
   ],
   "source": [
    "query_len = len(wheat_data_plant_protection_control['Query'])\n",
    "\n",
    "query_control_clean = []\n",
    "\n",
    "for i in range(0,query_len):\n",
    "    if( (i+1)%100 == 0):\n",
    "        print(\"Done with %d queries\" %(i+1)) \n",
    "    query_control_clean.append(cleaner(wheat_data_plant_protection_control['Query'][i]))\n",
    "wheat_data_plant_protection_control['Ouery_Cleaned'] = query_control_clean"
   ]
  },
  {
   "cell_type": "code",
   "execution_count": 122,
   "metadata": {},
   "outputs": [
    {
     "name": "stdout",
     "output_type": "stream",
     "text": [
      "644\n"
     ]
    }
   ],
   "source": [
    "wheat_data_plant_protection_control = wheat_data_plant_protection_control[['Ouery_Cleaned','Answer']].drop_duplicates(subset=['Ouery_Cleaned'],keep='first')\n",
    "print(len(wheat_data_plant_protection_control))\n",
    "wheat_data_plant_protection_control.to_csv(r'C:\\Users\\Manan Arora\\Desktop\\Plaksha TLF\\Term 2\\DataX Project\\Agriculture\\Datatsets\\KCC-Wheat-Control-QnA-Processes_v1.csv',index = False)"
   ]
  }
 ],
 "metadata": {
  "kernelspec": {
   "display_name": "Python 3",
   "language": "python",
   "name": "python3"
  },
  "language_info": {
   "codemirror_mode": {
    "name": "ipython",
    "version": 3
   },
   "file_extension": ".py",
   "mimetype": "text/x-python",
   "name": "python",
   "nbconvert_exporter": "python",
   "pygments_lexer": "ipython3",
   "version": "3.7.3"
  }
 },
 "nbformat": 4,
 "nbformat_minor": 4
}
