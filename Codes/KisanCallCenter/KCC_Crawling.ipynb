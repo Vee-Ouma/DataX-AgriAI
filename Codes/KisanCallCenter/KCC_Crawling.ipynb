{
 "cells": [
  {
   "cell_type": "code",
   "execution_count": 4,
   "metadata": {},
   "outputs": [],
   "source": [
    "import requests\n",
    "import json"
   ]
  },
  {
   "cell_type": "markdown",
   "metadata": {},
   "source": [
    "### Function to Crawl KCC Data - State Wise"
   ]
  },
  {
   "cell_type": "code",
   "execution_count": 11,
   "metadata": {},
   "outputs": [],
   "source": [
    "def kcccrawl(state_name,state_cd,year_list):\n",
    "\n",
    "    # @type {String} To store the base URL to hit\n",
    "    baseUrl = 'http://dackkms.gov.in/Account/API/kKMS_QueryData.aspx'\n",
    "\n",
    "    # @type {Dictionary} To store month names\n",
    "    monthSet = {\n",
    "    1: 'Jan',\n",
    "    2: 'Feb',\n",
    "    3: 'Mar',\n",
    "    4: 'Apr',\n",
    "    5: 'May',\n",
    "    6: 'Jun',\n",
    "    7: 'Jul',\n",
    "    8: 'Aug',\n",
    "    9: 'Sep',\n",
    "    10: 'Oct',\n",
    "    11: 'Nov',\n",
    "    12: 'Dec'\n",
    "    }\n",
    "\n",
    "    # @type {List} To store years to download data\n",
    "    years = year_list\n",
    "\n",
    "    for index, year in enumerate(years):\n",
    "        for month in range(9,13):\n",
    "          print(\"\\nDownloading data for the month of {}, {}\".format(monthSet[month], year))\n",
    "          distRange = [str(x).zfill(2) for x in range(1, 100)]\n",
    "          for districtCode in distRange:\n",
    "            #print (\"\\nDownloading data for District #{}\".format(districtCode))\n",
    "            payload = {\n",
    "              'StateCD': '{}'.format(state_cd),\n",
    "              'DistrictCd': '{}'.format(state_cd)+str(districtCode),\n",
    "              'Month': '{}'.format(month),\n",
    "              'Year': '{}'.format(year)\n",
    "            }\n",
    "            fileName = 'C:/Users/Manan Arora/Desktop/Plaksha TLF/DataX Project/Agriculture/Datatsets/KCC-State Wise/{0}KCC/'.format(state_name)+payload['StateCD']+'_'+monthSet[month] + '_' + districtCode + '_' + year + '.js'\n",
    "            with requests.get(baseUrl, params=payload) as r:\n",
    "                try: \n",
    "                    if r.json()['Response'] == 'Data Found':\n",
    "                        outfile = open(fileName, 'w')\n",
    "                        #print(\"Getting data from {}\".format(r.url))\n",
    "                        json.dump(r.json(), outfile)\n",
    "                except:\n",
    "                    print('No Data Found')\n",
    "    print('Crawling Complete')\n"
   ]
  },
  {
   "cell_type": "code",
   "execution_count": 12,
   "metadata": {},
   "outputs": [],
   "source": [
    "state_names = ['MadhyaPradesh','Karnataka','Rajasthan']\n",
    "state_codes = ['10','08','17']"
   ]
  },
  {
   "cell_type": "markdown",
   "metadata": {},
   "source": [
    "### Running the Function"
   ]
  },
  {
   "cell_type": "code",
   "execution_count": null,
   "metadata": {},
   "outputs": [],
   "source": [
    "for i in range(0,4):\n",
    "    print('State Name: {}'.format(state_names[i]))\n",
    "    kcccrawl(state_name = state_names[i],state_cd = state_codes[i],year_list =['2016'])"
   ]
  }
 ],
 "metadata": {
  "kernelspec": {
   "display_name": "Python 3",
   "language": "python",
   "name": "python3"
  },
  "language_info": {
   "codemirror_mode": {
    "name": "ipython",
    "version": 3
   },
   "file_extension": ".py",
   "mimetype": "text/x-python",
   "name": "python",
   "nbconvert_exporter": "python",
   "pygments_lexer": "ipython3",
   "version": "3.7.3"
  }
 },
 "nbformat": 4,
 "nbformat_minor": 4
}
