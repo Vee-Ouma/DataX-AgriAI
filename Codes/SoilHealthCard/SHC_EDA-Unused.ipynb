{
 "cells": [
  {
   "cell_type": "code",
   "execution_count": null,
   "metadata": {},
   "outputs": [],
   "source": [
    "correlation_columns = ['pH', 'EC', 'OC' ,\n",
    "                    'P', 'K', 'S',\n",
    "                    'Zn' ,'Fe', \n",
    "                    'Mn', 'Cu']\n",
    "correlation_data_frame = pd.DataFrame(soil_database_df.iloc[ :, [6,7,8,10,11,12,13,15,16 ,17]  ]  )\n",
    "correlation_data_frame.columns = correlation_columns\n",
    "correlation_data_frame = correlation_data_frame.replace('--',np.NaN)\n",
    "correlation_data_frame = correlation_data_frame.astype(float,errors='raise')\n",
    "soil_cr = correlation_data_frame.corr(method='pearson')\n",
    "display(soil_cr)\n",
    "correlation_data_frame.to_pickle('soil_health_data')"
   ]
  },
  {
   "cell_type": "code",
   "execution_count": null,
   "metadata": {},
   "outputs": [],
   "source": [
    "#Plots for correlation in soil nutrients\n",
    "sb.set(style=\"white\")\n",
    "\n",
    "# Generate a mask for the upper triangle\n",
    "mask = np.zeros_like(soil_cr, dtype=np.bool)\n",
    "mask[np.triu_indices_from(mask)] = True\n",
    "\n",
    "# Set up the matplotlib figure\n",
    "f, ax = plt.subplots(figsize=(11, 9))\n",
    "\n",
    "# Generate a custom diverging colormap\n",
    "cmap = sb.diverging_palette(220, 10, as_cmap=True)\n",
    "\n",
    "# Draw the heatmap with the mask and correct aspect ratio\n",
    "sb.heatmap(soil_cr, mask=mask, cmap=cmap, vmax=.3, center=0, annot=True,\n",
    "            square=True, linewidths=.5, cbar_kws={\"shrink\": .5})\n",
    "display(correlation_data_frame.describe())"
   ]
  },
  {
   "cell_type": "code",
   "execution_count": null,
   "metadata": {},
   "outputs": [],
   "source": [
    "#Scatter matrix depicting correlation of soil nutrients\n",
    "pd.plotting.scatter_matrix(\n",
    "    correlation_data_frame,\n",
    "    figsize  = [15, 15],\n",
    "#     marker   = \".\",\n",
    "#     s        = 0.2,\n",
    "#     diagonal = \"kde\"\n",
    ")"
   ]
  },
  {
   "cell_type": "code",
   "execution_count": null,
   "metadata": {},
   "outputs": [],
   "source": [
    "#soil_database_df.info()"
   ]
  },
  {
   "cell_type": "code",
   "execution_count": null,
   "metadata": {},
   "outputs": [],
   "source": [
    "#soil_database_df.describe()"
   ]
  },
  {
   "cell_type": "code",
   "execution_count": null,
   "metadata": {},
   "outputs": [],
   "source": [
    "#import tensorflow as tf\n",
    "from sklearn import metrics\n",
    "from xgboost import XGBRegressor\n",
    "from sklearn.model_selection import train_test_split\n",
    "from sklearn.metrics import accuracy_score\n",
    "import xgboost as xgb"
   ]
  },
  {
   "cell_type": "code",
   "execution_count": null,
   "metadata": {},
   "outputs": [],
   "source": [
    "correlation_data_frame = correlation_data_frame.reindex(np.random.permutation(correlation_data_frame.index))\n",
    "# correlation_data_frame.describe()\n",
    "X = correlation_data_frame[['pH', 'EC', 'OC', \n",
    "                     'S', 'Zn', 'Fe', \n",
    "                    'Mn','Cu']].copy()\n",
    "Y_Phosphorus = correlation_data_frame[['P']].copy()\n",
    "X.columns = ['pH', 'EC', 'OC', \n",
    "                     'S', 'Zn', 'Fe', \n",
    "                    'Mn','Cu']\n",
    "Y_Phosphorus.columns = ['P']"
   ]
  },
  {
   "cell_type": "code",
   "execution_count": null,
   "metadata": {},
   "outputs": [],
   "source": [
    "b = X.loc[ :, 'pH' : 'Cu' ] == np.NaN\n",
    "b.sum()\n"
   ]
  },
  {
   "cell_type": "code",
   "execution_count": null,
   "metadata": {},
   "outputs": [],
   "source": [
    "X = X.replace(np.NaN,0)\n",
    "Y_Phosphorus = Y_Phosphorus.replace(np.NaN,0)"
   ]
  },
  {
   "cell_type": "code",
   "execution_count": null,
   "metadata": {},
   "outputs": [],
   "source": [
    "# display(X, Y_Phosphorus)\n",
    "seed = 123\n",
    "test_size = 0.2\n",
    "X_train, X_test, y_train, y_test = train_test_split(X, Y_Phosphorus, test_size=test_size, random_state=seed)"
   ]
  },
  {
   "cell_type": "code",
   "execution_count": null,
   "metadata": {},
   "outputs": [],
   "source": [
    "seed = 123\n",
    "valid_size = 0.2\n",
    "X_train, X_valid, y_train, y_valid = train_test_split(X_train, y_train, test_size=valid_size, random_state=seed)"
   ]
  },
  {
   "cell_type": "code",
   "execution_count": null,
   "metadata": {},
   "outputs": [],
   "source": [
    "print(X_train.shape , X_valid.shape , X_test.shape)"
   ]
  },
  {
   "cell_type": "code",
   "execution_count": null,
   "metadata": {},
   "outputs": [],
   "source": [
    "data_dmatrix = xgb.DMatrix(data=X_train,label=y_train)\n",
    "valid_matrix = xgb.DMatrix(data=X_valid)\n",
    "test_matrix  = xgb.DMatrix(data=X_test,label=y_test)\n"
   ]
  },
  {
   "cell_type": "code",
   "execution_count": null,
   "metadata": {},
   "outputs": [],
   "source": [
    "def try_xgb_params(data_matrix,test_matrix  , num_boost_round=10 ,  early_stopping_rounds=50, **params):\n",
    "    model = xgb.train(params,  data_matrix   )\n",
    "    y_pred = model.predict( test_matrix)\n",
    "    return y_pred , model"
   ]
  },
  {
   "cell_type": "code",
   "execution_count": null,
   "metadata": {},
   "outputs": [],
   "source": [
    "def get_accuracy( model , y_pred , y , X   ):\n",
    "    rmse = np.sqrt(metrics.mean_squared_error(y , y_pred))\n",
    "    return rmse "
   ]
  },
  {
   "cell_type": "code",
   "execution_count": null,
   "metadata": {},
   "outputs": [],
   "source": [
    "params1 = {\"objective\":\"reg:linear\",'colsample_bytree': 0.2,'learning_rate': 0.6,\n",
    "                'max_depth': 4, 'alpha': 20 }"
   ]
  },
  {
   "cell_type": "code",
   "execution_count": null,
   "metadata": {},
   "outputs": [],
   "source": [
    "y_pred , model_try = try_xgb_params(data_dmatrix ,valid_matrix ,   params1)"
   ]
  },
  {
   "cell_type": "code",
   "execution_count": null,
   "metadata": {},
   "outputs": [],
   "source": [
    "rmse  =   get_accuracy(model_try ,y_pred , y_valid , X_valid)"
   ]
  },
  {
   "cell_type": "code",
   "execution_count": null,
   "metadata": {},
   "outputs": [],
   "source": [
    "print(rmse )"
   ]
  },
  {
   "cell_type": "code",
   "execution_count": null,
   "metadata": {},
   "outputs": [],
   "source": [
    "xgb.plot_importance(model)\n",
    "plt.rcParams['figure.figsize'] = [5, 5]\n",
    "plt.show()6.24520772357577"
   ]
  },
  {
   "cell_type": "code",
   "execution_count": null,
   "metadata": {},
   "outputs": [],
   "source": [
    "xgb.plot_tree(model)\n",
    "plt.rcParams['figure.figsize'] = [200, 200]\n",
    "# fig = plt.gcf() \n",
    "# fig.set_size_inches(150, 100)\n",
    "plt.show()"
   ]
  },
  {
   "cell_type": "code",
   "execution_count": null,
   "metadata": {},
   "outputs": [],
   "source": [
    "#model.get_score(X_valid , y_valid)\n",
    "\n",
    "\n",
    "list_of_params = []\n",
    "params1 = {\"objective\":\"reg:linear\",'colsample_bytree': 0.2,'learning_rate': 0.30,\n",
    "                'max_depth': 4, 'alpha': 10 }\n",
    "params2 = {\"objective\":\"reg:linear\",'colsample_bytree': 0.4,'learning_rate': 0.5,\n",
    "                'max_depth': 5, 'alpha': 10 }\n",
    "params3 = {\"objective\":\"reg:linear\",'colsample_bytree': 0.8,'learning_rate': 0.7,\n",
    "                'max_depth': 6, 'alpha': 10 }\n",
    "\n",
    "list_of_params.append(params1)\n",
    "list_of_params.append(params2)\n",
    "list_of_params.append(params3)\n",
    "\n",
    "for param in list_of_params:\n",
    "    del model\n",
    "    y_pred , model = try_xgb_params(data_dmatrix ,valid_matrix ,   param)\n",
    "    rmse  =   get_accuracy(model ,y_pred , y_valid , X_valid)\n",
    "    print(rmse)\n"
   ]
  },
  {
   "cell_type": "code",
   "execution_count": null,
   "metadata": {},
   "outputs": [],
   "source": []
  },
  {
   "cell_type": "code",
   "execution_count": null,
   "metadata": {},
   "outputs": [],
   "source": [
    "# model = XGBRegressor(objective ='reg:linear', colsample_bytree = 1, learning_rate = 0.1,\n",
    "#                 max_depth = 4, alpha = 10, n_estimators = 8)\n",
    "# model.fit(X_train, y_train)\n",
    "# print(model)\n",
    "# #predict\n",
    "# y_pred = model.predict(X_test)\n",
    "# # print(y_test, y_pred)\n",
    "# # evaluate predictions\n",
    "# print(Y_Phosphorus.describe())\n",
    "# rmse = np.sqrt(metrics.mean_squared_error(y_test, y_pred))\n",
    "# print(\"RMSE: %f\" % (rmse))\n",
    "# print(model.score(X_train, y_train))\n",
    "# # predictions = [round(value) for value in y_pred]\n",
    "# # evaluate predictions\n",
    "# # print(\"Accuracy: %.2f%%\" % (accuracy * 100.0))\n",
    "# xgb.plot_importance(model)\n",
    "# plt.rcParams['figure.figsize'] = [5, 5]\n",
    "# plt.show()"
   ]
  },
  {
   "cell_type": "code",
   "execution_count": null,
   "metadata": {},
   "outputs": [],
   "source": []
  },
  {
   "cell_type": "code",
   "execution_count": null,
   "metadata": {},
   "outputs": [],
   "source": [
    "# # xgb.plot_tree(columns = ['pH', 'EC', 'Organic Carbon (OC)', \n",
    "# #                      'Available Sulphur (S)', 'Available Zinc (Zn)', 'Available Iron (Fe)', \n",
    "# #                     'Available Manganese (Mn)','Available Copper (Cu)'], model = model.booster, trees = None)\n",
    "# data_dmatrix = xgb.DMatrix(data=X,label=Y_Phosphorus)\n",
    "# params = {\"objective\":\"reg:linear\",'colsample_bytree': 0.3,'learning_rate': 0.1,\n",
    "#                 'max_depth': 5, 'alpha': 10}\n",
    "# # xg_reg = xgb.train(params=params, dtrain=data_dmatrix, num_boost_round=10)\n",
    "# xgb.plot_tree(model)\n",
    "# plt.rcParams['figure.figsize'] = [100, 100]\n",
    "# plt.show()"
   ]
  },
  {
   "cell_type": "markdown",
   "metadata": {},
   "source": [
    "<h4>  convert into validation set"
   ]
  },
  {
   "cell_type": "code",
   "execution_count": null,
   "metadata": {},
   "outputs": [],
   "source": [
    "# X_train, X_valid, y_train, y_valid = train_test_split(X_train, y_train, test_size=0.33, random_state=seed)\n",
    "\n",
    "\n",
    "\n",
    "# print(X_train.shape)\n",
    "# print(X_valid.shape)"
   ]
  }
 ],
 "metadata": {
  "kernelspec": {
   "display_name": "Python 3",
   "language": "python",
   "name": "python3"
  },
  "language_info": {
   "codemirror_mode": {
    "name": "ipython",
    "version": 3
   },
   "file_extension": ".py",
   "mimetype": "text/x-python",
   "name": "python",
   "nbconvert_exporter": "python",
   "pygments_lexer": "ipython3",
   "version": "3.7.3"
  }
 },
 "nbformat": 4,
 "nbformat_minor": 4
}
