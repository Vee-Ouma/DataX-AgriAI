{
 "cells": [
  {
   "cell_type": "code",
   "execution_count": 48,
   "metadata": {},
   "outputs": [],
   "source": [
    "from __future__ import division\n",
    "from flask import Flask, request, jsonify, render_template\n",
    "import os\n",
    "import dialogflow_v2beta1 as dialogflow\n",
    "import requests\n",
    "import json\n",
    "import pusher\n",
    "from dotenv import load_dotenv\n",
    "import numpy as np\n",
    "from sklearn.neighbors import NearestNeighbors\n",
    "import pandas as pd\n",
    "import predicted\n",
    "import re\n",
    "import sys\n",
    "from google.cloud import speech\n",
    "from google.cloud.speech import enums\n",
    "from google.cloud.speech import types\n",
    "import pyaudio\n",
    "from six.moves import queue\n",
    "import socket\n",
    "from google.oauth2 import service_account\n",
    "from geopy.extra.rate_limiter import RateLimiter\n",
    "from geopy.geocoders import Nominatim\n",
    "from geopy.exc import GeocoderTimedOut\n",
    "from functools import partial"
   ]
  },
  {
   "cell_type": "code",
   "execution_count": 6,
   "metadata": {},
   "outputs": [],
   "source": [
    "import dialogflow"
   ]
  },
  {
   "cell_type": "code",
   "execution_count": 8,
   "metadata": {},
   "outputs": [
    {
     "ename": "AttributeError",
     "evalue": "module 'dialogflow' has no attribute '__version__'",
     "output_type": "error",
     "traceback": [
      "\u001b[1;31m---------------------------------------------------------------------------\u001b[0m",
      "\u001b[1;31mAttributeError\u001b[0m                            Traceback (most recent call last)",
      "\u001b[1;32m<ipython-input-8-3ec1aa1a6ffc>\u001b[0m in \u001b[0;36m<module>\u001b[1;34m\u001b[0m\n\u001b[1;32m----> 1\u001b[1;33m \u001b[0mdialogflow\u001b[0m\u001b[1;33m.\u001b[0m\u001b[0m__version__\u001b[0m\u001b[1;33m\u001b[0m\u001b[1;33m\u001b[0m\u001b[0m\n\u001b[0m",
      "\u001b[1;31mAttributeError\u001b[0m: module 'dialogflow' has no attribute '__version__'"
     ]
    }
   ],
   "source": [
    "dialogflow.__version__"
   ]
  },
  {
   "cell_type": "code",
   "execution_count": 49,
   "metadata": {},
   "outputs": [
    {
     "ename": "AttributeError",
     "evalue": "type object 'functools.partial' has no attribute '__version__'",
     "output_type": "error",
     "traceback": [
      "\u001b[1;31m---------------------------------------------------------------------------\u001b[0m",
      "\u001b[1;31mAttributeError\u001b[0m                            Traceback (most recent call last)",
      "\u001b[1;32m<ipython-input-49-227aad08a775>\u001b[0m in \u001b[0;36m<module>\u001b[1;34m\u001b[0m\n\u001b[1;32m----> 1\u001b[1;33m \u001b[0mpartial\u001b[0m\u001b[1;33m.\u001b[0m\u001b[0m__version__\u001b[0m\u001b[1;33m\u001b[0m\u001b[1;33m\u001b[0m\u001b[0m\n\u001b[0m",
      "\u001b[1;31mAttributeError\u001b[0m: type object 'functools.partial' has no attribute '__version__'"
     ]
    }
   ],
   "source": [
    "partial.__version__"
   ]
  },
  {
   "cell_type": "code",
   "execution_count": 28,
   "metadata": {},
   "outputs": [],
   "source": [
    "credentials = service_account.Credentials.from_service_account_file(r'C:\\Users\\Dell\\Documents\\Plaksha\\Data-x\\Data-x_Project\\Farm_Assist\\googlecloud.json')\n",
    "socket.setdefaulttimeout(15)"
   ]
  },
  {
   "cell_type": "code",
   "execution_count": 29,
   "metadata": {},
   "outputs": [],
   "source": [
    "# retrieve lat long\n",
    "locator = Nominatim(user_agent='myGeocoder')\n",
    "geocode = RateLimiter(locator.geocode)\n",
    "\n",
    "def get_geocode(df):\n",
    "    try:\n",
    "        location = df.ADDRESS[:200].apply(partial(geocode,timeout=None))\n",
    "        return location\n",
    "    except GeocoderTimedOut as e:\n",
    "        get_geocode()\n",
    "        \n",
    "\n",
    "def get_coordinates():\n",
    "    df=pd.read_csv(r'C:\\Users\\Dell\\Documents\\Plaksha\\Data-x\\Data-x_Project\\krishi_bot\\Data\\mandi_price_data.csv')\n",
    "    ADDRESS = df.apply(lambda row:'{},{},{}'.format(row.MARKET,row.DISTRICT,row.STATE),axis=1)\n",
    "    df['ADDRESS'] = ADDRESS\n",
    "    location = get_geocode(df)\n",
    "    point = location.apply(lambda loc: tuple(loc.point) if loc else None)\n",
    "    df[['latitude', 'longitude', 'altitude']] = pd.DataFrame(point.tolist(), index=df.index)\n",
    "    df.to_csv('price_latlong.csv')"
   ]
  },
  {
   "cell_type": "code",
   "execution_count": 30,
   "metadata": {},
   "outputs": [],
   "source": [
    "app = Flask('KrishiBot')\n",
    "user_latitude = ''\n",
    "user_longitude = ''"
   ]
  },
  {
   "cell_type": "code",
   "execution_count": 31,
   "metadata": {},
   "outputs": [],
   "source": [
    "# initialize Pusher\n",
    "load_dotenv()\n",
    "pusher_client = pusher.Pusher(\n",
    "    app_id=os.getenv('PUSHER_APP_ID'),\n",
    "    key=os.getenv('PUSHER_KEY'),\n",
    "    secret=os.getenv('PUSHER_SECRET'),\n",
    "    cluster=os.getenv('PUSHER_CLUSTER'),\n",
    "    ssl=True)"
   ]
  },
  {
   "cell_type": "code",
   "execution_count": 32,
   "metadata": {},
   "outputs": [],
   "source": [
    "@app.route('/')\n",
    "def index():\n",
    "    return render_template('home_index.html')\n",
    "\n",
    "@app.route('/display_chatbot')\n",
    "def display_chatbot():\n",
    "    print('chatbot')\n",
    "    return render_template('chat.html')\n",
    "\n",
    "@app.route('/display_price')\n",
    "def display_price():\n",
    "    return render_template('price.html')"
   ]
  },
  {
   "cell_type": "code",
   "execution_count": 33,
   "metadata": {},
   "outputs": [],
   "source": [
    "@app.route('/send_geolocation', methods=['POST'])\n",
    "def send_geolocation():\n",
    "    print('geo')\n",
    "    global user_latitude \n",
    "    global user_longitude \n",
    "    user_latitude = request.form['lat']\n",
    "    user_longitude = request.form['long'] \n",
    "    return str('')"
   ]
  },
  {
   "cell_type": "code",
   "execution_count": 34,
   "metadata": {},
   "outputs": [],
   "source": [
    "def detect_intent_texts(project_id, session_id, text, language_code,crop):\n",
    "    session_client = dialogflow.SessionsClient()\n",
    "    session = session_client.session_path(project_id, session_id)\n",
    "    if text:\n",
    "        text_input = dialogflow.types.TextInput(\n",
    "            text=text, language_code=language_code)\n",
    "        query_input = dialogflow.types.QueryInput(text=text_input)\n",
    "        knowledgebase_client = dialogflow.KnowledgeBasesClient()\n",
    "        Parent = knowledgebase_client.project_path(project_id);\n",
    "        knowledge_base_path = ''\n",
    "        knowledge_bases = []\n",
    "        for element in  knowledgebase_client.list_knowledge_bases(parent = Parent):\n",
    "            knowledge_bases.append(element)\n",
    "        print(knowledge_bases) \n",
    "        if crop == 'wheat':\n",
    "            knowledge_base_path = knowledge_bases[0].name\n",
    "        else:\n",
    "            knowledge_base_path = knowledge_bases[2].name\n",
    "        query_params = dialogflow.types.QueryParameters(\n",
    "            knowledge_base_names=[knowledge_base_path])\n",
    "        response = session_client.detect_intent(\n",
    "            session=session, query_input=query_input,query_params=query_params)\n",
    "        print(response.query_result.fulfillment_text)\n",
    "        return response.query_result.fulfillment_text"
   ]
  },
  {
   "cell_type": "code",
   "execution_count": 35,
   "metadata": {},
   "outputs": [],
   "source": [
    "def detect_intent_audio(project_id, session_id, audio_file_path,\n",
    "                        language_code):\n",
    "    \"\"\"Returns the result of detect intent with an audio file as input.\n",
    "\n",
    "    Using the same `session_id` between requests allows continuation\n",
    "    of the conversation.\"\"\"\n",
    "\n",
    "    session_client = dialogflow.SessionsClient()\n",
    "\n",
    "    # Note: hard coding audio_encoding and sample_rate_hertz for simplicity.\n",
    "    audio_encoding = dialogflow.enums.AudioEncoding.AUDIO_ENCODING_LINEAR_16\n",
    "    sample_rate_hertz = 16000\n",
    "\n",
    "    session = session_client.session_path(project_id, session_id)\n",
    "    print('Session path: {}\\n'.format(session))\n",
    "\n",
    "    with open(audio_file_path, 'rb') as audio_file:\n",
    "        input_audio = audio_file.read()\n",
    "\n",
    "    audio_config = dialogflow.types.InputAudioConfig(\n",
    "        audio_encoding=audio_encoding, language_code=language_code,\n",
    "        sample_rate_hertz=sample_rate_hertz)\n",
    "    query_input = dialogflow.types.QueryInput(audio_config=audio_config)\n",
    "\n",
    "    response = session_client.detect_intent(\n",
    "        session=session, query_input=query_input,\n",
    "        input_audio=input_audio)\n",
    "\n",
    "    print('=' * 20)\n",
    "    print('Query text: {}'.format(response.query_result.query_text))\n",
    "    print('Detected intent: {} (confidence: {})\\n'.format(\n",
    "        response.query_result.intent.display_name,\n",
    "        response.query_result.intent_detection_confidence))\n",
    "    print('Fulfillment text: {}\\n'.format(\n",
    "        response.query_result.fulfillment_text))"
   ]
  },
  {
   "cell_type": "code",
   "execution_count": 36,
   "metadata": {},
   "outputs": [],
   "source": [
    "@app.route('/send_message', methods=['POST'])\n",
    "def send_message():\n",
    "    try:\n",
    "        socketId = request.form['socketId']\n",
    "    except KeyError:\n",
    "        socketId = ''\n",
    "        \n",
    "    message = request.form['message']\n",
    "    crop = request.form['crop']\n",
    "    project_id = os.getenv('DIALOGFLOW_PROJECT_ID')\n",
    "    fulfillment_text = detect_intent_texts(project_id, np.random.rand(1,1), message, 'en',crop)\n",
    "    response_text = { \"message\":  fulfillment_text, }\n",
    "\n",
    "    pusher_client.trigger(\n",
    "        'KrishBot', \n",
    "        'new_message', \n",
    "        {\n",
    "            'human_message': message, \n",
    "            'bot_message': fulfillment_text,\n",
    "        },\n",
    "        socketId\n",
    "    )\n",
    "                        \n",
    "    return jsonify(response_text)"
   ]
  },
  {
   "cell_type": "code",
   "execution_count": 37,
   "metadata": {},
   "outputs": [],
   "source": [
    "@app.route('/get_market', methods=['GET','POST'])\n",
    "def get_market():\n",
    "    userlocation = np.array([[user_latitude, user_longitude]])\n",
    "    distances, indices = predicted.predict(userlocation)\n",
    "    market = pd.read_csv('./Data/Markets_LatLong.csv')\n",
    "    price = pd.read_csv('./Data/price_latlong.csv')\n",
    "    print(indices)\n",
    "    nearest_mandi = market.iloc[indices[0][:]]\n",
    "    print(nearest_mandi)\n",
    "    price_nearest_mandi = price[price.ADDRESS.isin(nearest_mandi.ADDRESS)]\n",
    "    market_commodity = price_nearest_mandi[['MARKET','COMMODITY']].drop_duplicates()\n",
    "    market_commodity_dic = market_commodity.groupby('MARKET').COMMODITY.apply(list)\n",
    "    return jsonify({'market':list(market_commodity_dic.index),'commodity':list(market_commodity_dic.values)})"
   ]
  },
  {
   "cell_type": "code",
   "execution_count": 38,
   "metadata": {},
   "outputs": [],
   "source": [
    "@app.route('/get_price', methods=['GET','POST'])\n",
    "def get_price():\n",
    "    try:\n",
    "        market = request.form['market']\n",
    "        commodity = request.form['commodity']\n",
    "    except KeyError:\n",
    "        market = ''\n",
    "        commodity = ''\n",
    "    df = pd.read_csv('./Data/price_latlong.csv')\n",
    "    price = df[(df.MARKET == market) &(df.COMMODITY == commodity)]\n",
    "    variety_price = price[['VARIETY','ARRIVAL_DATE','MIN_PRICE','MAX_PRICE','MODAL_PRICE']]\n",
    "    variety_date = pd.DataFrame(variety_price.groupby('VARIETY')['ARRIVAL_DATE'].max()).reset_index()\n",
    "    variety_date_price = variety_date.merge(variety_price,how='inner',on=['ARRIVAL_DATE','VARIETY'])\n",
    "    print(variety_date_price.to_dict())\n",
    "    return jsonify(variety_date_price.to_dict())"
   ]
  },
  {
   "cell_type": "code",
   "execution_count": 39,
   "metadata": {},
   "outputs": [],
   "source": [
    "# Audio recording parameters\n",
    "RATE = 16000\n",
    "CHUNK = int(RATE / 10)  # 100ms\n",
    "\n",
    "\n",
    "class MicrophoneStream(object):\n",
    "    \"\"\"Opens a recording stream as a generator yielding the audio chunks.\"\"\"\n",
    "    def __init__(self, rate, chunk):\n",
    "        self._rate = rate\n",
    "        self._chunk = chunk\n",
    "        # Create a thread-safe buffer of audio data\n",
    "        self._buff = queue.Queue()\n",
    "        self.closed = True\n",
    "\n",
    "    def __enter__(self):\n",
    "        self._audio_interface = pyaudio.PyAudio()\n",
    "        self._audio_stream = self._audio_interface.open(format=pyaudio.paInt16,\n",
    "            # The API currently only supports 1-channel (mono) audio\n",
    "            # https://goo.gl/z757pE\n",
    "            channels=1, rate=self._rate,\n",
    "            input=True, frames_per_buffer=self._chunk,\n",
    "            # Run the audio stream asynchronously to fill the buffer object.\n",
    "            # This is necessary so that the input device's buffer doesn't\n",
    "            # overflow while the calling thread makes network requests, etc.\n",
    "            stream_callback=self._fill_buffer,\n",
    "        )\n",
    "\n",
    "        self.closed = False\n",
    "\n",
    "        return self\n",
    "\n",
    "    def __exit__(self, type, value, traceback):\n",
    "        self._audio_stream.stop_stream()\n",
    "        self._audio_stream.close()\n",
    "        self.closed = True\n",
    "        # Signal the generator to terminate so that the client's\n",
    "        # streaming_recognize method will not block the process termination.\n",
    "        self._buff.put(None)\n",
    "        self._audio_interface.terminate()\n",
    "\n",
    "    def _fill_buffer(self, in_data, frame_count, time_info, status_flags):\n",
    "        \"\"\"Continuously collect data from the audio stream, into the buffer.\"\"\"\n",
    "        self._buff.put(in_data)\n",
    "        return None, pyaudio.paContinue\n",
    "\n",
    "    def generator(self):\n",
    "        while not self.closed:\n",
    "            # Use a blocking get() to ensure there's at least one chunk of\n",
    "            # data, and stop iteration if the chunk is None, indicating the\n",
    "            # end of the audio stream.\n",
    "            chunk = self._buff.get()\n",
    "            if chunk is None:\n",
    "                return\n",
    "            data = [chunk]\n",
    "\n",
    "            # Now consume whatever other data's still buffered.\n",
    "            while True:\n",
    "                try:\n",
    "                    chunk = self._buff.get(block=False)\n",
    "                    if chunk is None:\n",
    "                        return\n",
    "                    data.append(chunk)\n",
    "                except queue.Empty:\n",
    "                    break\n",
    "\n",
    "            yield b''.join(data)\n",
    "\n",
    "\n",
    "def listen_print_loop(responses):\n",
    "    \"\"\"Iterates through server responses and prints them.\n",
    "\n",
    "    The responses passed is a generator that will block until a response\n",
    "    is provided by the server.\n",
    "\n",
    "    Each response may contain multiple results, and each result may contain\n",
    "    multiple alternatives; for details, see https://goo.gl/tjCPAU.  Here we\n",
    "    print only the transcription for the top alternative of the top result.\n",
    "\n",
    "    In this case, responses are provided for interim results as well. If the\n",
    "    response is an interim one, print a line feed at the end of it, to allow\n",
    "    the next result to overwrite it, until the response is a final one. For the\n",
    "    final one, print a newline to preserve the finalized transcription.\n",
    "    \"\"\"\n",
    "    num_chars_printed = 0\n",
    "    for response in responses:\n",
    "        if not response.results:\n",
    "            continue\n",
    "\n",
    "        # The `results` list is consecutive. For streaming, we only care about\n",
    "        # the first result being considered, since once it's `is_final`, it\n",
    "        # moves on to considering the next utterance.\n",
    "        result = response.results[0]\n",
    "        if not result.alternatives:\n",
    "            continue\n",
    "\n",
    "        # Display the transcription of the top alternative.\n",
    "        transcript = result.alternatives[0].transcript\n",
    "\n",
    "        # Display interim results, but with a carriage return at the end of the\n",
    "        # line, so subsequent lines will overwrite them.\n",
    "        #\n",
    "        # If the previous result was longer than this one, we need to print\n",
    "        # some extra spaces to overwrite the previous result\n",
    "        overwrite_chars = ' ' * (num_chars_printed - len(transcript))\n",
    "\n",
    "        if not result.is_final:\n",
    "            sys.stdout.write(transcript + overwrite_chars + '\\r')\n",
    "            sys.stdout.flush()\n",
    "\n",
    "            num_chars_printed = len(transcript)\n",
    "\n",
    "        else:\n",
    "            print(transcript + overwrite_chars)\n",
    "            print('23')\n",
    "\n",
    "            # Exit recognition if any of the transcribed phrases could be\n",
    "            # one of our keywords.\n",
    "            if re.search(r'\\b(exit|quit)\\b', transcript, re.I):\n",
    "                print('Exiting..')\n",
    "                break\n",
    "\n",
    "            num_chars_printed+=1\n",
    "        return transcript + overwrite_chars"
   ]
  },
  {
   "cell_type": "code",
   "execution_count": 40,
   "metadata": {},
   "outputs": [],
   "source": [
    "@app.route('/send_audio', methods=['POST'])\n",
    "def send_audio():\n",
    "    # See http://g.co/cloud/speech/docs/languages\n",
    "    # for a list of supported languages.\n",
    "    language_code = 'en-IN'  # a BCP-47 language tag\n",
    "    try:\n",
    "        socketId = request.form['socketId']\n",
    "    except KeyError:\n",
    "        socketId = ''\n",
    "\n",
    "    client = speech.SpeechClient(credentials = credentials)\n",
    "    config = types.RecognitionConfig(\n",
    "        encoding=enums.RecognitionConfig.AudioEncoding.LINEAR16,\n",
    "        sample_rate_hertz=RATE,\n",
    "        language_code=language_code)\n",
    "    streaming_config = types.StreamingRecognitionConfig(\n",
    "        config=config,\n",
    "        interim_results=True, single_utterance = True)\n",
    "\n",
    "    with MicrophoneStream(RATE, CHUNK) as stream:\n",
    "        audio_generator = stream.generator()\n",
    "        requests = (types.StreamingRecognizeRequest(audio_content=content)\n",
    "                    for content in audio_generator)\n",
    "\n",
    "        responses = client.streaming_recognize(streaming_config, requests,timeout =40.0)\n",
    "\n",
    "        # Now, put the transcription responses to use.\n",
    "        try:\n",
    "            message = listen_print_loop(responses)\n",
    "            print(message+'outside')\n",
    "            #project_id = os.getenv('DIALOGFLOW_PROJECT_ID')\n",
    "            #fulfillment_text = detect_intent_texts(project_id, np.random.rand(1,1), message, 'en')\n",
    "            #response_text = {\"message\":fulfillment_text,\"input\":message}  \n",
    "            return jsonify({\"input\":message})\n",
    "        except:\n",
    "            pass\n",
    "            return jsonify({\"input\":message})\n",
    "            "
   ]
  },
  {
   "cell_type": "code",
   "execution_count": 41,
   "metadata": {},
   "outputs": [
    {
     "name": "stdout",
     "output_type": "stream",
     "text": [
      " * Serving Flask app \"KrishiBot\" (lazy loading)\n",
      " * Environment: development\n",
      " * Debug mode: on\n"
     ]
    },
    {
     "name": "stderr",
     "output_type": "stream",
     "text": [
      " * Running on http://127.0.0.1:5000/ (Press CTRL+C to quit)\n",
      "127.0.0.1 - - [08/Dec/2019 00:10:27] \"\u001b[37mGET / HTTP/1.1\u001b[0m\" 200 -\n",
      "127.0.0.1 - - [08/Dec/2019 00:10:27] \"\u001b[37mGET /static/home_assets/bootstrap/css/bootstrap.min.css HTTP/1.1\u001b[0m\" 200 -\n",
      "127.0.0.1 - - [08/Dec/2019 00:10:27] \"\u001b[37mGET /static/home_assets/css/style.css HTTP/1.1\u001b[0m\" 200 -\n",
      "127.0.0.1 - - [08/Dec/2019 00:10:27] \"\u001b[37mGET /static/home_assets/fonts/font-awesome.min.css HTTP/1.1\u001b[0m\" 200 -\n",
      "127.0.0.1 - - [08/Dec/2019 00:10:27] \"\u001b[37mGET /static/home_assets/js/grayscale.js HTTP/1.1\u001b[0m\" 200 -\n",
      "127.0.0.1 - - [08/Dec/2019 00:10:27] \"\u001b[37mGET /static/home_assets/js/custom.js HTTP/1.1\u001b[0m\" 200 -\n",
      "127.0.0.1 - - [08/Dec/2019 00:10:27] \"\u001b[37mGET /static/home_assets/bootstrap/js/bootstrap.min.js HTTP/1.1\u001b[0m\" 200 -\n",
      "127.0.0.1 - - [08/Dec/2019 00:10:27] \"\u001b[37mGET /static/home_assets/js/jquery.min.js HTTP/1.1\u001b[0m\" 200 -\n",
      "127.0.0.1 - - [08/Dec/2019 00:10:30] \"\u001b[37mGET /static/home_assets/img/downloads-bg.jpg HTTP/1.1\u001b[0m\" 200 -\n",
      "127.0.0.1 - - [08/Dec/2019 00:10:30] \"\u001b[37mGET /static/home_assets/img/intro-bg.jpg HTTP/1.1\u001b[0m\" 200 -\n",
      "127.0.0.1 - - [08/Dec/2019 00:10:31] \"\u001b[37mGET /static/home_assets/fonts/fontawesome-webfont.woff2 HTTP/1.1\u001b[0m\" 200 -\n",
      "127.0.0.1 - - [08/Dec/2019 00:10:31] \"\u001b[33mGET /favicon.ico HTTP/1.1\u001b[0m\" 404 -\n",
      "127.0.0.1 - - [08/Dec/2019 00:10:31] \"\u001b[37mPOST /send_geolocation HTTP/1.1\u001b[0m\" 200 -\n"
     ]
    },
    {
     "name": "stdout",
     "output_type": "stream",
     "text": [
      "geo\n"
     ]
    },
    {
     "name": "stderr",
     "output_type": "stream",
     "text": [
      "127.0.0.1 - - [08/Dec/2019 00:10:57] \"\u001b[37mGET /display_chatbot HTTP/1.1\u001b[0m\" 200 -\n",
      "127.0.0.1 - - [08/Dec/2019 00:10:57] \"\u001b[37mGET /static/chat_assets/css/Bootstrap-Chat.css HTTP/1.1\u001b[0m\" 200 -\n",
      "127.0.0.1 - - [08/Dec/2019 00:10:57] \"\u001b[37mGET /static/chat_assets/js/grayscale.js HTTP/1.1\u001b[0m\" 200 -\n"
     ]
    },
    {
     "name": "stdout",
     "output_type": "stream",
     "text": [
      "chatbot\n"
     ]
    },
    {
     "name": "stderr",
     "output_type": "stream",
     "text": [
      "127.0.0.1 - - [08/Dec/2019 00:10:57] \"\u001b[37mGET /static/chat_assets/img/intro-bg.jpg HTTP/1.1\u001b[0m\" 200 -\n",
      "127.0.0.1 - - [08/Dec/2019 00:10:57] \"\u001b[37mGET /static/chat_assets/img/downloads-bg.jpg HTTP/1.1\u001b[0m\" 200 -\n",
      "127.0.0.1 - - [08/Dec/2019 00:10:58] \"\u001b[37mPOST /send_geolocation HTTP/1.1\u001b[0m\" 200 -\n"
     ]
    },
    {
     "name": "stdout",
     "output_type": "stream",
     "text": [
      "geo\n",
      "[name: \"projects/faq-wcmuxu/knowledgeBases/NDQ2NDA3MjE4NDM1MTk0ODgwMA\"\n",
      "display_name: \"Wheat1800\"\n",
      ", name: \"projects/faq-wcmuxu/knowledgeBases/NjUzMTgwNDk1NTQ1NDQ3MjE5Mg\"\n",
      "display_name: \"QandA_clean\"\n",
      ", name: \"projects/faq-wcmuxu/knowledgeBases/OTA3NTc1ODIwMjc3OTMzNjcwNA\"\n",
      "display_name: \"Cotton\"\n",
      "]\n",
      "Namaskar. I can help with you with all your queries on Farming. Just ask whatever problem you are facing and I will be happy to help\n"
     ]
    },
    {
     "name": "stderr",
     "output_type": "stream",
     "text": [
      "127.0.0.1 - - [08/Dec/2019 00:11:14] \"\u001b[37mPOST /send_message HTTP/1.1\u001b[0m\" 200 -\n"
     ]
    },
    {
     "name": "stdout",
     "output_type": "stream",
     "text": [
      "[name: \"projects/faq-wcmuxu/knowledgeBases/NDQ2NDA3MjE4NDM1MTk0ODgwMA\"\n",
      "display_name: \"Wheat1800\"\n",
      ", name: \"projects/faq-wcmuxu/knowledgeBases/NjUzMTgwNDk1NTQ1NDQ3MjE5Mg\"\n",
      "display_name: \"QandA_clean\"\n",
      ", name: \"projects/faq-wcmuxu/knowledgeBases/OTA3NTc1ODIwMjc3OTMzNjcwNA\"\n",
      "display_name: \"Cotton\"\n",
      "]\n"
     ]
    },
    {
     "name": "stderr",
     "output_type": "stream",
     "text": [
      "127.0.0.1 - - [08/Dec/2019 00:11:40] \"\u001b[37mPOST /send_message HTTP/1.1\u001b[0m\" 200 -\n"
     ]
    },
    {
     "name": "stdout",
     "output_type": "stream",
     "text": [
      "FOR THE FRUIT DROPPING IN CITRUS CROP PLS SPARY 1GM CARBENDAZIM(BAVISTIN) PER LITER WHATER\n",
      "[name: \"projects/faq-wcmuxu/knowledgeBases/NDQ2NDA3MjE4NDM1MTk0ODgwMA\"\n",
      "display_name: \"Wheat1800\"\n",
      ", name: \"projects/faq-wcmuxu/knowledgeBases/NjUzMTgwNDk1NTQ1NDQ3MjE5Mg\"\n",
      "display_name: \"QandA_clean\"\n",
      ", name: \"projects/faq-wcmuxu/knowledgeBases/OTA3NTc1ODIwMjc3OTMzNjcwNA\"\n",
      "display_name: \"Cotton\"\n",
      "]\n"
     ]
    },
    {
     "name": "stderr",
     "output_type": "stream",
     "text": [
      "127.0.0.1 - - [08/Dec/2019 00:11:55] \"\u001b[37mPOST /send_message HTTP/1.1\u001b[0m\" 200 -\n"
     ]
    },
    {
     "name": "stdout",
     "output_type": "stream",
     "text": [
      "chance of good rainfall for next week for dist hosangabad\n"
     ]
    },
    {
     "name": "stderr",
     "output_type": "stream",
     "text": [
      "127.0.0.1 - - [08/Dec/2019 00:12:36] \"\u001b[33mGET /static/home_assets/bootstrap/js/bootstrap.bundle.min.js.map HTTP/1.1\u001b[0m\" 404 -\n",
      "127.0.0.1 - - [08/Dec/2019 00:12:47] \"\u001b[1m\u001b[35mPOST /send_audio HTTP/1.1\u001b[0m\" 500 -\n",
      "Traceback (most recent call last):\n",
      "  File \"C:\\Users\\Dell\\Anaconda3\\envs\\data-x\\lib\\site-packages\\google\\api_core\\grpc_helpers.py\", line 79, in next\n",
      "    return six.next(self._wrapped)\n",
      "  File \"C:\\Users\\Dell\\Anaconda3\\envs\\data-x\\lib\\site-packages\\grpc\\_channel.py\", line 364, in __next__\n",
      "    return self._next()\n",
      "  File \"C:\\Users\\Dell\\Anaconda3\\envs\\data-x\\lib\\site-packages\\grpc\\_channel.py\", line 358, in _next\n",
      "    raise self\n",
      "grpc._channel._Rendezvous: <_Rendezvous of RPC that terminated with:\n",
      "\tstatus = StatusCode.DEADLINE_EXCEEDED\n",
      "\tdetails = \"Deadline Exceeded\"\n",
      "\tdebug_error_string = \"{\"created\":\"@1575744166.730000000\",\"description\":\"Error received from peer ipv4:172.217.166.234:443\",\"file\":\"src/core/lib/surface/call.cc\",\"file_line\":1052,\"grpc_message\":\"Deadline Exceeded\",\"grpc_status\":4}\"\n",
      ">\n",
      "\n",
      "The above exception was the direct cause of the following exception:\n",
      "\n",
      "Traceback (most recent call last):\n",
      "  File \"<ipython-input-40-2a11d9337e71>\", line 29, in send_audio\n",
      "    \n",
      "  File \"<ipython-input-39-ed311929484f>\", line 85, in listen_print_loop\n",
      "    \n",
      "  File \"C:\\Users\\Dell\\Anaconda3\\envs\\data-x\\lib\\site-packages\\google\\api_core\\grpc_helpers.py\", line 81, in next\n",
      "    six.raise_from(exceptions.from_grpc_error(exc), exc)\n",
      "  File \"<string>\", line 3, in raise_from\n",
      "    # Permission is hereby granted, free of charge, to any person obtaining a copy\n",
      "google.api_core.exceptions.DeadlineExceeded: 504 Deadline Exceeded\n",
      "\n",
      "During handling of the above exception, another exception occurred:\n",
      "\n",
      "Traceback (most recent call last):\n",
      "  File \"C:\\Users\\Dell\\Anaconda3\\envs\\data-x\\lib\\site-packages\\flask\\app.py\", line 2463, in __call__\n",
      "    return self.wsgi_app(environ, start_response)\n",
      "  File \"C:\\Users\\Dell\\Anaconda3\\envs\\data-x\\lib\\site-packages\\flask\\app.py\", line 2449, in wsgi_app\n",
      "    response = self.handle_exception(e)\n",
      "  File \"C:\\Users\\Dell\\Anaconda3\\envs\\data-x\\lib\\site-packages\\flask\\app.py\", line 1866, in handle_exception\n",
      "    reraise(exc_type, exc_value, tb)\n",
      "  File \"C:\\Users\\Dell\\Anaconda3\\envs\\data-x\\lib\\site-packages\\flask\\_compat.py\", line 39, in reraise\n",
      "    raise value\n",
      "  File \"C:\\Users\\Dell\\Anaconda3\\envs\\data-x\\lib\\site-packages\\flask\\app.py\", line 2446, in wsgi_app\n",
      "    response = self.full_dispatch_request()\n",
      "  File \"C:\\Users\\Dell\\Anaconda3\\envs\\data-x\\lib\\site-packages\\flask\\app.py\", line 1951, in full_dispatch_request\n",
      "    rv = self.handle_user_exception(e)\n",
      "  File \"C:\\Users\\Dell\\Anaconda3\\envs\\data-x\\lib\\site-packages\\flask\\app.py\", line 1820, in handle_user_exception\n",
      "    reraise(exc_type, exc_value, tb)\n",
      "  File \"C:\\Users\\Dell\\Anaconda3\\envs\\data-x\\lib\\site-packages\\flask\\_compat.py\", line 39, in reraise\n",
      "    raise value\n",
      "  File \"C:\\Users\\Dell\\Anaconda3\\envs\\data-x\\lib\\site-packages\\flask\\app.py\", line 1949, in full_dispatch_request\n",
      "    rv = self.dispatch_request()\n",
      "  File \"C:\\Users\\Dell\\Anaconda3\\envs\\data-x\\lib\\site-packages\\flask\\app.py\", line 1935, in dispatch_request\n",
      "    return self.view_functions[rule.endpoint](**req.view_args)\n",
      "  File \"<ipython-input-40-2a11d9337e71>\", line 37, in send_audio\n",
      "    \n",
      "UnboundLocalError: local variable 'message' referenced before assignment\n"
     ]
    },
    {
     "name": "stdout",
     "output_type": "stream",
     "text": [
      "hi\r"
     ]
    },
    {
     "name": "stderr",
     "output_type": "stream",
     "text": [
      "127.0.0.1 - - [08/Dec/2019 00:12:48] \"\u001b[37mPOST /send_audio HTTP/1.1\u001b[0m\" 200 -\n"
     ]
    },
    {
     "name": "stdout",
     "output_type": "stream",
     "text": [
      "hioutside\n",
      "[name: \"projects/faq-wcmuxu/knowledgeBases/NDQ2NDA3MjE4NDM1MTk0ODgwMA\"\n",
      "display_name: \"Wheat1800\"\n",
      ", name: \"projects/faq-wcmuxu/knowledgeBases/NjUzMTgwNDk1NTQ1NDQ3MjE5Mg\"\n",
      "display_name: \"QandA_clean\"\n",
      ", name: \"projects/faq-wcmuxu/knowledgeBases/OTA3NTc1ODIwMjc3OTMzNjcwNA\"\n",
      "display_name: \"Cotton\"\n",
      "]\n"
     ]
    },
    {
     "name": "stderr",
     "output_type": "stream",
     "text": [
      "127.0.0.1 - - [08/Dec/2019 00:12:51] \"\u001b[37mPOST /send_message HTTP/1.1\u001b[0m\" 200 -\n"
     ]
    },
    {
     "name": "stdout",
     "output_type": "stream",
     "text": [
      "Namaskar. I can help with you with all your queries on Farming. Just ask whatever problem you are facing and I will be happy to help\n",
      "hello\r"
     ]
    },
    {
     "name": "stderr",
     "output_type": "stream",
     "text": [
      "127.0.0.1 - - [08/Dec/2019 00:12:58] \"\u001b[37mPOST /send_audio HTTP/1.1\u001b[0m\" 200 -\n"
     ]
    },
    {
     "name": "stdout",
     "output_type": "stream",
     "text": [
      "hellooutside\n",
      "[name: \"projects/faq-wcmuxu/knowledgeBases/NDQ2NDA3MjE4NDM1MTk0ODgwMA\"\n",
      "display_name: \"Wheat1800\"\n",
      ", name: \"projects/faq-wcmuxu/knowledgeBases/NjUzMTgwNDk1NTQ1NDQ3MjE5Mg\"\n",
      "display_name: \"QandA_clean\"\n",
      ", name: \"projects/faq-wcmuxu/knowledgeBases/OTA3NTc1ODIwMjc3OTMzNjcwNA\"\n",
      "display_name: \"Cotton\"\n",
      "]\n"
     ]
    },
    {
     "name": "stderr",
     "output_type": "stream",
     "text": [
      "127.0.0.1 - - [08/Dec/2019 00:13:01] \"\u001b[37mPOST /send_message HTTP/1.1\u001b[0m\" 200 -\n"
     ]
    },
    {
     "name": "stdout",
     "output_type": "stream",
     "text": [
      "Namaskar. I can help with you with all your queries on Farming. Just ask whatever problem you are facing and I will be happy to help\n",
      "set\r"
     ]
    },
    {
     "name": "stderr",
     "output_type": "stream",
     "text": [
      "127.0.0.1 - - [08/Dec/2019 00:13:24] \"\u001b[37mPOST /send_audio HTTP/1.1\u001b[0m\" 200 -\n"
     ]
    },
    {
     "name": "stdout",
     "output_type": "stream",
     "text": [
      "setoutside\n",
      "[name: \"projects/faq-wcmuxu/knowledgeBases/NDQ2NDA3MjE4NDM1MTk0ODgwMA\"\n",
      "display_name: \"Wheat1800\"\n",
      ", name: \"projects/faq-wcmuxu/knowledgeBases/NjUzMTgwNDk1NTQ1NDQ3MjE5Mg\"\n",
      "display_name: \"QandA_clean\"\n",
      ", name: \"projects/faq-wcmuxu/knowledgeBases/OTA3NTc1ODIwMjc3OTMzNjcwNA\"\n",
      "display_name: \"Cotton\"\n",
      "]\n"
     ]
    },
    {
     "name": "stderr",
     "output_type": "stream",
     "text": [
      "127.0.0.1 - - [08/Dec/2019 00:13:27] \"\u001b[37mPOST /send_message HTTP/1.1\u001b[0m\" 200 -\n"
     ]
    },
    {
     "name": "stdout",
     "output_type": "stream",
     "text": [
      "Sorry, I didn't get that.\n",
      "set\r"
     ]
    },
    {
     "name": "stderr",
     "output_type": "stream",
     "text": [
      "127.0.0.1 - - [08/Dec/2019 00:13:39] \"\u001b[37mPOST /send_audio HTTP/1.1\u001b[0m\" 200 -\n"
     ]
    },
    {
     "name": "stdout",
     "output_type": "stream",
     "text": [
      "setoutside\n",
      "[name: \"projects/faq-wcmuxu/knowledgeBases/NDQ2NDA3MjE4NDM1MTk0ODgwMA\"\n",
      "display_name: \"Wheat1800\"\n",
      ", name: \"projects/faq-wcmuxu/knowledgeBases/NjUzMTgwNDk1NTQ1NDQ3MjE5Mg\"\n",
      "display_name: \"QandA_clean\"\n",
      ", name: \"projects/faq-wcmuxu/knowledgeBases/OTA3NTc1ODIwMjc3OTMzNjcwNA\"\n",
      "display_name: \"Cotton\"\n",
      "]\n"
     ]
    },
    {
     "name": "stderr",
     "output_type": "stream",
     "text": [
      "127.0.0.1 - - [08/Dec/2019 00:13:42] \"\u001b[37mPOST /send_message HTTP/1.1\u001b[0m\" 200 -\n"
     ]
    },
    {
     "name": "stdout",
     "output_type": "stream",
     "text": [
      "I missed what you said. Say it again?\n",
      "trips\r"
     ]
    },
    {
     "name": "stderr",
     "output_type": "stream",
     "text": [
      "127.0.0.1 - - [08/Dec/2019 00:13:51] \"\u001b[37mPOST /send_audio HTTP/1.1\u001b[0m\" 200 -\n"
     ]
    },
    {
     "name": "stdout",
     "output_type": "stream",
     "text": [
      "tripsoutside\n",
      "[name: \"projects/faq-wcmuxu/knowledgeBases/NDQ2NDA3MjE4NDM1MTk0ODgwMA\"\n",
      "display_name: \"Wheat1800\"\n",
      ", name: \"projects/faq-wcmuxu/knowledgeBases/NjUzMTgwNDk1NTQ1NDQ3MjE5Mg\"\n",
      "display_name: \"QandA_clean\"\n",
      ", name: \"projects/faq-wcmuxu/knowledgeBases/OTA3NTc1ODIwMjc3OTMzNjcwNA\"\n",
      "display_name: \"Cotton\"\n",
      "]\n"
     ]
    },
    {
     "name": "stderr",
     "output_type": "stream",
     "text": [
      "127.0.0.1 - - [08/Dec/2019 00:13:53] \"\u001b[37mPOST /send_message HTTP/1.1\u001b[0m\" 200 -\n"
     ]
    },
    {
     "name": "stdout",
     "output_type": "stream",
     "text": [
      "Spray Rogar 15ml/15 Lit of Water\n",
      "kids\r"
     ]
    },
    {
     "name": "stderr",
     "output_type": "stream",
     "text": [
      "127.0.0.1 - - [08/Dec/2019 00:14:06] \"\u001b[37mPOST /send_audio HTTP/1.1\u001b[0m\" 200 -\n"
     ]
    },
    {
     "name": "stdout",
     "output_type": "stream",
     "text": [
      "kidsoutside\n",
      "[name: \"projects/faq-wcmuxu/knowledgeBases/NDQ2NDA3MjE4NDM1MTk0ODgwMA\"\n",
      "display_name: \"Wheat1800\"\n",
      ", name: \"projects/faq-wcmuxu/knowledgeBases/NjUzMTgwNDk1NTQ1NDQ3MjE5Mg\"\n",
      "display_name: \"QandA_clean\"\n",
      ", name: \"projects/faq-wcmuxu/knowledgeBases/OTA3NTc1ODIwMjc3OTMzNjcwNA\"\n",
      "display_name: \"Cotton\"\n",
      "]\n"
     ]
    },
    {
     "name": "stderr",
     "output_type": "stream",
     "text": [
      "127.0.0.1 - - [08/Dec/2019 00:14:09] \"\u001b[37mPOST /send_message HTTP/1.1\u001b[0m\" 200 -\n"
     ]
    },
    {
     "name": "stdout",
     "output_type": "stream",
     "text": [
      "Very funny.\n"
     ]
    },
    {
     "name": "stderr",
     "output_type": "stream",
     "text": [
      "C:\\Users\\Dell\\Anaconda3\\envs\\data-x\\lib\\site-packages\\sklearn\\utils\\validation.py:563: FutureWarning: Beginning in version 0.22, arrays of bytes/strings will be converted to decimal numbers if dtype='numeric'. It is recommended that you convert the array to a float dtype before using it in scikit-learn, for example by using your_array = your_array.astype(np.float64).\n",
      "  FutureWarning)\n",
      "127.0.0.1 - - [08/Dec/2019 00:15:18] \"\u001b[37mGET /get_market HTTP/1.1\u001b[0m\" 200 -\n"
     ]
    },
    {
     "name": "stdout",
     "output_type": "stream",
     "text": [
      "[[1302  917 1694 1294 1247]]\n",
      "                           ADDRESS   LATITUDE  LONGITUDE\n",
      "1302       Gurgaon,Gurgaon,Haryana  28.459497  77.026638\n",
      "917   Najafgarh,Delhi,NCT of Delhi  28.609013  76.985453\n",
      "1694   Keshopur,Delhi,NCT of Delhi  28.651834  77.080909\n",
      "1294         Sohna,Gurgaon,Haryana  28.248699  77.063512\n",
      "1247  Farukh Nagar,Gurgaon,Haryana  28.448990  76.822792\n"
     ]
    },
    {
     "name": "stderr",
     "output_type": "stream",
     "text": [
      "127.0.0.1 - - [08/Dec/2019 00:15:54] \"\u001b[33mGET /static/home_assets/bootstrap/js/bootstrap.bundle.min.js.map HTTP/1.1\u001b[0m\" 404 -\n",
      "C:\\Users\\Dell\\Anaconda3\\envs\\data-x\\lib\\site-packages\\sklearn\\utils\\validation.py:563: FutureWarning: Beginning in version 0.22, arrays of bytes/strings will be converted to decimal numbers if dtype='numeric'. It is recommended that you convert the array to a float dtype before using it in scikit-learn, for example by using your_array = your_array.astype(np.float64).\n",
      "  FutureWarning)\n",
      "127.0.0.1 - - [08/Dec/2019 00:17:07] \"\u001b[37mGET /get_market HTTP/1.1\u001b[0m\" 200 -\n"
     ]
    },
    {
     "name": "stdout",
     "output_type": "stream",
     "text": [
      "[[1302  917 1694 1294 1247]]\n",
      "                           ADDRESS   LATITUDE  LONGITUDE\n",
      "1302       Gurgaon,Gurgaon,Haryana  28.459497  77.026638\n",
      "917   Najafgarh,Delhi,NCT of Delhi  28.609013  76.985453\n",
      "1694   Keshopur,Delhi,NCT of Delhi  28.651834  77.080909\n",
      "1294         Sohna,Gurgaon,Haryana  28.248699  77.063512\n",
      "1247  Farukh Nagar,Gurgaon,Haryana  28.448990  76.822792\n"
     ]
    },
    {
     "name": "stderr",
     "output_type": "stream",
     "text": [
      "127.0.0.1 - - [08/Dec/2019 00:20:15] \"\u001b[37mGET / HTTP/1.1\u001b[0m\" 200 -\n",
      "127.0.0.1 - - [08/Dec/2019 00:20:16] \"\u001b[33mGET /static/home_assets/bootstrap/js/bootstrap.bundle.min.js.map HTTP/1.1\u001b[0m\" 404 -\n",
      "127.0.0.1 - - [08/Dec/2019 00:20:17] \"\u001b[37mPOST /send_geolocation HTTP/1.1\u001b[0m\" 200 -\n"
     ]
    },
    {
     "name": "stdout",
     "output_type": "stream",
     "text": [
      "geo\n"
     ]
    },
    {
     "name": "stderr",
     "output_type": "stream",
     "text": [
      "C:\\Users\\Dell\\Anaconda3\\envs\\data-x\\lib\\site-packages\\sklearn\\utils\\validation.py:563: FutureWarning: Beginning in version 0.22, arrays of bytes/strings will be converted to decimal numbers if dtype='numeric'. It is recommended that you convert the array to a float dtype before using it in scikit-learn, for example by using your_array = your_array.astype(np.float64).\n",
      "  FutureWarning)\n",
      "127.0.0.1 - - [08/Dec/2019 00:20:22] \"\u001b[37mGET /get_market HTTP/1.1\u001b[0m\" 200 -\n"
     ]
    },
    {
     "name": "stdout",
     "output_type": "stream",
     "text": [
      "[[1302  917 1694 1294 1247]]\n",
      "                           ADDRESS   LATITUDE  LONGITUDE\n",
      "1302       Gurgaon,Gurgaon,Haryana  28.459497  77.026638\n",
      "917   Najafgarh,Delhi,NCT of Delhi  28.609013  76.985453\n",
      "1694   Keshopur,Delhi,NCT of Delhi  28.651834  77.080909\n",
      "1294         Sohna,Gurgaon,Haryana  28.248699  77.063512\n",
      "1247  Farukh Nagar,Gurgaon,Haryana  28.448990  76.822792\n"
     ]
    },
    {
     "name": "stderr",
     "output_type": "stream",
     "text": [
      "127.0.0.1 - - [08/Dec/2019 00:20:45] \"\u001b[37mPOST /get_price HTTP/1.1\u001b[0m\" 200 -\n"
     ]
    },
    {
     "name": "stdout",
     "output_type": "stream",
     "text": [
      "{'VARIETY': {0: 'Cabbage'}, 'ARRIVAL_DATE': {0: 20190806}, 'MIN_PRICE': {0: 1800.0}, 'MAX_PRICE': {0: 2400.0}, 'MODAL_PRICE': {0: 2100.0}}\n"
     ]
    },
    {
     "name": "stderr",
     "output_type": "stream",
     "text": [
      "C:\\Users\\Dell\\Anaconda3\\envs\\data-x\\lib\\site-packages\\sklearn\\utils\\validation.py:563: FutureWarning: Beginning in version 0.22, arrays of bytes/strings will be converted to decimal numbers if dtype='numeric'. It is recommended that you convert the array to a float dtype before using it in scikit-learn, for example by using your_array = your_array.astype(np.float64).\n",
      "  FutureWarning)\n",
      "127.0.0.1 - - [08/Dec/2019 00:21:08] \"\u001b[37mGET /get_market HTTP/1.1\u001b[0m\" 200 -\n"
     ]
    },
    {
     "name": "stdout",
     "output_type": "stream",
     "text": [
      "[[1302  917 1694 1294 1247]]\n",
      "                           ADDRESS   LATITUDE  LONGITUDE\n",
      "1302       Gurgaon,Gurgaon,Haryana  28.459497  77.026638\n",
      "917   Najafgarh,Delhi,NCT of Delhi  28.609013  76.985453\n",
      "1694   Keshopur,Delhi,NCT of Delhi  28.651834  77.080909\n",
      "1294         Sohna,Gurgaon,Haryana  28.248699  77.063512\n",
      "1247  Farukh Nagar,Gurgaon,Haryana  28.448990  76.822792\n"
     ]
    },
    {
     "name": "stderr",
     "output_type": "stream",
     "text": [
      "127.0.0.1 - - [08/Dec/2019 00:21:21] \"\u001b[37mPOST /get_price HTTP/1.1\u001b[0m\" 200 -\n"
     ]
    },
    {
     "name": "stdout",
     "output_type": "stream",
     "text": [
      "{'VARIETY': {0: 'Other'}, 'ARRIVAL_DATE': {0: 20190808}, 'MIN_PRICE': {0: 2000.0}, 'MAX_PRICE': {0: 4000.0}, 'MODAL_PRICE': {0: 3000.0}}\n"
     ]
    },
    {
     "name": "stderr",
     "output_type": "stream",
     "text": [
      "C:\\Users\\Dell\\Anaconda3\\envs\\data-x\\lib\\site-packages\\sklearn\\utils\\validation.py:563: FutureWarning: Beginning in version 0.22, arrays of bytes/strings will be converted to decimal numbers if dtype='numeric'. It is recommended that you convert the array to a float dtype before using it in scikit-learn, for example by using your_array = your_array.astype(np.float64).\n",
      "  FutureWarning)\n",
      "127.0.0.1 - - [08/Dec/2019 00:21:45] \"\u001b[37mGET /get_market HTTP/1.1\u001b[0m\" 200 -\n"
     ]
    },
    {
     "name": "stdout",
     "output_type": "stream",
     "text": [
      "[[1302  917 1694 1294 1247]]\n",
      "                           ADDRESS   LATITUDE  LONGITUDE\n",
      "1302       Gurgaon,Gurgaon,Haryana  28.459497  77.026638\n",
      "917   Najafgarh,Delhi,NCT of Delhi  28.609013  76.985453\n",
      "1694   Keshopur,Delhi,NCT of Delhi  28.651834  77.080909\n",
      "1294         Sohna,Gurgaon,Haryana  28.248699  77.063512\n",
      "1247  Farukh Nagar,Gurgaon,Haryana  28.448990  76.822792\n"
     ]
    },
    {
     "name": "stderr",
     "output_type": "stream",
     "text": [
      "127.0.0.1 - - [08/Dec/2019 00:21:54] \"\u001b[37mPOST /get_price HTTP/1.1\u001b[0m\" 200 -\n"
     ]
    },
    {
     "name": "stdout",
     "output_type": "stream",
     "text": [
      "{'VARIETY': {0: 'Other'}, 'ARRIVAL_DATE': {0: 20190704}, 'MIN_PRICE': {0: 1750.0}, 'MAX_PRICE': {0: 1750.0}, 'MODAL_PRICE': {0: 1750.0}}\n"
     ]
    },
    {
     "name": "stderr",
     "output_type": "stream",
     "text": [
      "127.0.0.1 - - [08/Dec/2019 00:26:05] \"\u001b[37mGET / HTTP/1.1\u001b[0m\" 200 -\n",
      "127.0.0.1 - - [08/Dec/2019 00:26:05] \"\u001b[37mGET /static/home_assets/bootstrap/css/bootstrap.min.css HTTP/1.1\u001b[0m\" 200 -\n",
      "127.0.0.1 - - [08/Dec/2019 00:26:05] \"\u001b[37mGET /static/home_assets/fonts/font-awesome.min.css HTTP/1.1\u001b[0m\" 200 -\n",
      "127.0.0.1 - - [08/Dec/2019 00:26:05] \"\u001b[37mGET /static/home_assets/css/style.css HTTP/1.1\u001b[0m\" 200 -\n",
      "127.0.0.1 - - [08/Dec/2019 00:26:05] \"\u001b[37mGET /static/home_assets/js/jquery.min.js HTTP/1.1\u001b[0m\" 200 -\n",
      "127.0.0.1 - - [08/Dec/2019 00:26:05] \"\u001b[37mGET /static/home_assets/bootstrap/js/bootstrap.min.js HTTP/1.1\u001b[0m\" 200 -\n",
      "127.0.0.1 - - [08/Dec/2019 00:26:05] \"\u001b[37mGET /static/home_assets/js/grayscale.js HTTP/1.1\u001b[0m\" 200 -\n",
      "127.0.0.1 - - [08/Dec/2019 00:26:05] \"\u001b[37mGET /static/home_assets/js/custom.js HTTP/1.1\u001b[0m\" 200 -\n",
      "127.0.0.1 - - [08/Dec/2019 00:26:05] \"\u001b[37mGET /static/home_assets/img/intro-bg.jpg HTTP/1.1\u001b[0m\" 200 -\n",
      "127.0.0.1 - - [08/Dec/2019 00:26:05] \"\u001b[37mGET /static/home_assets/img/downloads-bg.jpg HTTP/1.1\u001b[0m\" 200 -\n",
      "127.0.0.1 - - [08/Dec/2019 00:26:05] \"\u001b[37mGET /static/home_assets/fonts/fontawesome-webfont.woff2 HTTP/1.1\u001b[0m\" 200 -\n",
      "127.0.0.1 - - [08/Dec/2019 00:26:06] \"\u001b[37mPOST /send_geolocation HTTP/1.1\u001b[0m\" 200 -\n",
      "127.0.0.1 - - [08/Dec/2019 00:26:06] \"\u001b[33mGET /favicon.ico HTTP/1.1\u001b[0m\" 404 -\n"
     ]
    },
    {
     "name": "stdout",
     "output_type": "stream",
     "text": [
      "geo\n"
     ]
    },
    {
     "name": "stderr",
     "output_type": "stream",
     "text": [
      "C:\\Users\\Dell\\Anaconda3\\envs\\data-x\\lib\\site-packages\\sklearn\\utils\\validation.py:563: FutureWarning: Beginning in version 0.22, arrays of bytes/strings will be converted to decimal numbers if dtype='numeric'. It is recommended that you convert the array to a float dtype before using it in scikit-learn, for example by using your_array = your_array.astype(np.float64).\n",
      "  FutureWarning)\n",
      "127.0.0.1 - - [08/Dec/2019 00:26:15] \"\u001b[37mGET /get_market HTTP/1.1\u001b[0m\" 200 -\n"
     ]
    },
    {
     "name": "stdout",
     "output_type": "stream",
     "text": [
      "[[1302  917 1694 1294 1247]]\n",
      "                           ADDRESS   LATITUDE  LONGITUDE\n",
      "1302       Gurgaon,Gurgaon,Haryana  28.459497  77.026638\n",
      "917   Najafgarh,Delhi,NCT of Delhi  28.609013  76.985453\n",
      "1694   Keshopur,Delhi,NCT of Delhi  28.651834  77.080909\n",
      "1294         Sohna,Gurgaon,Haryana  28.248699  77.063512\n",
      "1247  Farukh Nagar,Gurgaon,Haryana  28.448990  76.822792\n"
     ]
    },
    {
     "name": "stderr",
     "output_type": "stream",
     "text": [
      "C:\\Users\\Dell\\Anaconda3\\envs\\data-x\\lib\\site-packages\\sklearn\\utils\\validation.py:563: FutureWarning: Beginning in version 0.22, arrays of bytes/strings will be converted to decimal numbers if dtype='numeric'. It is recommended that you convert the array to a float dtype before using it in scikit-learn, for example by using your_array = your_array.astype(np.float64).\n",
      "  FutureWarning)\n",
      "127.0.0.1 - - [08/Dec/2019 00:26:18] \"\u001b[37mGET /get_market HTTP/1.1\u001b[0m\" 200 -\n"
     ]
    },
    {
     "name": "stdout",
     "output_type": "stream",
     "text": [
      "[[1302  917 1694 1294 1247]]\n",
      "                           ADDRESS   LATITUDE  LONGITUDE\n",
      "1302       Gurgaon,Gurgaon,Haryana  28.459497  77.026638\n",
      "917   Najafgarh,Delhi,NCT of Delhi  28.609013  76.985453\n",
      "1694   Keshopur,Delhi,NCT of Delhi  28.651834  77.080909\n",
      "1294         Sohna,Gurgaon,Haryana  28.248699  77.063512\n",
      "1247  Farukh Nagar,Gurgaon,Haryana  28.448990  76.822792\n"
     ]
    },
    {
     "name": "stderr",
     "output_type": "stream",
     "text": [
      "127.0.0.1 - - [08/Dec/2019 00:26:30] \"\u001b[37mPOST /get_price HTTP/1.1\u001b[0m\" 200 -\n"
     ]
    },
    {
     "name": "stdout",
     "output_type": "stream",
     "text": [
      "{'VARIETY': {0: 'Peas Wet'}, 'ARRIVAL_DATE': {0: 20190806}, 'MIN_PRICE': {0: 6000.0}, 'MAX_PRICE': {0: 8000.0}, 'MODAL_PRICE': {0: 7000.0}}\n"
     ]
    },
    {
     "name": "stderr",
     "output_type": "stream",
     "text": [
      "C:\\Users\\Dell\\Anaconda3\\envs\\data-x\\lib\\site-packages\\sklearn\\utils\\validation.py:563: FutureWarning: Beginning in version 0.22, arrays of bytes/strings will be converted to decimal numbers if dtype='numeric'. It is recommended that you convert the array to a float dtype before using it in scikit-learn, for example by using your_array = your_array.astype(np.float64).\n",
      "  FutureWarning)\n",
      "127.0.0.1 - - [08/Dec/2019 00:26:41] \"\u001b[37mGET /get_market HTTP/1.1\u001b[0m\" 200 -\n"
     ]
    },
    {
     "name": "stdout",
     "output_type": "stream",
     "text": [
      "[[1302  917 1694 1294 1247]]\n",
      "                           ADDRESS   LATITUDE  LONGITUDE\n",
      "1302       Gurgaon,Gurgaon,Haryana  28.459497  77.026638\n",
      "917   Najafgarh,Delhi,NCT of Delhi  28.609013  76.985453\n",
      "1694   Keshopur,Delhi,NCT of Delhi  28.651834  77.080909\n",
      "1294         Sohna,Gurgaon,Haryana  28.248699  77.063512\n",
      "1247  Farukh Nagar,Gurgaon,Haryana  28.448990  76.822792\n"
     ]
    },
    {
     "name": "stderr",
     "output_type": "stream",
     "text": [
      "127.0.0.1 - - [08/Dec/2019 00:26:47] \"\u001b[37mPOST /get_price HTTP/1.1\u001b[0m\" 200 -\n"
     ]
    },
    {
     "name": "stdout",
     "output_type": "stream",
     "text": [
      "{'VARIETY': {0: 'Other'}, 'ARRIVAL_DATE': {0: 20190517}, 'MIN_PRICE': {0: 3321.0}, 'MAX_PRICE': {0: 3321.0}, 'MODAL_PRICE': {0: 3321.0}}\n"
     ]
    },
    {
     "name": "stderr",
     "output_type": "stream",
     "text": [
      "127.0.0.1 - - [08/Dec/2019 00:28:33] \"\u001b[37mGET / HTTP/1.1\u001b[0m\" 200 -\n",
      "127.0.0.1 - - [08/Dec/2019 00:28:33] \"\u001b[37mGET /static/home_assets/bootstrap/css/bootstrap.min.css HTTP/1.1\u001b[0m\" 200 -\n",
      "127.0.0.1 - - [08/Dec/2019 00:28:33] \"\u001b[37mGET /static/home_assets/fonts/font-awesome.min.css HTTP/1.1\u001b[0m\" 200 -\n",
      "127.0.0.1 - - [08/Dec/2019 00:28:33] \"\u001b[37mGET /static/home_assets/css/style.css HTTP/1.1\u001b[0m\" 200 -\n",
      "127.0.0.1 - - [08/Dec/2019 00:28:33] \"\u001b[37mGET /static/home_assets/js/jquery.min.js HTTP/1.1\u001b[0m\" 200 -\n",
      "127.0.0.1 - - [08/Dec/2019 00:28:33] \"\u001b[37mGET /static/home_assets/bootstrap/js/bootstrap.min.js HTTP/1.1\u001b[0m\" 200 -\n",
      "127.0.0.1 - - [08/Dec/2019 00:28:33] \"\u001b[37mGET /static/home_assets/js/grayscale.js HTTP/1.1\u001b[0m\" 200 -\n",
      "127.0.0.1 - - [08/Dec/2019 00:28:33] \"\u001b[37mGET /static/home_assets/js/custom.js HTTP/1.1\u001b[0m\" 200 -\n",
      "127.0.0.1 - - [08/Dec/2019 00:28:33] \"\u001b[37mGET /static/home_assets/img/intro-bg.jpg HTTP/1.1\u001b[0m\" 200 -\n",
      "127.0.0.1 - - [08/Dec/2019 00:28:33] \"\u001b[37mGET /static/home_assets/img/downloads-bg.jpg HTTP/1.1\u001b[0m\" 200 -\n",
      "127.0.0.1 - - [08/Dec/2019 00:28:33] \"\u001b[37mGET /static/home_assets/fonts/fontawesome-webfont.woff2 HTTP/1.1\u001b[0m\" 200 -\n",
      "127.0.0.1 - - [08/Dec/2019 00:28:33] \"\u001b[37mPOST /send_geolocation HTTP/1.1\u001b[0m\" 200 -\n",
      "127.0.0.1 - - [08/Dec/2019 00:28:34] \"\u001b[33mGET /favicon.ico HTTP/1.1\u001b[0m\" 404 -\n"
     ]
    },
    {
     "name": "stdout",
     "output_type": "stream",
     "text": [
      "geo\n"
     ]
    },
    {
     "name": "stderr",
     "output_type": "stream",
     "text": [
      "C:\\Users\\Dell\\Anaconda3\\envs\\data-x\\lib\\site-packages\\sklearn\\utils\\validation.py:563: FutureWarning: Beginning in version 0.22, arrays of bytes/strings will be converted to decimal numbers if dtype='numeric'. It is recommended that you convert the array to a float dtype before using it in scikit-learn, for example by using your_array = your_array.astype(np.float64).\n",
      "  FutureWarning)\n",
      "127.0.0.1 - - [08/Dec/2019 00:28:41] \"\u001b[37mGET /get_market HTTP/1.1\u001b[0m\" 200 -\n"
     ]
    },
    {
     "name": "stdout",
     "output_type": "stream",
     "text": [
      "[[1302  917 1694 1294 1247]]\n",
      "                           ADDRESS   LATITUDE  LONGITUDE\n",
      "1302       Gurgaon,Gurgaon,Haryana  28.459497  77.026638\n",
      "917   Najafgarh,Delhi,NCT of Delhi  28.609013  76.985453\n",
      "1694   Keshopur,Delhi,NCT of Delhi  28.651834  77.080909\n",
      "1294         Sohna,Gurgaon,Haryana  28.248699  77.063512\n",
      "1247  Farukh Nagar,Gurgaon,Haryana  28.448990  76.822792\n"
     ]
    },
    {
     "name": "stderr",
     "output_type": "stream",
     "text": [
      "127.0.0.1 - - [08/Dec/2019 00:28:50] \"\u001b[37mPOST /get_price HTTP/1.1\u001b[0m\" 200 -\n"
     ]
    },
    {
     "name": "stdout",
     "output_type": "stream",
     "text": [
      "{'VARIETY': {0: 'Other'}, 'ARRIVAL_DATE': {0: 20190517}, 'MIN_PRICE': {0: 3321.0}, 'MAX_PRICE': {0: 3321.0}, 'MODAL_PRICE': {0: 3321.0}}\n"
     ]
    },
    {
     "name": "stderr",
     "output_type": "stream",
     "text": [
      "127.0.0.1 - - [08/Dec/2019 00:28:55] \"\u001b[33mGET /static/home_assets/bootstrap/js/bootstrap.bundle.min.js.map HTTP/1.1\u001b[0m\" 404 -\n",
      "127.0.0.1 - - [08/Dec/2019 00:30:32] \"\u001b[37mGET / HTTP/1.1\u001b[0m\" 200 -\n",
      "127.0.0.1 - - [08/Dec/2019 00:30:32] \"\u001b[37mGET /static/home_assets/bootstrap/css/bootstrap.min.css HTTP/1.1\u001b[0m\" 200 -\n",
      "127.0.0.1 - - [08/Dec/2019 00:30:32] \"\u001b[37mGET /static/home_assets/fonts/font-awesome.min.css HTTP/1.1\u001b[0m\" 200 -\n",
      "127.0.0.1 - - [08/Dec/2019 00:30:32] \"\u001b[37mGET /static/home_assets/css/style.css HTTP/1.1\u001b[0m\" 200 -\n",
      "127.0.0.1 - - [08/Dec/2019 00:30:32] \"\u001b[37mGET /static/home_assets/js/jquery.min.js HTTP/1.1\u001b[0m\" 200 -\n",
      "127.0.0.1 - - [08/Dec/2019 00:30:32] \"\u001b[37mGET /static/home_assets/bootstrap/js/bootstrap.min.js HTTP/1.1\u001b[0m\" 200 -\n",
      "127.0.0.1 - - [08/Dec/2019 00:30:32] \"\u001b[37mGET /static/home_assets/js/grayscale.js HTTP/1.1\u001b[0m\" 200 -\n",
      "127.0.0.1 - - [08/Dec/2019 00:30:32] \"\u001b[37mGET /static/home_assets/js/custom.js HTTP/1.1\u001b[0m\" 200 -\n",
      "127.0.0.1 - - [08/Dec/2019 00:30:32] \"\u001b[37mGET /static/home_assets/img/intro-bg.jpg HTTP/1.1\u001b[0m\" 200 -\n",
      "127.0.0.1 - - [08/Dec/2019 00:30:32] \"\u001b[37mGET /static/home_assets/img/downloads-bg.jpg HTTP/1.1\u001b[0m\" 200 -\n",
      "127.0.0.1 - - [08/Dec/2019 00:30:32] \"\u001b[37mGET /static/home_assets/fonts/fontawesome-webfont.woff2 HTTP/1.1\u001b[0m\" 200 -\n",
      "127.0.0.1 - - [08/Dec/2019 00:30:32] \"\u001b[33mGET /favicon.ico HTTP/1.1\u001b[0m\" 404 -\n",
      "127.0.0.1 - - [08/Dec/2019 00:30:33] \"\u001b[37mPOST /send_geolocation HTTP/1.1\u001b[0m\" 200 -\n"
     ]
    },
    {
     "name": "stdout",
     "output_type": "stream",
     "text": [
      "geo\n"
     ]
    },
    {
     "name": "stderr",
     "output_type": "stream",
     "text": [
      "C:\\Users\\Dell\\Anaconda3\\envs\\data-x\\lib\\site-packages\\sklearn\\utils\\validation.py:563: FutureWarning: Beginning in version 0.22, arrays of bytes/strings will be converted to decimal numbers if dtype='numeric'. It is recommended that you convert the array to a float dtype before using it in scikit-learn, for example by using your_array = your_array.astype(np.float64).\n",
      "  FutureWarning)\n",
      "127.0.0.1 - - [08/Dec/2019 00:30:38] \"\u001b[37mGET /get_market HTTP/1.1\u001b[0m\" 200 -\n"
     ]
    },
    {
     "name": "stdout",
     "output_type": "stream",
     "text": [
      "[[1302  917 1694 1294 1247]]\n",
      "                           ADDRESS   LATITUDE  LONGITUDE\n",
      "1302       Gurgaon,Gurgaon,Haryana  28.459497  77.026638\n",
      "917   Najafgarh,Delhi,NCT of Delhi  28.609013  76.985453\n",
      "1694   Keshopur,Delhi,NCT of Delhi  28.651834  77.080909\n",
      "1294         Sohna,Gurgaon,Haryana  28.248699  77.063512\n",
      "1247  Farukh Nagar,Gurgaon,Haryana  28.448990  76.822792\n"
     ]
    },
    {
     "name": "stderr",
     "output_type": "stream",
     "text": [
      "127.0.0.1 - - [08/Dec/2019 00:30:44] \"\u001b[37mPOST /get_price HTTP/1.1\u001b[0m\" 200 -\n"
     ]
    },
    {
     "name": "stdout",
     "output_type": "stream",
     "text": [
      "{'VARIETY': {0: 'Other'}, 'ARRIVAL_DATE': {0: 20190517}, 'MIN_PRICE': {0: 3321.0}, 'MAX_PRICE': {0: 3321.0}, 'MODAL_PRICE': {0: 3321.0}}\n"
     ]
    },
    {
     "name": "stderr",
     "output_type": "stream",
     "text": [
      "C:\\Users\\Dell\\Anaconda3\\envs\\data-x\\lib\\site-packages\\sklearn\\utils\\validation.py:563: FutureWarning: Beginning in version 0.22, arrays of bytes/strings will be converted to decimal numbers if dtype='numeric'. It is recommended that you convert the array to a float dtype before using it in scikit-learn, for example by using your_array = your_array.astype(np.float64).\n",
      "  FutureWarning)\n",
      "127.0.0.1 - - [08/Dec/2019 00:30:53] \"\u001b[37mGET /get_market HTTP/1.1\u001b[0m\" 200 -\n"
     ]
    },
    {
     "name": "stdout",
     "output_type": "stream",
     "text": [
      "[[1302  917 1694 1294 1247]]\n",
      "                           ADDRESS   LATITUDE  LONGITUDE\n",
      "1302       Gurgaon,Gurgaon,Haryana  28.459497  77.026638\n",
      "917   Najafgarh,Delhi,NCT of Delhi  28.609013  76.985453\n",
      "1694   Keshopur,Delhi,NCT of Delhi  28.651834  77.080909\n",
      "1294         Sohna,Gurgaon,Haryana  28.248699  77.063512\n",
      "1247  Farukh Nagar,Gurgaon,Haryana  28.448990  76.822792\n"
     ]
    },
    {
     "name": "stderr",
     "output_type": "stream",
     "text": [
      "127.0.0.1 - - [08/Dec/2019 00:31:04] \"\u001b[37mPOST /get_price HTTP/1.1\u001b[0m\" 200 -\n"
     ]
    },
    {
     "name": "stdout",
     "output_type": "stream",
     "text": [
      "{'VARIETY': {0: 'Peas Wet'}, 'ARRIVAL_DATE': {0: 20190806}, 'MIN_PRICE': {0: 6000.0}, 'MAX_PRICE': {0: 8000.0}, 'MODAL_PRICE': {0: 7000.0}}\n"
     ]
    },
    {
     "name": "stderr",
     "output_type": "stream",
     "text": [
      "C:\\Users\\Dell\\Anaconda3\\envs\\data-x\\lib\\site-packages\\sklearn\\utils\\validation.py:563: FutureWarning: Beginning in version 0.22, arrays of bytes/strings will be converted to decimal numbers if dtype='numeric'. It is recommended that you convert the array to a float dtype before using it in scikit-learn, for example by using your_array = your_array.astype(np.float64).\n",
      "  FutureWarning)\n",
      "127.0.0.1 - - [08/Dec/2019 00:31:10] \"\u001b[37mGET /get_market HTTP/1.1\u001b[0m\" 200 -\n"
     ]
    },
    {
     "name": "stdout",
     "output_type": "stream",
     "text": [
      "[[1302  917 1694 1294 1247]]\n",
      "                           ADDRESS   LATITUDE  LONGITUDE\n",
      "1302       Gurgaon,Gurgaon,Haryana  28.459497  77.026638\n",
      "917   Najafgarh,Delhi,NCT of Delhi  28.609013  76.985453\n",
      "1694   Keshopur,Delhi,NCT of Delhi  28.651834  77.080909\n",
      "1294         Sohna,Gurgaon,Haryana  28.248699  77.063512\n",
      "1247  Farukh Nagar,Gurgaon,Haryana  28.448990  76.822792\n"
     ]
    },
    {
     "name": "stderr",
     "output_type": "stream",
     "text": [
      "127.0.0.1 - - [08/Dec/2019 00:31:23] \"\u001b[37mPOST /get_price HTTP/1.1\u001b[0m\" 200 -\n"
     ]
    },
    {
     "name": "stdout",
     "output_type": "stream",
     "text": [
      "{'VARIETY': {0: 'Other'}, 'ARRIVAL_DATE': {0: 20190507}, 'MIN_PRICE': {0: 3525.0}, 'MAX_PRICE': {0: 3525.0}, 'MODAL_PRICE': {0: 3525.0}}\n"
     ]
    },
    {
     "name": "stderr",
     "output_type": "stream",
     "text": [
      "127.0.0.1 - - [08/Dec/2019 00:31:32] \"\u001b[37mGET /display_chatbot HTTP/1.1\u001b[0m\" 200 -\n"
     ]
    },
    {
     "name": "stdout",
     "output_type": "stream",
     "text": [
      "chatbot\n"
     ]
    },
    {
     "name": "stderr",
     "output_type": "stream",
     "text": [
      "127.0.0.1 - - [08/Dec/2019 00:31:33] \"\u001b[37mPOST /send_geolocation HTTP/1.1\u001b[0m\" 200 -\n"
     ]
    },
    {
     "name": "stdout",
     "output_type": "stream",
     "text": [
      "geo\n"
     ]
    },
    {
     "name": "stderr",
     "output_type": "stream",
     "text": [
      "C:\\Users\\Dell\\Anaconda3\\envs\\data-x\\lib\\site-packages\\sklearn\\utils\\validation.py:563: FutureWarning: Beginning in version 0.22, arrays of bytes/strings will be converted to decimal numbers if dtype='numeric'. It is recommended that you convert the array to a float dtype before using it in scikit-learn, for example by using your_array = your_array.astype(np.float64).\n",
      "  FutureWarning)\n",
      "127.0.0.1 - - [08/Dec/2019 00:31:42] \"\u001b[37mGET /get_market HTTP/1.1\u001b[0m\" 200 -\n"
     ]
    },
    {
     "name": "stdout",
     "output_type": "stream",
     "text": [
      "[[1302  917 1694 1294 1247]]\n",
      "                           ADDRESS   LATITUDE  LONGITUDE\n",
      "1302       Gurgaon,Gurgaon,Haryana  28.459497  77.026638\n",
      "917   Najafgarh,Delhi,NCT of Delhi  28.609013  76.985453\n",
      "1694   Keshopur,Delhi,NCT of Delhi  28.651834  77.080909\n",
      "1294         Sohna,Gurgaon,Haryana  28.248699  77.063512\n",
      "1247  Farukh Nagar,Gurgaon,Haryana  28.448990  76.822792\n"
     ]
    },
    {
     "name": "stderr",
     "output_type": "stream",
     "text": [
      "127.0.0.1 - - [08/Dec/2019 00:31:53] \"\u001b[37mPOST /get_price HTTP/1.1\u001b[0m\" 200 -\n"
     ]
    },
    {
     "name": "stdout",
     "output_type": "stream",
     "text": [
      "{'VARIETY': {0: 'Bitter Gourd'}, 'ARRIVAL_DATE': {0: 20190806}, 'MIN_PRICE': {0: 1400.0}, 'MAX_PRICE': {0: 2400.0}, 'MODAL_PRICE': {0: 1900.0}}\n"
     ]
    },
    {
     "name": "stderr",
     "output_type": "stream",
     "text": [
      "C:\\Users\\Dell\\Anaconda3\\envs\\data-x\\lib\\site-packages\\sklearn\\utils\\validation.py:563: FutureWarning: Beginning in version 0.22, arrays of bytes/strings will be converted to decimal numbers if dtype='numeric'. It is recommended that you convert the array to a float dtype before using it in scikit-learn, for example by using your_array = your_array.astype(np.float64).\n",
      "  FutureWarning)\n",
      "127.0.0.1 - - [08/Dec/2019 00:31:59] \"\u001b[37mGET /get_market HTTP/1.1\u001b[0m\" 200 -\n"
     ]
    },
    {
     "name": "stdout",
     "output_type": "stream",
     "text": [
      "[[1302  917 1694 1294 1247]]\n",
      "                           ADDRESS   LATITUDE  LONGITUDE\n",
      "1302       Gurgaon,Gurgaon,Haryana  28.459497  77.026638\n",
      "917   Najafgarh,Delhi,NCT of Delhi  28.609013  76.985453\n",
      "1694   Keshopur,Delhi,NCT of Delhi  28.651834  77.080909\n",
      "1294         Sohna,Gurgaon,Haryana  28.248699  77.063512\n",
      "1247  Farukh Nagar,Gurgaon,Haryana  28.448990  76.822792\n"
     ]
    },
    {
     "name": "stderr",
     "output_type": "stream",
     "text": [
      "127.0.0.1 - - [08/Dec/2019 00:32:09] \"\u001b[37mPOST /get_price HTTP/1.1\u001b[0m\" 200 -\n"
     ]
    },
    {
     "name": "stdout",
     "output_type": "stream",
     "text": [
      "{'VARIETY': {0: 'Brinjal'}, 'ARRIVAL_DATE': {0: 20190806}, 'MIN_PRICE': {0: 700.0}, 'MAX_PRICE': {0: 1500.0}, 'MODAL_PRICE': {0: 1100.0}}\n"
     ]
    },
    {
     "name": "stderr",
     "output_type": "stream",
     "text": [
      "127.0.0.1 - - [08/Dec/2019 00:32:14] \"\u001b[33mGET /static/home_assets/bootstrap/js/bootstrap.bundle.min.js.map HTTP/1.1\u001b[0m\" 404 -\n",
      "C:\\Users\\Dell\\Anaconda3\\envs\\data-x\\lib\\site-packages\\sklearn\\utils\\validation.py:563: FutureWarning: Beginning in version 0.22, arrays of bytes/strings will be converted to decimal numbers if dtype='numeric'. It is recommended that you convert the array to a float dtype before using it in scikit-learn, for example by using your_array = your_array.astype(np.float64).\n",
      "  FutureWarning)\n",
      "127.0.0.1 - - [08/Dec/2019 00:32:30] \"\u001b[37mGET /get_market HTTP/1.1\u001b[0m\" 200 -\n"
     ]
    },
    {
     "name": "stdout",
     "output_type": "stream",
     "text": [
      "[[1302  917 1694 1294 1247]]\n",
      "                           ADDRESS   LATITUDE  LONGITUDE\n",
      "1302       Gurgaon,Gurgaon,Haryana  28.459497  77.026638\n",
      "917   Najafgarh,Delhi,NCT of Delhi  28.609013  76.985453\n",
      "1694   Keshopur,Delhi,NCT of Delhi  28.651834  77.080909\n",
      "1294         Sohna,Gurgaon,Haryana  28.248699  77.063512\n",
      "1247  Farukh Nagar,Gurgaon,Haryana  28.448990  76.822792\n"
     ]
    },
    {
     "name": "stderr",
     "output_type": "stream",
     "text": [
      "127.0.0.1 - - [08/Dec/2019 00:32:39] \"\u001b[37mPOST /get_price HTTP/1.1\u001b[0m\" 200 -\n"
     ]
    },
    {
     "name": "stdout",
     "output_type": "stream",
     "text": [
      "{'VARIETY': {0: 'Other'}, 'ARRIVAL_DATE': {0: 20190805}, 'MIN_PRICE': {0: 1300.0}, 'MAX_PRICE': {0: 1300.0}, 'MODAL_PRICE': {0: 1300.0}}\n"
     ]
    },
    {
     "name": "stderr",
     "output_type": "stream",
     "text": [
      "C:\\Users\\Dell\\Anaconda3\\envs\\data-x\\lib\\site-packages\\sklearn\\utils\\validation.py:563: FutureWarning: Beginning in version 0.22, arrays of bytes/strings will be converted to decimal numbers if dtype='numeric'. It is recommended that you convert the array to a float dtype before using it in scikit-learn, for example by using your_array = your_array.astype(np.float64).\n",
      "  FutureWarning)\n",
      "127.0.0.1 - - [08/Dec/2019 00:32:45] \"\u001b[37mGET /get_market HTTP/1.1\u001b[0m\" 200 -\n"
     ]
    },
    {
     "name": "stdout",
     "output_type": "stream",
     "text": [
      "[[1302  917 1694 1294 1247]]\n",
      "                           ADDRESS   LATITUDE  LONGITUDE\n",
      "1302       Gurgaon,Gurgaon,Haryana  28.459497  77.026638\n",
      "917   Najafgarh,Delhi,NCT of Delhi  28.609013  76.985453\n",
      "1694   Keshopur,Delhi,NCT of Delhi  28.651834  77.080909\n",
      "1294         Sohna,Gurgaon,Haryana  28.248699  77.063512\n",
      "1247  Farukh Nagar,Gurgaon,Haryana  28.448990  76.822792\n"
     ]
    },
    {
     "name": "stderr",
     "output_type": "stream",
     "text": [
      "127.0.0.1 - - [08/Dec/2019 00:33:21] \"\u001b[37mPOST /get_price HTTP/1.1\u001b[0m\" 200 -\n"
     ]
    },
    {
     "name": "stdout",
     "output_type": "stream",
     "text": [
      "{'VARIETY': {0: 'Other'}, 'ARRIVAL_DATE': {0: 20190430}, 'MIN_PRICE': {0: 1840.0}, 'MAX_PRICE': {0: 1840.0}, 'MODAL_PRICE': {0: 1840.0}}\n"
     ]
    },
    {
     "name": "stderr",
     "output_type": "stream",
     "text": [
      "C:\\Users\\Dell\\Anaconda3\\envs\\data-x\\lib\\site-packages\\sklearn\\utils\\validation.py:563: FutureWarning: Beginning in version 0.22, arrays of bytes/strings will be converted to decimal numbers if dtype='numeric'. It is recommended that you convert the array to a float dtype before using it in scikit-learn, for example by using your_array = your_array.astype(np.float64).\n",
      "  FutureWarning)\n",
      "127.0.0.1 - - [08/Dec/2019 00:33:39] \"\u001b[37mGET /get_market HTTP/1.1\u001b[0m\" 200 -\n"
     ]
    },
    {
     "name": "stdout",
     "output_type": "stream",
     "text": [
      "[[1302  917 1694 1294 1247]]\n",
      "                           ADDRESS   LATITUDE  LONGITUDE\n",
      "1302       Gurgaon,Gurgaon,Haryana  28.459497  77.026638\n",
      "917   Najafgarh,Delhi,NCT of Delhi  28.609013  76.985453\n",
      "1694   Keshopur,Delhi,NCT of Delhi  28.651834  77.080909\n",
      "1294         Sohna,Gurgaon,Haryana  28.248699  77.063512\n",
      "1247  Farukh Nagar,Gurgaon,Haryana  28.448990  76.822792\n"
     ]
    },
    {
     "name": "stderr",
     "output_type": "stream",
     "text": [
      "C:\\Users\\Dell\\Anaconda3\\envs\\data-x\\lib\\site-packages\\sklearn\\utils\\validation.py:563: FutureWarning: Beginning in version 0.22, arrays of bytes/strings will be converted to decimal numbers if dtype='numeric'. It is recommended that you convert the array to a float dtype before using it in scikit-learn, for example by using your_array = your_array.astype(np.float64).\n",
      "  FutureWarning)\n",
      "127.0.0.1 - - [08/Dec/2019 00:33:42] \"\u001b[37mGET /get_market HTTP/1.1\u001b[0m\" 200 -\n"
     ]
    },
    {
     "name": "stdout",
     "output_type": "stream",
     "text": [
      "[[1302  917 1694 1294 1247]]\n",
      "                           ADDRESS   LATITUDE  LONGITUDE\n",
      "1302       Gurgaon,Gurgaon,Haryana  28.459497  77.026638\n",
      "917   Najafgarh,Delhi,NCT of Delhi  28.609013  76.985453\n",
      "1694   Keshopur,Delhi,NCT of Delhi  28.651834  77.080909\n",
      "1294         Sohna,Gurgaon,Haryana  28.248699  77.063512\n",
      "1247  Farukh Nagar,Gurgaon,Haryana  28.448990  76.822792\n"
     ]
    },
    {
     "name": "stderr",
     "output_type": "stream",
     "text": [
      "127.0.0.1 - - [08/Dec/2019 00:33:55] \"\u001b[37mPOST /get_price HTTP/1.1\u001b[0m\" 200 -\n"
     ]
    },
    {
     "name": "stdout",
     "output_type": "stream",
     "text": [
      "{'VARIETY': {0: 'Cucumbar'}, 'ARRIVAL_DATE': {0: 20190806}, 'MIN_PRICE': {0: 1600.0}, 'MAX_PRICE': {0: 2500.0}, 'MODAL_PRICE': {0: 2050.0}}\n"
     ]
    },
    {
     "name": "stderr",
     "output_type": "stream",
     "text": [
      "C:\\Users\\Dell\\Anaconda3\\envs\\data-x\\lib\\site-packages\\sklearn\\utils\\validation.py:563: FutureWarning: Beginning in version 0.22, arrays of bytes/strings will be converted to decimal numbers if dtype='numeric'. It is recommended that you convert the array to a float dtype before using it in scikit-learn, for example by using your_array = your_array.astype(np.float64).\n",
      "  FutureWarning)\n",
      "127.0.0.1 - - [08/Dec/2019 00:34:03] \"\u001b[37mGET /get_market HTTP/1.1\u001b[0m\" 200 -\n"
     ]
    },
    {
     "name": "stdout",
     "output_type": "stream",
     "text": [
      "[[1302  917 1694 1294 1247]]\n",
      "                           ADDRESS   LATITUDE  LONGITUDE\n",
      "1302       Gurgaon,Gurgaon,Haryana  28.459497  77.026638\n",
      "917   Najafgarh,Delhi,NCT of Delhi  28.609013  76.985453\n",
      "1694   Keshopur,Delhi,NCT of Delhi  28.651834  77.080909\n",
      "1294         Sohna,Gurgaon,Haryana  28.248699  77.063512\n",
      "1247  Farukh Nagar,Gurgaon,Haryana  28.448990  76.822792\n"
     ]
    },
    {
     "name": "stderr",
     "output_type": "stream",
     "text": [
      "127.0.0.1 - - [08/Dec/2019 00:34:17] \"\u001b[37mPOST /get_price HTTP/1.1\u001b[0m\" 200 -\n"
     ]
    },
    {
     "name": "stdout",
     "output_type": "stream",
     "text": [
      "{'VARIETY': {0: 'Other'}, 'ARRIVAL_DATE': {0: 20190517}, 'MIN_PRICE': {0: 3321.0}, 'MAX_PRICE': {0: 3321.0}, 'MODAL_PRICE': {0: 3321.0}}\n"
     ]
    },
    {
     "name": "stderr",
     "output_type": "stream",
     "text": [
      "C:\\Users\\Dell\\Anaconda3\\envs\\data-x\\lib\\site-packages\\sklearn\\utils\\validation.py:563: FutureWarning: Beginning in version 0.22, arrays of bytes/strings will be converted to decimal numbers if dtype='numeric'. It is recommended that you convert the array to a float dtype before using it in scikit-learn, for example by using your_array = your_array.astype(np.float64).\n",
      "  FutureWarning)\n",
      "127.0.0.1 - - [08/Dec/2019 00:34:38] \"\u001b[37mGET /get_market HTTP/1.1\u001b[0m\" 200 -\n"
     ]
    },
    {
     "name": "stdout",
     "output_type": "stream",
     "text": [
      "[[1302  917 1694 1294 1247]]\n",
      "                           ADDRESS   LATITUDE  LONGITUDE\n",
      "1302       Gurgaon,Gurgaon,Haryana  28.459497  77.026638\n",
      "917   Najafgarh,Delhi,NCT of Delhi  28.609013  76.985453\n",
      "1694   Keshopur,Delhi,NCT of Delhi  28.651834  77.080909\n",
      "1294         Sohna,Gurgaon,Haryana  28.248699  77.063512\n",
      "1247  Farukh Nagar,Gurgaon,Haryana  28.448990  76.822792\n"
     ]
    },
    {
     "name": "stderr",
     "output_type": "stream",
     "text": [
      "127.0.0.1 - - [08/Dec/2019 00:34:52] \"\u001b[37mPOST /get_price HTTP/1.1\u001b[0m\" 200 -\n"
     ]
    },
    {
     "name": "stdout",
     "output_type": "stream",
     "text": [
      "{'VARIETY': {0: 'Apple', 1: 'Apple', 2: 'Apple'}, 'ARRIVAL_DATE': {0: 20190808, 1: 20190808, 2: 20190808}, 'MIN_PRICE': {0: 10000.0, 1: 10000.0, 2: 10000.0}, 'MAX_PRICE': {0: 10000.0, 1: 10000.0, 2: 10000.0}, 'MODAL_PRICE': {0: 10000.0, 1: 10000.0, 2: 10000.0}}\n"
     ]
    },
    {
     "name": "stderr",
     "output_type": "stream",
     "text": [
      "C:\\Users\\Dell\\Anaconda3\\envs\\data-x\\lib\\site-packages\\sklearn\\utils\\validation.py:563: FutureWarning: Beginning in version 0.22, arrays of bytes/strings will be converted to decimal numbers if dtype='numeric'. It is recommended that you convert the array to a float dtype before using it in scikit-learn, for example by using your_array = your_array.astype(np.float64).\n",
      "  FutureWarning)\n",
      "127.0.0.1 - - [08/Dec/2019 00:35:28] \"\u001b[37mGET /get_market HTTP/1.1\u001b[0m\" 200 -\n"
     ]
    },
    {
     "name": "stdout",
     "output_type": "stream",
     "text": [
      "[[1302  917 1694 1294 1247]]\n",
      "                           ADDRESS   LATITUDE  LONGITUDE\n",
      "1302       Gurgaon,Gurgaon,Haryana  28.459497  77.026638\n",
      "917   Najafgarh,Delhi,NCT of Delhi  28.609013  76.985453\n",
      "1694   Keshopur,Delhi,NCT of Delhi  28.651834  77.080909\n",
      "1294         Sohna,Gurgaon,Haryana  28.248699  77.063512\n",
      "1247  Farukh Nagar,Gurgaon,Haryana  28.448990  76.822792\n"
     ]
    },
    {
     "name": "stderr",
     "output_type": "stream",
     "text": [
      "127.0.0.1 - - [08/Dec/2019 00:35:41] \"\u001b[37mPOST /get_price HTTP/1.1\u001b[0m\" 200 -\n"
     ]
    },
    {
     "name": "stdout",
     "output_type": "stream",
     "text": [
      "{'VARIETY': {0: 'Coriander'}, 'ARRIVAL_DATE': {0: 20190806}, 'MIN_PRICE': {0: 1300.0}, 'MAX_PRICE': {0: 1700.0}, 'MODAL_PRICE': {0: 1500.0}}\n"
     ]
    }
   ],
   "source": [
    "# run Flask app\n",
    "if __name__ == \"__main__\":\n",
    "    app.run(use_reloader=False)"
   ]
  },
  {
   "cell_type": "code",
   "execution_count": null,
   "metadata": {},
   "outputs": [],
   "source": [
    "mandi_coords"
   ]
  },
  {
   "cell_type": "code",
   "execution_count": null,
   "metadata": {},
   "outputs": [],
   "source": [
    "@app.route('/send_audio', methods=['POST'])\n",
    "def send_audio():\n",
    "    try:\n",
    "        socketId = request.form['socketId']\n",
    "    except KeyError:\n",
    "        socketId = ''\n",
    "        \n",
    "    message = request.form['file']\n",
    "    project_id = os.getenv('DIALOGFLOW_PROJECT_ID')\n",
    "    fulfillment_text = detect_intent_audio(project_id, np.random.rand(1,1), message, 'en')\n",
    "    response_text = { \"message\":  fulfillment_text }\n",
    "\n",
    "    pusher_client.trigger(\n",
    "        'KrishBot', \n",
    "        'new_message', \n",
    "        {\n",
    "            'human_message': message, \n",
    "            'bot_message': fulfillment_text,\n",
    "        },\n",
    "        socketId\n",
    "    )\n",
    "                        \n",
    "    return jsonify(response_text)"
   ]
  },
  {
   "cell_type": "code",
   "execution_count": null,
   "metadata": {},
   "outputs": [],
   "source": [
    " df1 = pd.read_csv('price_latlong.csv')\n",
    "    print(df1.head())\n",
    "    mandi_coords = np.array([df1[['LATITUDE', 'LONGITUDE']].apply(lambda x: [x['LATITUDE'], x['LONGITUDE']],axis=1)],dtype=object).reshape(len(df1),2)\n",
    "    print('mandicoord')\n",
    "    knn = NearestNeighbors(n_neighbors=5)\n",
    "    knn.fit(mandi_coords) \n",
    "    print('mandicoord2')\n",
    "    distances, indices = knn.kneighbors(mandi_coords)\n",
    "    print('mandicoord1')"
   ]
  },
  {
   "cell_type": "code",
   "execution_count": null,
   "metadata": {},
   "outputs": [],
   "source": [
    "# retrieve lat long\n",
    "from geopy.extra.rate_limiter import RateLimiter\n",
    "from geopy.geocoders import Nominatim\n",
    "from geopy.exc import GeocoderTimedOut\n",
    "from functools import partial\n",
    "\n",
    "locator = Nominatim(user_agent='myGeocoder')\n",
    "geocode = RateLimiter(locator.geocode)\n",
    "\n",
    "def get_geocode(df):\n",
    "    try:\n",
    "        location = df.ADDRESS[:200].apply(partial(geocode,timeout=None))\n",
    "        return location\n",
    "    except GeocoderTimedOut as e:\n",
    "        get_geocode()\n",
    "        \n",
    "\n",
    "def get_coordinates():\n",
    "    df=pd.read_csv(r'C:\\Users\\Dell\\Documents\\Plaksha\\Data-x\\Data-x_Project\\krishi_bot\\Data\\mandi_price_data.csv')\n",
    "    ADDRESS = df.apply(lambda row:'{},{},{}'.format(row.MARKET,row.DISTRICT,row.STATE),axis=1)\n",
    "    df['ADDRESS'] = ADDRESS\n",
    "    location = get_geocode(df)\n",
    "    point = location.apply(lambda loc: tuple(loc.point) if loc else None)\n",
    "    df[['latitude', 'longitude', 'altitude']] = pd.DataFrame(point.tolist(), index=df.index)\n",
    "    df.to_csv('price_latlong.csv')"
   ]
  },
  {
   "cell_type": "code",
   "execution_count": null,
   "metadata": {},
   "outputs": [],
   "source": [
    "#@app.route('/webhook, methods=['GET','POST'])\n",
    "def get_price():\n",
    "    df1 = pd.read_csv('price_latlong.csv')\n",
    "    mandi_coords = np.array([df1[['LATITUDE', 'LONGITUDE']].apply(lambda x: [x['LATITUDE'], x['LONGITUDE']],axis=1)],dtype=object).reshape(len(df1),2)\n",
    "    knn = NearestNeighbors(n_neighbors=50)\n",
    "    knn.fit(mandi_coords) \n",
    "    #userlocation = [user_latitude, user_longitude]\n",
    "    userlocation = np.array([[28.4914836,77.0769019]])\n",
    "    distances, indices = knn.kneighbors(userlocation)\n",
    "    mandi = df1.iloc[indices[0][:5]]\n",
    "    return mandi"
   ]
  },
  {
   "cell_type": "code",
   "execution_count": null,
   "metadata": {},
   "outputs": [],
   "source": [
    "mandi.head()"
   ]
  },
  {
   "cell_type": "code",
   "execution_count": null,
   "metadata": {},
   "outputs": [],
   "source": [
    "mandi =get_price()"
   ]
  },
  {
   "cell_type": "code",
   "execution_count": null,
   "metadata": {},
   "outputs": [],
   "source": [
    "len(address1)"
   ]
  },
  {
   "cell_type": "code",
   "execution_count": null,
   "metadata": {},
   "outputs": [],
   "source": [
    "location.head()"
   ]
  },
  {
   "cell_type": "code",
   "execution_count": null,
   "metadata": {},
   "outputs": [],
   "source": [
    "df=pd.read_csv(r'C:/Users/Dell/Documents/Plaksha/Data-x/Data-x_Project/krishi_bot/Data/data_complete_address.csv')\n",
    "df.drop('Unnamed: 0',inplace=True,axis=1)\n",
    "df.set_index('ADDRESS',drop=True,inplace=True)\n",
    "market = pd.read_csv(r'C:/Users/Dell/Documents/Plaksha/Data-x/Data-x_Project/krishi_bot/Data/Markets_LatLong.csv')\n",
    "market.set_index('ADDRESS',drop=True,inplace=True)\n",
    "df =df.join(market,on='ADDRESS')\n",
    "df = df.reset_index()\n",
    "df.head()\n",
    "df.to_csv('price_latlong.csv')"
   ]
  },
  {
   "cell_type": "code",
   "execution_count": null,
   "metadata": {},
   "outputs": [],
   "source": [
    "import pickle"
   ]
  },
  {
   "cell_type": "code",
   "execution_count": null,
   "metadata": {},
   "outputs": [],
   "source": [
    "df = pd.read_csv('.\\Data\\Markets_Latlong.csv')\n",
    "mandi_coords = np.array([df[['LATITUDE', 'LONGITUDE']].apply(lambda x: [x['LATITUDE'], x['LONGITUDE']],axis=1)],dtype=object).reshape(len(df),2)\n",
    "knn = NearestNeighbors(n_neighbors=5)\n",
    "knn.fit(mandi_coords) "
   ]
  },
  {
   "cell_type": "code",
   "execution_count": null,
   "metadata": {},
   "outputs": [],
   "source": [
    "with open(\"model.pkl\",\"wb\") as model_pk:\n",
    "     pickle.dump(knn,model_pk)"
   ]
  },
  {
   "cell_type": "code",
   "execution_count": null,
   "metadata": {},
   "outputs": [],
   "source": [
    "def get_price():\n",
    "    df = pd.read_csv(r'C:\\Users\\Dell\\Documents\\Plaksha\\Data-x\\Data-x_Project\\krishi_bot\\Data\\Markets_Latlong.csv')\n",
    "    mandi_coords = np.array([df[['LATITUDE', 'LONGITUDE']].apply(lambda x: [x['LATITUDE'], x['LONGITUDE']],axis=1)],dtype=object).reshape(len(df),2)\n",
    "    knn = NearestNeighbors(n_neighbors=5)\n",
    "    knn.fit(mandi_coords) \n",
    "    #userlocation = [userb_latitude, user_longitude]\n",
    "    userlocation = np.array([[28.4914836,77.0769019]])\n",
    "    distances, indices = knn.kneighbors(userlocation)\n",
    "    mandi = df.iloc[indices[0][:]]\n",
    "    price = pd.read_csv('price_latlong.csv')\n",
    "    rev = price[price.ADDRESS.isin(df.iloc[indices[0][:]].ADDRESS)]\n",
    "    return mandi,rev"
   ]
  },
  {
   "cell_type": "code",
   "execution_count": null,
   "metadata": {},
   "outputs": [],
   "source": [
    "mandi,rev = get_price()"
   ]
  },
  {
   "cell_type": "code",
   "execution_count": null,
   "metadata": {},
   "outputs": [],
   "source": [
    "rev.ARRIVAL_DATE[:5]"
   ]
  },
  {
   "cell_type": "code",
   "execution_count": null,
   "metadata": {},
   "outputs": [],
   "source": [
    "rev.ARRIVAL_DATE = pd.to_datetime(rev.ARRIVAL_DATE, format='%Y%m%d')"
   ]
  },
  {
   "cell_type": "code",
   "execution_count": null,
   "metadata": {},
   "outputs": [],
   "source": [
    "a =pd.DataFrame(rev.groupby('VARIETY')['ARRIVAL_DATE'].max()).reset_index()\n",
    "a"
   ]
  },
  {
   "cell_type": "code",
   "execution_count": null,
   "metadata": {},
   "outputs": [],
   "source": [
    "rev = rev[(rev.MARKET =='Azadpur')& (rev.COMMODITY == 'Mango') ]"
   ]
  },
  {
   "cell_type": "code",
   "execution_count": null,
   "metadata": {},
   "outputs": [],
   "source": [
    "rev.VARIETY.unique()"
   ]
  },
  {
   "cell_type": "code",
   "execution_count": null,
   "metadata": {},
   "outputs": [],
   "source": [
    "b =a.merge(rev,how='inner',on=['ARRIVAL_DATE','VARIETY'])"
   ]
  },
  {
   "cell_type": "code",
   "execution_count": null,
   "metadata": {},
   "outputs": [],
   "source": [
    "b.to_dict()."
   ]
  },
  {
   "cell_type": "code",
   "execution_count": null,
   "metadata": {},
   "outputs": [],
   "source": [
    "a = rev[['MARKET','COMMODITY']].drop_duplicates()"
   ]
  },
  {
   "cell_type": "code",
   "execution_count": null,
   "metadata": {},
   "outputs": [],
   "source": [
    "c = dict({'market':list(b.index),'commodity':list(b.values)})"
   ]
  },
  {
   "cell_type": "code",
   "execution_count": null,
   "metadata": {},
   "outputs": [],
   "source": [
    "b=a.groupby('MARKET').COMMODITY.apply(list)"
   ]
  },
  {
   "cell_type": "code",
   "execution_count": null,
   "metadata": {},
   "outputs": [],
   "source": [
    "b.apply(lambda x: )"
   ]
  },
  {
   "cell_type": "code",
   "execution_count": null,
   "metadata": {},
   "outputs": [],
   "source": [
    "list(b.values)"
   ]
  },
  {
   "cell_type": "code",
   "execution_count": null,
   "metadata": {},
   "outputs": [],
   "source": [
    "df1.apply(lambda x: x.ADDRESS in mandi.ADDRESS,axis=1)"
   ]
  },
  {
   "cell_type": "code",
   "execution_count": null,
   "metadata": {},
   "outputs": [],
   "source": [
    "df1[df1.ADDRESS.isin(mandi.ADDRESS)].shape"
   ]
  },
  {
   "cell_type": "code",
   "execution_count": null,
   "metadata": {},
   "outputs": [],
   "source": [
    "mandi"
   ]
  },
  {
   "cell_type": "code",
   "execution_count": null,
   "metadata": {},
   "outputs": [],
   "source": [
    "mandi"
   ]
  },
  {
   "cell_type": "code",
   "execution_count": null,
   "metadata": {},
   "outputs": [],
   "source": [
    "pd.DataFrame().to_json"
   ]
  }
 ],
 "metadata": {
  "kernelspec": {
   "display_name": "Python 3",
   "language": "python",
   "name": "python3"
  },
  "language_info": {
   "codemirror_mode": {
    "name": "ipython",
    "version": 3
   },
   "file_extension": ".py",
   "mimetype": "text/x-python",
   "name": "python",
   "nbconvert_exporter": "python",
   "pygments_lexer": "ipython3",
   "version": "3.7.4"
  }
 },
 "nbformat": 4,
 "nbformat_minor": 4
}
