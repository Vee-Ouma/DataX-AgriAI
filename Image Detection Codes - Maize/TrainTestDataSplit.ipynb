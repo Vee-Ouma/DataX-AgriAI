{
 "cells": [
  {
   "cell_type": "code",
   "execution_count": 7,
   "metadata": {},
   "outputs": [],
   "source": [
    "import pandas as pd"
   ]
  },
  {
   "cell_type": "code",
   "execution_count": 8,
   "metadata": {},
   "outputs": [],
   "source": [
    "train = pd.read_csv(r'C:/Users/Manan Arora/Downloads/annotations_handheld_labels.txt',header = None)"
   ]
  },
  {
   "cell_type": "code",
   "execution_count": 9,
   "metadata": {},
   "outputs": [],
   "source": [
    "test = train[(train[0].str.contains(\"7.JPG\")) | (train[0].str.contains(\"5.JPG\")) | (train[0].str.contains(\"5.Jpeg\")) | (train[0].str.contains(\"7.Jpeg\"))]"
   ]
  },
  {
   "cell_type": "code",
   "execution_count": 10,
   "metadata": {},
   "outputs": [],
   "source": [
    "train = train[~((train[0].str.contains(\"7.JPG\")) | (train[0].str.contains(\"5.JPG\")) | (train[0].str.contains(\"5.Jpeg\")) | (train[0].str.contains(\"7.Jpeg\")))]"
   ]
  },
  {
   "cell_type": "code",
   "execution_count": 11,
   "metadata": {},
   "outputs": [],
   "source": [
    "train[0] = str('/home/manan_arora/train/')+train[0].apply(lambda x: x[18:])\n",
    "test[0] = str('/home/manan_arora/test/')+test[0].apply(lambda x: x[18:])"
   ]
  },
  {
   "cell_type": "code",
   "execution_count": 12,
   "metadata": {},
   "outputs": [],
   "source": [
    "train.to_csv(r'C:/Users/Manan Arora/Downloads/annotations_handheld_labels_train.txt',header = None, index = False)\n",
    "test.to_csv(r'C:/Users/Manan Arora/Downloads/annotations_handheld_labels_test.txt',header = None, index = False)"
   ]
  },
  {
   "cell_type": "code",
   "execution_count": null,
   "metadata": {},
   "outputs": [],
   "source": []
  }
 ],
 "metadata": {
  "kernelspec": {
   "display_name": "Python 3",
   "language": "python",
   "name": "python3"
  },
  "language_info": {
   "codemirror_mode": {
    "name": "ipython",
    "version": 3
   },
   "file_extension": ".py",
   "mimetype": "text/x-python",
   "name": "python",
   "nbconvert_exporter": "python",
   "pygments_lexer": "ipython3",
   "version": "3.7.3"
  }
 },
 "nbformat": 4,
 "nbformat_minor": 4
}
