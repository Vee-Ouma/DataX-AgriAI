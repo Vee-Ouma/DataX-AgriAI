{
 "cells": [
  {
   "cell_type": "code",
   "execution_count": 1,
   "metadata": {},
   "outputs": [],
   "source": [
    "import pandas as pd\n",
    "import numpy as np\n",
    "import requests\n",
    "import json\n",
    "from bs4 import BeautifulSoup"
   ]
  },
  {
   "cell_type": "markdown",
   "metadata": {},
   "source": [
    "### Fetch Daily Price from API"
   ]
  },
  {
   "cell_type": "code",
   "execution_count": 2,
   "metadata": {},
   "outputs": [
    {
     "name": "stdin",
     "output_type": "stream",
     "text": [
      "Kindly Enter State Name:  Andhra Pradesh\n",
      "Kindly Enter District Name:  Chittor\n",
      "Kindly Enter Market Name:  Mulakalacheruvu\n",
      "Kindly Enter Commodity Name:  Tomato\n"
     ]
    }
   ],
   "source": [
    "state = input('Kindly Enter State Name: ')\n",
    "district = input('Kindly Enter District Name: ')\n",
    "market = input('Kindly Enter Market Name: ')\n",
    "commodity = input('Kindly Enter Commodity Name: ')"
   ]
  },
  {
   "cell_type": "code",
   "execution_count": 3,
   "metadata": {},
   "outputs": [],
   "source": [
    "data = requests.get(r'https://api.data.gov.in/resource/9ef84268-d588-465a-a308-a864a43d0070?api-key=579b464db66ec23bdd000001e0e1b5ccc31e4fde65e4d7385431f515&format=json&filters[state]={0}&filters[district]={1}&filters[market]={2}&filters[commodity]={3}'.format(state,district,market,commodity)).json()"
   ]
  },
  {
   "cell_type": "code",
   "execution_count": 4,
   "metadata": {},
   "outputs": [
    {
     "name": "stdout",
     "output_type": "stream",
     "text": [
      "Minimum Price at the Market :  600\n",
      "Maximum Price at the Market :  1200\n",
      "Average Price at the Market :  900\n"
     ]
    }
   ],
   "source": [
    "print('Minimum Price at the Market : ',data['records'][0]['min_price'])\n",
    "print('Maximum Price at the Market : ',data['records'][0]['max_price'])\n",
    "print('Average Price at the Market : ',data['records'][0]['modal_price'])"
   ]
  }
 ],
 "metadata": {
  "kernelspec": {
   "display_name": "Python 3",
   "language": "python",
   "name": "python3"
  },
  "language_info": {
   "codemirror_mode": {
    "name": "ipython",
    "version": 3
   },
   "file_extension": ".py",
   "mimetype": "text/x-python",
   "name": "python",
   "nbconvert_exporter": "python",
   "pygments_lexer": "ipython3",
   "version": "3.7.3"
  }
 },
 "nbformat": 4,
 "nbformat_minor": 4
}
