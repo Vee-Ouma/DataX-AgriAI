{
 "cells": [
  {
   "cell_type": "code",
   "execution_count": 126,
   "metadata": {},
   "outputs": [],
   "source": [
    "import pandas as pd \n",
    "from glob import iglob"
   ]
  },
  {
   "cell_type": "code",
   "execution_count": 127,
   "metadata": {},
   "outputs": [],
   "source": [
    "base_path = r'C:\\Users\\Manan Arora\\Desktop\\Plaksha TLF\\DataX Project\\Agriculture\\Datatsets\\*.csv'"
   ]
  },
  {
   "cell_type": "code",
   "execution_count": 128,
   "metadata": {},
   "outputs": [],
   "source": [
    "for file_path in iglob(base_path, recursive=True):\n",
    "    d1 = pd.read_csv(file_path)\n",
    "    d1['Arrival_Date'] = d1['Arrival_Date'].apply(lambda x: x[6:]+x[3:5]+x[0:2])\n",
    "    d1.to_csv(r'C:\\Users\\Manan Arora\\Desktop\\OldDMP'+'\\{}'.format(file_path[77:]), sep=',', decimal = '.', encoding='utf-8', index = False)\t"
   ]
  }
 ],
 "metadata": {
  "kernelspec": {
   "display_name": "Python 3",
   "language": "python",
   "name": "python3"
  },
  "language_info": {
   "codemirror_mode": {
    "name": "ipython",
    "version": 3
   },
   "file_extension": ".py",
   "mimetype": "text/x-python",
   "name": "python",
   "nbconvert_exporter": "python",
   "pygments_lexer": "ipython3",
   "version": "3.7.3"
  }
 },
 "nbformat": 4,
 "nbformat_minor": 4
}
