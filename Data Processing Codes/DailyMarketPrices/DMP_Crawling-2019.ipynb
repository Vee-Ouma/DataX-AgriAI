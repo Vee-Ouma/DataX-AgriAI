{
 "cells": [
  {
   "cell_type": "code",
   "execution_count": 13,
   "metadata": {},
   "outputs": [],
   "source": [
    "from selenium.webdriver.support.ui import Select\n",
    "from selenium import webdriver\n",
    "from selenium.webdriver.common.by import By\n",
    "from selenium.webdriver.support.ui import WebDriverWait\n",
    "from selenium.webdriver.support import expected_conditions as EC\n",
    "from selenium.common.exceptions import TimeoutException\n",
    "import time\n",
    "import os,glob,shutil\n",
    "import pickle\n",
    "from selenium.webdriver.common.keys import Keys"
   ]
  },
  {
   "cell_type": "code",
   "execution_count": 14,
   "metadata": {},
   "outputs": [
    {
     "name": "stdout",
     "output_type": "stream",
     "text": [
      "C:\\Users\\Manan Arora\\Desktop\\Plaksha TLF\\DataX Project\\Agriculture\\Datatsets\\DMP_2019\n"
     ]
    }
   ],
   "source": [
    "BASE_DIR = r'C:\\Users\\Manan Arora\\Desktop\\Plaksha TLF\\DataX Project\\Agriculture\\Datatsets\\DMP_2019'\n",
    "print(BASE_DIR)"
   ]
  },
  {
   "cell_type": "code",
   "execution_count": 15,
   "metadata": {},
   "outputs": [],
   "source": [
    "chrome_path= r\"C:\\Users\\Manan Arora\\Documents\\chromedriver_win32\\chromedriver.exe\" \n",
    "chromeOptions = webdriver.ChromeOptions()\n",
    "prefs = {\"download.default_directory\" : BASE_DIR,'safebrowsing.enabled': 'false'}\n",
    "chromeOptions.add_experimental_option(\"prefs\",prefs)\n",
    "driver = webdriver.Chrome(executable_path=chrome_path, options=chromeOptions)"
   ]
  },
  {
   "cell_type": "code",
   "execution_count": 6,
   "metadata": {},
   "outputs": [],
   "source": [
    "link_list = []\n",
    "link_list.append('https://data.gov.in/dataset-group-name/agricultural-marketing')\n",
    "for i in range(1,36):\n",
    "    link_list.append('https://data.gov.in/dataset-group-name/agricultural-marketing?page={}'.format(str(i)))"
   ]
  },
  {
   "cell_type": "code",
   "execution_count": 7,
   "metadata": {},
   "outputs": [],
   "source": [
    "all_com =[]\n",
    "for link in link_list:\n",
    "    driver.get(link)\n",
    "    find_links = driver.find_elements_by_xpath(\"//*[@id='block-system-main']/div/div/div[1]/div/div/h3/a\")\n",
    "    for i in find_links:\n",
    "        all_com+=[i.get_attribute('href')]"
   ]
  },
  {
   "cell_type": "code",
   "execution_count": 16,
   "metadata": {},
   "outputs": [],
   "source": [
    "import pandas as pd\n",
    "all_com = list(pd.read_csv(r'C:\\Users\\Manan Arora\\Desktop\\Plaksha TLF\\DataX Project\\Agriculture\\Datatsets\\VarietyWise-MarketPrice.csv')['0'])"
   ]
  },
  {
   "cell_type": "code",
   "execution_count": 33,
   "metadata": {},
   "outputs": [],
   "source": [
    "download_links = []\n",
    "for link in all_com[298:]:\n",
    "    driver.get(link)\n",
    "    time.sleep(5)\n",
    "    driver.find_element_by_class_name(\"csv\").click()\n",
    "    time.sleep(2)\n",
    "    try:\n",
    "        driver.find_element_by_xpath('//*[@id=\"edit-download-reasons\"]/div[2]/label').click()\n",
    "        driver.find_element_by_xpath('//*[@id=\"edit-reasons-d\"]/div[1]/label').click()\n",
    "        driver.find_element_by_xpath('//*[@id=\"edit-submit\"]').click()\n",
    "        time.sleep(2)\n",
    "    except:\n",
    "        pass"
   ]
  }
 ],
 "metadata": {
  "kernelspec": {
   "display_name": "Python 3",
   "language": "python",
   "name": "python3"
  },
  "language_info": {
   "codemirror_mode": {
    "name": "ipython",
    "version": 3
   },
   "file_extension": ".py",
   "mimetype": "text/x-python",
   "name": "python",
   "nbconvert_exporter": "python",
   "pygments_lexer": "ipython3",
   "version": "3.7.3"
  }
 },
 "nbformat": 4,
 "nbformat_minor": 4
}
