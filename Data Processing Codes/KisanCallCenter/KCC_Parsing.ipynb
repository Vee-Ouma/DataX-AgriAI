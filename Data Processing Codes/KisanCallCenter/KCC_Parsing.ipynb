{
 "cells": [
  {
   "cell_type": "code",
   "execution_count": 7,
   "metadata": {},
   "outputs": [],
   "source": [
    "import os\n",
    "import glob\n",
    "import json\n",
    "import pandas as pd"
   ]
  },
  {
   "cell_type": "markdown",
   "metadata": {},
   "source": [
    "### Function to read JSON KCC Files and combine them into one excel"
   ]
  },
  {
   "cell_type": "code",
   "execution_count": 14,
   "metadata": {},
   "outputs": [],
   "source": [
    "def kccstate(state_name):\n",
    "\n",
    "    #Getting filenames from the folders    \n",
    "    filenames = []\n",
    "    os.chdir(r\"C:\\Users\\Manan Arora\\Desktop\\Plaksha TLF\\Term 2\\DataX Project\\Agriculture\\Datatsets\\{0}KCC\".format(state_name))\n",
    "    for file in glob.glob(\"*.js\"):\n",
    "        filenames+=[file]\n",
    "\n",
    "    #Reading each file from the folder and organising data into lists\n",
    "    season = []\n",
    "    sector = []\n",
    "    category =[]\n",
    "    crop = []\n",
    "    types = []\n",
    "    queries = []\n",
    "    answers = []\n",
    "    state = []\n",
    "    district = []\n",
    "    block = []\n",
    "    datetime = []\n",
    "\n",
    "    for file in filenames:\n",
    "        with open(r'C:\\Users\\Manan Arora\\Desktop\\Plaksha TLF\\Term 2\\DataX Project\\Agriculture\\Datatsets\\{}KCC\\{}'.format(state_name,file)) as f:\n",
    "            data = json.load(f)\n",
    "        season+= [d['Season'] for d in data['data']]\n",
    "        sector+= [d['Sector'] for d in data['data']]\n",
    "        category+= [d['Category'] for d in data['data']]\n",
    "        crop+= [d['Crop'] for d in data['data']]\n",
    "        types+= [d['QueryType'] for d in data['data']]\n",
    "        queries+= [d['QueryText'] for d in data['data']]\n",
    "        answers+= [d['KccAns'] for d in data['data']]\n",
    "        state+= [d['StateName'] for d in data['data']]\n",
    "        district+= [d['DistrictName'] for d in data['data']]\n",
    "        block+= [d['BlockName'] for d in data['data']]\n",
    "        datetime+= [d['CreatedOn'] for d in data['data']]\n",
    "\n",
    "    #Converting the combined data into a dataframe\n",
    "    data_pd = pd.DataFrame(data={'Season': season,\n",
    "                                 'Sector':sector,\n",
    "                                 'Category':category,\n",
    "                                 'Crop':crop,\n",
    "                                 'QueryType':types,\n",
    "                                 'Query':queries,\n",
    "                                 'Answer':answers,\n",
    "                                 'State':state,\n",
    "                                 'District':district,\n",
    "                                 'Block':block,\n",
    "                                 'DateTime':datetime})\n",
    "    data_pd = data_pd.drop_duplicates()\n",
    "    print('Number of Observations in the KCC data of {}'.format(state_name),len(data_pd))\n",
    "\n",
    "    # Exporting Data to Excel file\n",
    "    data_pd.to_csv(r\"C:\\Users\\Manan Arora\\Desktop\\Plaksha TLF\\Term 2\\DataX Project\\Agriculture\\Datatsets\\KCC-{}-2Years.csv\".format(state_name),index=False)\n",
    "    \n",
    "    print ('All files data compiled into excel for the state of {}'.format(state_name))"
   ]
  },
  {
   "cell_type": "markdown",
   "metadata": {},
   "source": [
    "### Running the function"
   ]
  },
  {
   "cell_type": "code",
   "execution_count": null,
   "metadata": {},
   "outputs": [],
   "source": [
    "kccstate(state_name=\"Haryana\")"
   ]
  }
 ],
 "metadata": {
  "kernelspec": {
   "display_name": "Python 3",
   "language": "python",
   "name": "python3"
  },
  "language_info": {
   "codemirror_mode": {
    "name": "ipython",
    "version": 3
   },
   "file_extension": ".py",
   "mimetype": "text/x-python",
   "name": "python",
   "nbconvert_exporter": "python",
   "pygments_lexer": "ipython3",
   "version": "3.7.3"
  }
 },
 "nbformat": 4,
 "nbformat_minor": 4
}
